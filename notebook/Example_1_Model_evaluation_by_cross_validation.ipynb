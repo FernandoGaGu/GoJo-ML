{
 "cells": [
  {
   "cell_type": "markdown",
   "id": "58f7a7f8-ef96-4838-ab71-67ab354c1922",
   "metadata": {},
   "source": [
    "# __Model evaluation by cross validation__\n",
    "\n",
    "This example shows a basic use case when developing Machine Learning models, the estimation of the generalization capacity of the model. This example uses the toy Wine dataset to perform the tests. It is a super simple dataset but for purposes of showing the basic operation of the module it serves its purpose.\n",
    "\n",
    "\n",
    "__Why cross-validation?__\n",
    "\n",
    "Cross-validation is crucial in evaluating machine learning models because it provides a more reliable estimate of the model's performance. Here's a brief explanation:\n",
    "\n",
    "1. Robust Performance Evaluation: Cross-validation involves splitting the dataset into multiple subsets and training the model multiple times, each time using a different subset as the validation set. This ensures that the model is tested on various data points, leading to a more accurate assessment of its generalization ability.\n",
    "\n",
    "2. Reduced Overfitting: By evaluating the model on different splits of the data, cross-validation helps detect overfitting. A model that performs well on one particular split but poorly on others is likely overfitting to the training data.\n",
    "\n",
    "3. Better Use of Data: Cross-validation makes efficient use of the available data, especially in cases where the dataset is limited. By rotating the training and validation sets, it ensures that every data point is used for both training and validation, providing a comprehensive evaluation.\n",
    "\n",
    "4. Model Selection: It aids in model selection and hyperparameter tuning. By comparing performance across different models or hyperparameter settings using cross-validation, one can choose the best-performing model or configuration with greater confidence."
   ]
  },
  {
   "cell_type": "code",
   "execution_count": 1,
   "id": "0e21e01e-9787-4fd3-8d08-dd27e25938e4",
   "metadata": {},
   "outputs": [
    {
     "name": "stderr",
     "output_type": "stream",
     "text": [
      "C:\\Users\\fgarcia\\anaconda3\\envs\\mlv0\\lib\\site-packages\\tqdm\\auto.py:21: TqdmWarning: IProgress not found. Please update jupyter and ipywidgets. See https://ipywidgets.readthedocs.io/en/stable/user_install.html\n",
      "  from .autonotebook import tqdm as notebook_tqdm\n"
     ]
    }
   ],
   "source": [
    "import pandas as pd\n",
    "import matplotlib.pyplot as plt\n",
    "from sklearn import datasets\n",
    "from sklearn.svm import SVC\n",
    "from sklearn.preprocessing import StandardScaler\n",
    "from sklearn.manifold import TSNE\n",
    "\n",
    "# for a simpler use, we load the different submodules of the library\n",
    "#     - the gojo.core module contains all the subroutines used to evaluate the models\n",
    "#     - the gojo.interfaces module provides a standardized way to interact with the different elements of gojo.core\n",
    "#     - the gojo.util module implements some utilities\n",
    "from gojo import core\n",
    "from gojo import interfaces\n",
    "from gojo import util\n"
   ]
  },
  {
   "cell_type": "markdown",
   "id": "275d6dd1-9f6f-46b2-8821-8c1a90f07281",
   "metadata": {},
   "source": [
    "The Wine dataset is a classic dataset used in machine learning for classification tasks. It contains data on various chemical properties of wines derived from three different cultivars of grapes. Here is a brief description of the typical Wine dataset:\n",
    "\n",
    "__Purpose__: The Wine dataset is primarily used for classification tasks, where the goal is to predict the class of wine (cultivar) based on its chemical properties.\n",
    "\n",
    "__Features__: The dataset includes 13 continuous features, which are:\n",
    "\n",
    "- Alcohol\n",
    "- Malic acid\n",
    "- Ash\n",
    "- Alcalinity of ash\n",
    "- Magnesium\n",
    "- Total phenols\n",
    "- Flavanoids\n",
    "- Nonflavanoid phenols\n",
    "- Proanthocyanins\n",
    "- Color intensity\n",
    "- Hue\n",
    "- OD280/OD315 of diluted wines\n",
    "- Proline\n",
    "\n",
    "__Target Variable__: The target variable is the class label, which indicates the cultivar of the wine. There are three classes:\n",
    "\n",
    "- Class 1\n",
    "- Class 2\n",
    "- Class 3\n",
    "\n",
    "__Sample Size__: The dataset consists of 178 instances.\n",
    "\n",
    "__Source__: The dataset was created by M. Forina, et al. and is often referenced in the UCI Machine Learning Repository."
   ]
  },
  {
   "cell_type": "code",
   "execution_count": 2,
   "id": "8a94cdbb-5f90-4cab-a08d-617ba7970cf9",
   "metadata": {},
   "outputs": [
    {
     "data": {
      "text/plain": [
       "((178, 13), (178,))"
      ]
     },
     "execution_count": 2,
     "metadata": {},
     "output_type": "execute_result"
    }
   ],
   "source": [
    "# load test dataset (Wine)\n",
    "wine_dt = datasets.load_wine()\n",
    "\n",
    "# create the target variable. Classification problem 0 vs rest\n",
    "# to see the target names you can use wine_dt['target_names']\n",
    "y = (wine_dt['target'] == 1).astype(int)  \n",
    "X = wine_dt['data']\n",
    "\n",
    "X.shape, y.shape"
   ]
  },
  {
   "cell_type": "markdown",
   "id": "23f2bfd0-7461-4b00-9506-17242e78eaad",
   "metadata": {},
   "source": [
    "## __Definition and evaluation of a Support Vector Machine (SVM) model__\n",
    "\n",
    "In this case we will go naive to define a model based on support vector machines (SVM) using a polynomial kernel in a straightforward way (without any data processing).\n",
    "\n",
    "### __Understanding SVMs with Polynomial Kernels__\n",
    "\n",
    "> __This introduction to SVMs can be skipped__\n",
    "\n",
    "\n",
    "#### __Introduction to SVM__\n",
    "\n",
    "Support Vector Machines are a powerful set of supervised learning algorithms used for classification and regression tasks. The core idea behind SVMs is to find a hyperplane that best separates the data points of different classes in a high-dimensional space.\n",
    "\n",
    "#### __The Mathematical Foundation - Hyperplane__\n",
    "\n",
    "In a binary classification problem, an SVM aims to find the optimal hyperplane that separates the data points into two classes. A hyperplane in an \\(n\\)-dimensional space is defined by the equation:\n",
    "\n",
    "$$ \\mathbf{w} \\cdot \\mathbf{x} + b = 0  $$\n",
    "\n",
    "where:\n",
    "- $\\mathbf{w}$ is the weight vector perpendicular to the hyperplane.\n",
    "- $\\mathbf{x}$ is the feature vector.\n",
    "- $b$ is the bias term.\n",
    "\n",
    "#### __The Mathematical Foundation - Maximizing the Margin__\n",
    "\n",
    "The objective of an SVM is to maximize the margin, which is the distance between the hyperplane and the nearest data points from each class. These nearest points are called support vectors. The margin $M$ is given by:\n",
    "\n",
    "$$ M = \\frac{2}{\\|\\mathbf{w}\\|} $$\n",
    "\n",
    "Maximizing the margin is equivalent to minimizing $ \\|\\mathbf{w}\\|^2 $, subject to the constraint that all data points are correctly classified:\n",
    "\n",
    "$$ y_i (\\mathbf{w} \\cdot \\mathbf{x}_i + b) \\geq 1 $$\n",
    "\n",
    "for all $i$, where $ y_i $ is the class label of $ \\mathbf{x}_i $.\n",
    "\n",
    "#### __The Mathematical Foundation - The Optimization Problem__\n",
    "\n",
    "This leads to the following optimization problem:\n",
    "\n",
    "Minimize:\n",
    "$$ \\frac{1}{2} \\|\\mathbf{w}\\|^2 $$\n",
    "\n",
    "Subject to:\n",
    "$$ y_i (\\mathbf{w} \\cdot \\mathbf{x}_i + b) \\geq 1 $$\n",
    "\n",
    "#### __The Mathematical Foundation - Introducing Kernels__\n",
    "\n",
    "In many cases, the data is not linearly separable in the original feature space. SVMs address this by using kernel functions to map the data into a higher-dimensional space where it becomes linearly separable. One common kernel is the polynomial kernel.\n",
    "\n",
    "- Polynomial Kernel\n",
    "\n",
    "The polynomial kernel allows the SVM to fit non-linear decision boundaries. It is defined as:\n",
    "\n",
    "$$ K(\\mathbf{x}_i, \\mathbf{x}_j) = (\\mathbf{x}_i \\cdot \\mathbf{x}_j + c)^d $$\n",
    "\n",
    "where:\n",
    "- $(\\mathbf{x}_i \\cdot \\mathbf{x}_j)$ is the dot product of the input vectors.\n",
    "- $ c $ is a constant that trades off the influence of higher-order versus lower-order terms.\n",
    "- $ d $ is the degree of the polynomial.\n",
    "\n",
    "- How It Works\n",
    "\n",
    "1. **Mapping to Higher Dimensions**: The polynomial kernel maps the input features into a higher-dimensional space without explicitly computing the coordinates in that space. This is computationally efficient and allows the SVM to find complex decision boundaries.\n",
    "   \n",
    "2. **Dual Formulation**: The SVM problem can be solved in its dual form, where the optimization problem depends on the dot products of the input vectors. The polynomial kernel replaces these dot products, effectively transforming the problem into a higher-dimensional space.\n",
    "\n",
    "- The Dual Optimization Problem\n",
    "\n",
    "Using the polynomial kernel, the dual form of the optimization problem becomes:\n",
    "\n",
    "Maximize:\n",
    "$$ \\sum_{i=1}^{n} \\alpha_i - \\frac{1}{2} \\sum_{i=1}^{n} \\sum_{j=1}^{n} \\alpha_i \\alpha_j y_i y_j K(\\mathbf{x}_i, \\mathbf{x}_j) $$\n",
    "\n",
    "Subject to:\n",
    "$$ \\sum_{i=1}^{n} \\alpha_i y_i = 0 $$\n",
    "$$ 0 \\leq \\alpha_i \\leq C $$\n",
    "\n",
    "where \\( \\alpha_i \\) are the Lagrange multipliers and \\(C\\) is a regularization parameter that controls the trade-off between maximizing the margin and minimizing the classification error.\n",
    "\n",
    "Support Vector Machines with polynomial kernels are a powerful tool for classification tasks, especially when dealing with non-linear data. By transforming the input space into a higher-dimensional feature space, SVMs can find complex decision boundaries that separate the classes effectively. The polynomial kernel is particularly useful for capturing interactions between features up to a certain degree, making SVMs a versatile choice for many machine learning problems.\n"
   ]
  },
  {
   "cell_type": "markdown",
   "id": "a8d5fb1d-cf15-4caa-9ea0-253063b02c1c",
   "metadata": {},
   "source": [
    "### __Hands-on__\n",
    "In order for the sklearn SVM model to be used in gojo we can use the __SklearnModelWrapper__ interface.\n",
    "\n",
    "This class simply needs to be provided with the class of a sklearn model (or any other class that is a subclass of __sklearn.base.BaseEstimator__), and then optional parameters used to initialize instances of the class provided in _model_class_.\n",
    "\n",
    "> for more information use __help(interfaces.SklearnModelWrapper)__"
   ]
  },
  {
   "cell_type": "code",
   "execution_count": 3,
   "id": "8d589492-283a-48ff-9c1e-135fdfb27e7d",
   "metadata": {},
   "outputs": [
    {
     "data": {
      "text/plain": [
       "SklearnModelWrapper(\n",
       "    base_model='sklearn.svm._classes.SVC',\n",
       "    model_params={'kernel': 'poly', 'degree': 1, 'coef0': 0.0, 'cache_size': 1000, 'class_weight': None},\n",
       "    predict_proba=False,\n",
       "    supress_warnings=False\n",
       ")"
      ]
     },
     "execution_count": 3,
     "metadata": {},
     "output_type": "execute_result"
    }
   ],
   "source": [
    "model = interfaces.SklearnModelWrapper(\n",
    "    model_class=SVC,\n",
    "    kernel='poly', degree=1, coef0=0.0,\n",
    "    cache_size=1000, class_weight=None\n",
    ")\n",
    "model"
   ]
  },
  {
   "cell_type": "code",
   "execution_count": 4,
   "id": "fe3cd02f-a875-4bc5-a981-e1363de4cacb",
   "metadata": {},
   "outputs": [
    {
     "data": {
      "text/plain": [
       "{'kernel': 'poly',\n",
       " 'degree': 1,\n",
       " 'coef0': 0.0,\n",
       " 'cache_size': 1000,\n",
       " 'class_weight': None}"
      ]
     },
     "execution_count": 4,
     "metadata": {},
     "output_type": "execute_result"
    }
   ],
   "source": [
    "# to access a dictionary with the parameters provided to the model\n",
    "model.getParameters()"
   ]
  },
  {
   "cell_type": "markdown",
   "id": "e5a0b918-0c21-44cf-81d1-f0e75cfc4e84",
   "metadata": {},
   "source": [
    "Let's try some inference without having trained the model yet."
   ]
  },
  {
   "cell_type": "code",
   "execution_count": 5,
   "id": "18261eef-29c0-478c-b626-0b2067e9a20e",
   "metadata": {},
   "outputs": [
    {
     "name": "stdout",
     "output_type": "stream",
     "text": [
      "<class 'gojo.exception.UnfittedEstimator'> Before making inferences through a model by calling the \"performInferences()\" method, it is necessary to adjust the model by calling the \"train()\" method.\n"
     ]
    }
   ],
   "source": [
    "try:\n",
    "    model.performInference(X)\n",
    "except Exception as ex:\n",
    "    print(type(ex), ex)"
   ]
  },
  {
   "cell_type": "markdown",
   "id": "25d6cf60-af05-4b6e-9ef4-7f7c849d591e",
   "metadata": {},
   "source": [
    "In this case we get an exception indicating that before making inferences the model must be adjusted. To do this let's call the method train"
   ]
  },
  {
   "cell_type": "code",
   "execution_count": 6,
   "id": "9bb32ede-4389-40fd-b0f3-e366f6d077de",
   "metadata": {},
   "outputs": [],
   "source": [
    "model.train(X, y)\n",
    "y_hat = model.performInference(X)"
   ]
  },
  {
   "cell_type": "code",
   "execution_count": 7,
   "id": "add64fdf-f7e4-404d-a4cf-aff61e25cd23",
   "metadata": {},
   "outputs": [
    {
     "data": {
      "text/plain": [
       "array([0, 0, 0, 0, 0, 0, 0, 0, 0, 0, 0, 0, 0, 0, 0, 0, 0, 0, 0, 0, 0, 0,\n",
       "       0, 0, 0, 0, 0, 0, 0, 0, 0, 0, 0, 0, 0, 0, 0, 0, 0, 0, 0, 0, 0, 0,\n",
       "       0, 0, 0, 0, 0, 0, 0, 0, 0, 0, 0, 0, 0, 0, 0, 1, 0, 1, 0, 1, 1, 0,\n",
       "       1, 1, 0, 0, 0, 1, 1, 0, 0, 1, 1, 1, 0, 1, 1, 0, 0, 1, 1, 1, 1, 1,\n",
       "       0, 1, 1, 1, 1, 1, 1, 0, 0, 1, 0, 1, 0, 1, 1, 1, 0, 1, 1, 1, 1, 0,\n",
       "       1, 1, 1, 1, 1, 1, 1, 1, 1, 1, 0, 1, 1, 1, 1, 1, 1, 1, 1, 1, 0, 1,\n",
       "       1, 1, 0, 0, 0, 1, 1, 1, 1, 0, 1, 1, 0, 0, 1, 0, 0, 1, 1, 1, 1, 0,\n",
       "       0, 0, 1, 0, 0, 1, 1, 0, 1, 0, 1, 1, 0, 0, 0, 0, 1, 1, 0, 0, 0, 0,\n",
       "       0, 1])"
      ]
     },
     "execution_count": 7,
     "metadata": {},
     "output_type": "execute_result"
    }
   ],
   "source": [
    "y_hat"
   ]
  },
  {
   "cell_type": "markdown",
   "id": "ca31150e-8081-4fa6-8b92-ceb4c7a9af58",
   "metadata": {},
   "source": [
    "Now let's make a quick calculation of the model's accuracy"
   ]
  },
  {
   "cell_type": "code",
   "execution_count": 8,
   "id": "701d9f08-4e98-4878-adff-e0afb9160706",
   "metadata": {},
   "outputs": [
    {
     "name": "stdout",
     "output_type": "stream",
     "text": [
      "Accuracy: 76.40%\n"
     ]
    }
   ],
   "source": [
    "print('Accuracy: {:.2f}%'.format((y_hat == y).mean()*100))"
   ]
  },
  {
   "cell_type": "markdown",
   "id": "b70ccbfa-6874-409c-a50f-d2d389aa35b3",
   "metadata": {},
   "source": [
    "If we want to reset the internal state of the model to forget previous settings we can use the __resetFit__ method"
   ]
  },
  {
   "cell_type": "code",
   "execution_count": 9,
   "id": "31c17116-31c2-46f4-9307-09e474e25ae3",
   "metadata": {},
   "outputs": [
    {
     "data": {
      "text/plain": [
       "True"
      ]
     },
     "execution_count": 9,
     "metadata": {},
     "output_type": "execute_result"
    }
   ],
   "source": [
    "model.is_fitted"
   ]
  },
  {
   "cell_type": "code",
   "execution_count": 10,
   "id": "ea8d5676-e9b3-4bf9-b5b9-88c7ab214626",
   "metadata": {},
   "outputs": [],
   "source": [
    "model.resetFit()  # reset previous model fits"
   ]
  },
  {
   "cell_type": "code",
   "execution_count": 11,
   "id": "9d206328-e16f-4633-8fba-ff8f9e61a7e5",
   "metadata": {},
   "outputs": [
    {
     "data": {
      "text/plain": [
       "False"
      ]
     },
     "execution_count": 11,
     "metadata": {},
     "output_type": "execute_result"
    }
   ],
   "source": [
    "model.is_fitted"
   ]
  },
  {
   "cell_type": "markdown",
   "id": "777942c1-e765-4a86-9407-d1306c2ee482",
   "metadata": {},
   "source": [
    "We see that using a point-blank model without training and testing it on the same data we can expect an accuracy of 76.40%. Let us now try to evaluate it by cross-validation. For this we can use the function __core.evalCrossVal__\n",
    "\n",
    "> for more information use __help(core.evalCrossVal)__\n",
    "\n",
    "To evaluate the model we will load a cross validation object using the gojo utilities module, for example a 5-fold cross validation sklearn object with class stratification.\n",
    "\n",
    "> for more information use __help(util.splitter.getCrossValObj)__"
   ]
  },
  {
   "cell_type": "code",
   "execution_count": 12,
   "id": "fe2f15b4-74cf-4e6e-a00c-c2f764ebab2c",
   "metadata": {},
   "outputs": [
    {
     "data": {
      "text/plain": [
       "RepeatedStratifiedKFold(n_repeats=1, n_splits=5, random_state=None)"
      ]
     },
     "execution_count": 12,
     "metadata": {},
     "output_type": "execute_result"
    }
   ],
   "source": [
    "cv_obj = util.splitter.getCrossValObj(cv=5, repeats=1, stratified=True)\n",
    "cv_obj"
   ]
  },
  {
   "cell_type": "markdown",
   "id": "aa121100-30a8-415d-84a6-03ff616a13a5",
   "metadata": {},
   "source": [
    "With the data, the model and a way to evaluate the model, a cross validation can now be performed.  The result of calling this function will be an object of type __gojo.core.CVReport__."
   ]
  },
  {
   "cell_type": "code",
   "execution_count": 13,
   "id": "14cd26c5-1887-4625-9ce8-aa22d56a5384",
   "metadata": {},
   "outputs": [
    {
     "name": "stderr",
     "output_type": "stream",
     "text": [
      "Performing cross-validation...: 5it [00:00, 987.96it/s]\n"
     ]
    },
    {
     "data": {
      "text/plain": [
       "<gojo.core.report.CVReport at 0x26c7351b640>"
      ]
     },
     "execution_count": 13,
     "metadata": {},
     "output_type": "execute_result"
    }
   ],
   "source": [
    "cv_report = core.evalCrossVal(\n",
    "    X=X,\n",
    "    y=y,\n",
    "    model=model,\n",
    "    cv=cv_obj,\n",
    ")\n",
    "cv_report"
   ]
  },
  {
   "cell_type": "markdown",
   "id": "aec65471-e58e-491e-ba4d-80d6b56239f3",
   "metadata": {},
   "source": [
    "The class __gojo.core.CVReport__ implements some interesting functionalities, let's see some of them directly using the code:"
   ]
  },
  {
   "cell_type": "code",
   "execution_count": 14,
   "id": "b3a5ea27-0c38-4193-a4b0-6ca45dda0e9c",
   "metadata": {},
   "outputs": [
    {
     "data": {
      "text/html": [
       "<div>\n",
       "<style scoped>\n",
       "    .dataframe tbody tr th:only-of-type {\n",
       "        vertical-align: middle;\n",
       "    }\n",
       "\n",
       "    .dataframe tbody tr th {\n",
       "        vertical-align: top;\n",
       "    }\n",
       "\n",
       "    .dataframe thead th {\n",
       "        text-align: right;\n",
       "    }\n",
       "</style>\n",
       "<table border=\"1\" class=\"dataframe\">\n",
       "  <thead>\n",
       "    <tr style=\"text-align: right;\">\n",
       "      <th></th>\n",
       "      <th></th>\n",
       "      <th>pred_labels</th>\n",
       "      <th>true_labels</th>\n",
       "    </tr>\n",
       "    <tr>\n",
       "      <th>n_fold</th>\n",
       "      <th>indices</th>\n",
       "      <th></th>\n",
       "      <th></th>\n",
       "    </tr>\n",
       "  </thead>\n",
       "  <tbody>\n",
       "    <tr>\n",
       "      <th rowspan=\"5\" valign=\"top\">0</th>\n",
       "      <th>9</th>\n",
       "      <td>0</td>\n",
       "      <td>0</td>\n",
       "    </tr>\n",
       "    <tr>\n",
       "      <th>13</th>\n",
       "      <td>0</td>\n",
       "      <td>0</td>\n",
       "    </tr>\n",
       "    <tr>\n",
       "      <th>17</th>\n",
       "      <td>0</td>\n",
       "      <td>0</td>\n",
       "    </tr>\n",
       "    <tr>\n",
       "      <th>20</th>\n",
       "      <td>0</td>\n",
       "      <td>0</td>\n",
       "    </tr>\n",
       "    <tr>\n",
       "      <th>21</th>\n",
       "      <td>0</td>\n",
       "      <td>0</td>\n",
       "    </tr>\n",
       "    <tr>\n",
       "      <th>...</th>\n",
       "      <th>...</th>\n",
       "      <td>...</td>\n",
       "      <td>...</td>\n",
       "    </tr>\n",
       "    <tr>\n",
       "      <th rowspan=\"5\" valign=\"top\">4</th>\n",
       "      <th>153</th>\n",
       "      <td>0</td>\n",
       "      <td>0</td>\n",
       "    </tr>\n",
       "    <tr>\n",
       "      <th>158</th>\n",
       "      <td>0</td>\n",
       "      <td>0</td>\n",
       "    </tr>\n",
       "    <tr>\n",
       "      <th>159</th>\n",
       "      <td>1</td>\n",
       "      <td>0</td>\n",
       "    </tr>\n",
       "    <tr>\n",
       "      <th>170</th>\n",
       "      <td>1</td>\n",
       "      <td>0</td>\n",
       "    </tr>\n",
       "    <tr>\n",
       "      <th>172</th>\n",
       "      <td>0</td>\n",
       "      <td>0</td>\n",
       "    </tr>\n",
       "  </tbody>\n",
       "</table>\n",
       "<p>178 rows × 2 columns</p>\n",
       "</div>"
      ],
      "text/plain": [
       "                pred_labels  true_labels\n",
       "n_fold indices                          \n",
       "0      9                  0            0\n",
       "       13                 0            0\n",
       "       17                 0            0\n",
       "       20                 0            0\n",
       "       21                 0            0\n",
       "...                     ...          ...\n",
       "4      153                0            0\n",
       "       158                0            0\n",
       "       159                1            0\n",
       "       170                1            0\n",
       "       172                0            0\n",
       "\n",
       "[178 rows x 2 columns]"
      ]
     },
     "execution_count": 14,
     "metadata": {},
     "output_type": "execute_result"
    }
   ],
   "source": [
    "cv_report.getTestPredictions()  # access to all the predictions made on the test"
   ]
  },
  {
   "cell_type": "markdown",
   "id": "263f5be5-3dec-4829-88c2-3a9bc22d3193",
   "metadata": {},
   "source": [
    "By passing it a list of metrics (for example those already defined in gojo.core.evaluation) we can directly obtain an evaluation of the model.\n",
    "\n",
    "Note that this list of metrics are instances of the __gojo.core.Metrics__ class."
   ]
  },
  {
   "cell_type": "code",
   "execution_count": 15,
   "id": "ddd9cc17-825f-4aa3-90b6-a07e0e152833",
   "metadata": {},
   "outputs": [
    {
     "data": {
      "text/plain": [
       "{'test':    accuracy  balanced_accuracy  precision    recall  sensitivity  specificity  \\\n",
       " 0  0.694444           0.685065   0.600000  0.642857     0.642857     0.727273   \n",
       " 1  0.750000           0.730519   0.692308  0.642857     0.642857     0.818182   \n",
       " 2  0.805556           0.804762   0.750000  0.800000     0.800000     0.809524   \n",
       " 3  0.828571           0.833333   0.750000  0.857143     0.857143     0.809524   \n",
       " 4  0.742857           0.738095   0.666667  0.714286     0.714286     0.761905   \n",
       " \n",
       "    negative_predictive_value  f1_score       auc  n_fold  \n",
       " 0                   0.761905  0.620690  0.685065       0  \n",
       " 1                   0.782609  0.666667  0.730519       1  \n",
       " 2                   0.850000  0.774194  0.804762       2  \n",
       " 3                   0.894737  0.800000  0.833333       3  \n",
       " 4                   0.800000  0.689655  0.738095       4  ,\n",
       " 'train': None}"
      ]
     },
     "execution_count": 15,
     "metadata": {},
     "output_type": "execute_result"
    }
   ],
   "source": [
    "model_performance = cv_report.getScores(core.getDefaultMetrics('binary_classification'), supress_warnings=True)\n",
    "model_performance"
   ]
  },
  {
   "cell_type": "markdown",
   "id": "0d015881-1b87-48fa-8871-63082d08df68",
   "metadata": {},
   "source": [
    "We see that this returns a dictionary of dataframes. In this case the dictionary only has one key which is test."
   ]
  },
  {
   "cell_type": "code",
   "execution_count": 16,
   "id": "b3551dc4-b97b-4f25-9780-7d5d63534681",
   "metadata": {},
   "outputs": [
    {
     "data": {
      "text/html": [
       "<div>\n",
       "<style scoped>\n",
       "    .dataframe tbody tr th:only-of-type {\n",
       "        vertical-align: middle;\n",
       "    }\n",
       "\n",
       "    .dataframe tbody tr th {\n",
       "        vertical-align: top;\n",
       "    }\n",
       "\n",
       "    .dataframe thead th {\n",
       "        text-align: right;\n",
       "    }\n",
       "</style>\n",
       "<table border=\"1\" class=\"dataframe\">\n",
       "  <thead>\n",
       "    <tr style=\"text-align: right;\">\n",
       "      <th></th>\n",
       "      <th>accuracy</th>\n",
       "      <th>balanced_accuracy</th>\n",
       "      <th>precision</th>\n",
       "      <th>recall</th>\n",
       "      <th>sensitivity</th>\n",
       "      <th>specificity</th>\n",
       "      <th>negative_predictive_value</th>\n",
       "      <th>f1_score</th>\n",
       "      <th>auc</th>\n",
       "      <th>n_fold</th>\n",
       "    </tr>\n",
       "  </thead>\n",
       "  <tbody>\n",
       "    <tr>\n",
       "      <th>0</th>\n",
       "      <td>0.694444</td>\n",
       "      <td>0.685065</td>\n",
       "      <td>0.600000</td>\n",
       "      <td>0.642857</td>\n",
       "      <td>0.642857</td>\n",
       "      <td>0.727273</td>\n",
       "      <td>0.761905</td>\n",
       "      <td>0.620690</td>\n",
       "      <td>0.685065</td>\n",
       "      <td>0</td>\n",
       "    </tr>\n",
       "    <tr>\n",
       "      <th>1</th>\n",
       "      <td>0.750000</td>\n",
       "      <td>0.730519</td>\n",
       "      <td>0.692308</td>\n",
       "      <td>0.642857</td>\n",
       "      <td>0.642857</td>\n",
       "      <td>0.818182</td>\n",
       "      <td>0.782609</td>\n",
       "      <td>0.666667</td>\n",
       "      <td>0.730519</td>\n",
       "      <td>1</td>\n",
       "    </tr>\n",
       "    <tr>\n",
       "      <th>2</th>\n",
       "      <td>0.805556</td>\n",
       "      <td>0.804762</td>\n",
       "      <td>0.750000</td>\n",
       "      <td>0.800000</td>\n",
       "      <td>0.800000</td>\n",
       "      <td>0.809524</td>\n",
       "      <td>0.850000</td>\n",
       "      <td>0.774194</td>\n",
       "      <td>0.804762</td>\n",
       "      <td>2</td>\n",
       "    </tr>\n",
       "    <tr>\n",
       "      <th>3</th>\n",
       "      <td>0.828571</td>\n",
       "      <td>0.833333</td>\n",
       "      <td>0.750000</td>\n",
       "      <td>0.857143</td>\n",
       "      <td>0.857143</td>\n",
       "      <td>0.809524</td>\n",
       "      <td>0.894737</td>\n",
       "      <td>0.800000</td>\n",
       "      <td>0.833333</td>\n",
       "      <td>3</td>\n",
       "    </tr>\n",
       "    <tr>\n",
       "      <th>4</th>\n",
       "      <td>0.742857</td>\n",
       "      <td>0.738095</td>\n",
       "      <td>0.666667</td>\n",
       "      <td>0.714286</td>\n",
       "      <td>0.714286</td>\n",
       "      <td>0.761905</td>\n",
       "      <td>0.800000</td>\n",
       "      <td>0.689655</td>\n",
       "      <td>0.738095</td>\n",
       "      <td>4</td>\n",
       "    </tr>\n",
       "  </tbody>\n",
       "</table>\n",
       "</div>"
      ],
      "text/plain": [
       "   accuracy  balanced_accuracy  precision    recall  sensitivity  specificity  \\\n",
       "0  0.694444           0.685065   0.600000  0.642857     0.642857     0.727273   \n",
       "1  0.750000           0.730519   0.692308  0.642857     0.642857     0.818182   \n",
       "2  0.805556           0.804762   0.750000  0.800000     0.800000     0.809524   \n",
       "3  0.828571           0.833333   0.750000  0.857143     0.857143     0.809524   \n",
       "4  0.742857           0.738095   0.666667  0.714286     0.714286     0.761905   \n",
       "\n",
       "   negative_predictive_value  f1_score       auc  n_fold  \n",
       "0                   0.761905  0.620690  0.685065       0  \n",
       "1                   0.782609  0.666667  0.730519       1  \n",
       "2                   0.850000  0.774194  0.804762       2  \n",
       "3                   0.894737  0.800000  0.833333       3  \n",
       "4                   0.800000  0.689655  0.738095       4  "
      ]
     },
     "execution_count": 16,
     "metadata": {},
     "output_type": "execute_result"
    }
   ],
   "source": [
    "model_performance['test']"
   ]
  },
  {
   "cell_type": "markdown",
   "id": "948cbaec-7477-4a76-ac10-7dd55f9eeb8e",
   "metadata": {},
   "source": [
    "From here it is easy to calculate the average cross-validation performance. Let's format the result a bit..."
   ]
  },
  {
   "cell_type": "code",
   "execution_count": 17,
   "id": "2820c9e1-5438-4c44-958e-0a2e143d6add",
   "metadata": {},
   "outputs": [
    {
     "data": {
      "text/html": [
       "<div>\n",
       "<style scoped>\n",
       "    .dataframe tbody tr th:only-of-type {\n",
       "        vertical-align: middle;\n",
       "    }\n",
       "\n",
       "    .dataframe tbody tr th {\n",
       "        vertical-align: top;\n",
       "    }\n",
       "\n",
       "    .dataframe thead th {\n",
       "        text-align: right;\n",
       "    }\n",
       "</style>\n",
       "<table border=\"1\" class=\"dataframe\">\n",
       "  <thead>\n",
       "    <tr style=\"text-align: right;\">\n",
       "      <th></th>\n",
       "      <th>Performance</th>\n",
       "    </tr>\n",
       "  </thead>\n",
       "  <tbody>\n",
       "    <tr>\n",
       "      <th>accuracy</th>\n",
       "      <td>0.764</td>\n",
       "    </tr>\n",
       "    <tr>\n",
       "      <th>balanced_accuracy</th>\n",
       "      <td>0.758</td>\n",
       "    </tr>\n",
       "    <tr>\n",
       "      <th>precision</th>\n",
       "      <td>0.692</td>\n",
       "    </tr>\n",
       "    <tr>\n",
       "      <th>recall</th>\n",
       "      <td>0.731</td>\n",
       "    </tr>\n",
       "    <tr>\n",
       "      <th>sensitivity</th>\n",
       "      <td>0.731</td>\n",
       "    </tr>\n",
       "    <tr>\n",
       "      <th>specificity</th>\n",
       "      <td>0.785</td>\n",
       "    </tr>\n",
       "    <tr>\n",
       "      <th>negative_predictive_value</th>\n",
       "      <td>0.818</td>\n",
       "    </tr>\n",
       "    <tr>\n",
       "      <th>f1_score</th>\n",
       "      <td>0.710</td>\n",
       "    </tr>\n",
       "    <tr>\n",
       "      <th>auc</th>\n",
       "      <td>0.758</td>\n",
       "    </tr>\n",
       "  </tbody>\n",
       "</table>\n",
       "</div>"
      ],
      "text/plain": [
       "                           Performance\n",
       "accuracy                         0.764\n",
       "balanced_accuracy                0.758\n",
       "precision                        0.692\n",
       "recall                           0.731\n",
       "sensitivity                      0.731\n",
       "specificity                      0.785\n",
       "negative_predictive_value        0.818\n",
       "f1_score                         0.710\n",
       "auc                              0.758"
      ]
     },
     "execution_count": 17,
     "metadata": {},
     "output_type": "execute_result"
    }
   ],
   "source": [
    "pd.DataFrame(model_performance['test'].mean(), columns=['Performance']).drop(index=['n_fold']).round(decimals=3)"
   ]
  },
  {
   "cell_type": "markdown",
   "id": "2a75c7f3-e491-423e-903a-fb4b2bc4c945",
   "metadata": {},
   "source": [
    "Let's see which metrics are implemented..."
   ]
  },
  {
   "cell_type": "code",
   "execution_count": 18,
   "id": "e620d01c-fa6f-48a4-a4d0-25316357f35f",
   "metadata": {},
   "outputs": [
    {
     "data": {
      "text/plain": [
       "{'binary_classification': ['accuracy',\n",
       "  'balanced_accuracy',\n",
       "  'precision',\n",
       "  'recall',\n",
       "  'sensitivity',\n",
       "  'specificity',\n",
       "  'npv',\n",
       "  'f1_score',\n",
       "  'auc'],\n",
       " 'regression': ['explained_variance',\n",
       "  'mse',\n",
       "  'mae',\n",
       "  'r2_score',\n",
       "  'pearson_correlation']}"
      ]
     },
     "execution_count": 18,
     "metadata": {},
     "output_type": "execute_result"
    }
   ],
   "source": [
    "core.getAvailableDefaultMetrics()"
   ]
  },
  {
   "cell_type": "code",
   "execution_count": 19,
   "id": "aaf03644-c2fa-4ce6-afd0-fbf12877498c",
   "metadata": {},
   "outputs": [
    {
     "data": {
      "text/plain": [
       "[Metric(\n",
       "     name=accuracy,\n",
       "     function_kw={},\n",
       "     multiclass=False\n",
       " ),\n",
       " Metric(\n",
       "     name=balanced_accuracy,\n",
       "     function_kw={},\n",
       "     multiclass=False\n",
       " )]"
      ]
     },
     "execution_count": 19,
     "metadata": {},
     "output_type": "execute_result"
    }
   ],
   "source": [
    "core.getDefaultMetrics('binary_classification')[:2]"
   ]
  },
  {
   "cell_type": "code",
   "execution_count": 20,
   "id": "03d4c595-c19b-41d3-a083-ee95623b9ec3",
   "metadata": {},
   "outputs": [
    {
     "data": {
      "text/plain": [
       "[Metric(\n",
       "     name=explained_variance,\n",
       "     function_kw={},\n",
       "     multiclass=False\n",
       " ),\n",
       " Metric(\n",
       "     name=mse,\n",
       "     function_kw={},\n",
       "     multiclass=False\n",
       " )]"
      ]
     },
     "execution_count": 20,
     "metadata": {},
     "output_type": "execute_result"
    }
   ],
   "source": [
    "core.getDefaultMetrics('regression')[:2]"
   ]
  },
  {
   "cell_type": "markdown",
   "id": "f4c620ea-3695-4287-88a3-3500eab2e1d1",
   "metadata": {},
   "source": [
    "Now, what if I also want to access the training predictions? By default the predictions on the data used for training are not calculated. The rationale of this is to avoid unnecessary calculations when they are not required. However, we can specify that we want to apply the model on the training data used in each fold of the cross validation and save the results of the predictions by calling __core.evalCrossVal__ via __save_train_preds=True__.\n",
    "\n",
    "Similarly, it is also possible to keep a copy of all the models trained in each of the folds by means of the parameter __save_models__ (by default this parameter is False).\n",
    "\n",
    "> Here it should be noted that keeping a copy of the models implies a higher memory usage (similar to keeping a copy of the predictions on the training set)."
   ]
  },
  {
   "cell_type": "code",
   "execution_count": 21,
   "id": "88e4c7d9-7681-4689-a23d-976c04a595e3",
   "metadata": {},
   "outputs": [
    {
     "name": "stderr",
     "output_type": "stream",
     "text": [
      "Performing cross-validation...: 5it [00:00, 822.77it/s]\n"
     ]
    },
    {
     "data": {
      "text/plain": [
       "<gojo.core.report.CVReport at 0x26c591a3f10>"
      ]
     },
     "execution_count": 21,
     "metadata": {},
     "output_type": "execute_result"
    }
   ],
   "source": [
    "cv_report_2 = core.evalCrossVal(\n",
    "    X=X,\n",
    "    y=y,\n",
    "    model=model,\n",
    "    cv=cv_obj,\n",
    "    save_train_preds=True,\n",
    "    save_models=True\n",
    ")\n",
    "cv_report_2"
   ]
  },
  {
   "cell_type": "code",
   "execution_count": 22,
   "id": "10b99238-a116-48ef-b092-4a011a9a7a02",
   "metadata": {},
   "outputs": [
    {
     "data": {
      "text/html": [
       "<div>\n",
       "<style scoped>\n",
       "    .dataframe tbody tr th:only-of-type {\n",
       "        vertical-align: middle;\n",
       "    }\n",
       "\n",
       "    .dataframe tbody tr th {\n",
       "        vertical-align: top;\n",
       "    }\n",
       "\n",
       "    .dataframe thead th {\n",
       "        text-align: right;\n",
       "    }\n",
       "</style>\n",
       "<table border=\"1\" class=\"dataframe\">\n",
       "  <thead>\n",
       "    <tr style=\"text-align: right;\">\n",
       "      <th></th>\n",
       "      <th></th>\n",
       "      <th>pred_labels</th>\n",
       "      <th>true_labels</th>\n",
       "    </tr>\n",
       "    <tr>\n",
       "      <th>n_fold</th>\n",
       "      <th>indices</th>\n",
       "      <th></th>\n",
       "      <th></th>\n",
       "    </tr>\n",
       "  </thead>\n",
       "  <tbody>\n",
       "    <tr>\n",
       "      <th rowspan=\"5\" valign=\"top\">0</th>\n",
       "      <th>0</th>\n",
       "      <td>0</td>\n",
       "      <td>0</td>\n",
       "    </tr>\n",
       "    <tr>\n",
       "      <th>1</th>\n",
       "      <td>0</td>\n",
       "      <td>0</td>\n",
       "    </tr>\n",
       "    <tr>\n",
       "      <th>2</th>\n",
       "      <td>0</td>\n",
       "      <td>0</td>\n",
       "    </tr>\n",
       "    <tr>\n",
       "      <th>3</th>\n",
       "      <td>0</td>\n",
       "      <td>0</td>\n",
       "    </tr>\n",
       "    <tr>\n",
       "      <th>4</th>\n",
       "      <td>0</td>\n",
       "      <td>0</td>\n",
       "    </tr>\n",
       "    <tr>\n",
       "      <th>...</th>\n",
       "      <th>...</th>\n",
       "      <td>...</td>\n",
       "      <td>...</td>\n",
       "    </tr>\n",
       "    <tr>\n",
       "      <th rowspan=\"5\" valign=\"top\">4</th>\n",
       "      <th>171</th>\n",
       "      <td>1</td>\n",
       "      <td>0</td>\n",
       "    </tr>\n",
       "    <tr>\n",
       "      <th>174</th>\n",
       "      <td>0</td>\n",
       "      <td>0</td>\n",
       "    </tr>\n",
       "    <tr>\n",
       "      <th>175</th>\n",
       "      <td>0</td>\n",
       "      <td>0</td>\n",
       "    </tr>\n",
       "    <tr>\n",
       "      <th>176</th>\n",
       "      <td>0</td>\n",
       "      <td>0</td>\n",
       "    </tr>\n",
       "    <tr>\n",
       "      <th>177</th>\n",
       "      <td>1</td>\n",
       "      <td>0</td>\n",
       "    </tr>\n",
       "  </tbody>\n",
       "</table>\n",
       "<p>712 rows × 2 columns</p>\n",
       "</div>"
      ],
      "text/plain": [
       "                pred_labels  true_labels\n",
       "n_fold indices                          \n",
       "0      0                  0            0\n",
       "       1                  0            0\n",
       "       2                  0            0\n",
       "       3                  0            0\n",
       "       4                  0            0\n",
       "...                     ...          ...\n",
       "4      171                1            0\n",
       "       174                0            0\n",
       "       175                0            0\n",
       "       176                0            0\n",
       "       177                1            0\n",
       "\n",
       "[712 rows x 2 columns]"
      ]
     },
     "execution_count": 22,
     "metadata": {},
     "output_type": "execute_result"
    }
   ],
   "source": [
    "cv_report_2.getTrainPredictions()  # access to all the predictions made on the train"
   ]
  },
  {
   "cell_type": "code",
   "execution_count": 23,
   "id": "3c2dede0-f50d-4e61-bdc5-35c267810c60",
   "metadata": {},
   "outputs": [
    {
     "data": {
      "text/plain": [
       "{0: SklearnModelWrapper(\n",
       "     base_model='sklearn.svm._classes.SVC',\n",
       "     model_params={'kernel': 'poly', 'degree': 1, 'coef0': 0.0, 'cache_size': 1000, 'class_weight': None},\n",
       "     predict_proba=False,\n",
       "     supress_warnings=False\n",
       " ),\n",
       " 1: SklearnModelWrapper(\n",
       "     base_model='sklearn.svm._classes.SVC',\n",
       "     model_params={'kernel': 'poly', 'degree': 1, 'coef0': 0.0, 'cache_size': 1000, 'class_weight': None},\n",
       "     predict_proba=False,\n",
       "     supress_warnings=False\n",
       " ),\n",
       " 2: SklearnModelWrapper(\n",
       "     base_model='sklearn.svm._classes.SVC',\n",
       "     model_params={'kernel': 'poly', 'degree': 1, 'coef0': 0.0, 'cache_size': 1000, 'class_weight': None},\n",
       "     predict_proba=False,\n",
       "     supress_warnings=False\n",
       " ),\n",
       " 3: SklearnModelWrapper(\n",
       "     base_model='sklearn.svm._classes.SVC',\n",
       "     model_params={'kernel': 'poly', 'degree': 1, 'coef0': 0.0, 'cache_size': 1000, 'class_weight': None},\n",
       "     predict_proba=False,\n",
       "     supress_warnings=False\n",
       " ),\n",
       " 4: SklearnModelWrapper(\n",
       "     base_model='sklearn.svm._classes.SVC',\n",
       "     model_params={'kernel': 'poly', 'degree': 1, 'coef0': 0.0, 'cache_size': 1000, 'class_weight': None},\n",
       "     predict_proba=False,\n",
       "     supress_warnings=False\n",
       " )}"
      ]
     },
     "execution_count": 23,
     "metadata": {},
     "output_type": "execute_result"
    }
   ],
   "source": [
    "cv_report_2.getTrainedModels()   # It is also easy to access each of the models trained in each of the folds"
   ]
  },
  {
   "cell_type": "markdown",
   "id": "4eb5704c-9217-4648-bce8-27571b1bcd87",
   "metadata": {},
   "source": [
    "We can now calculate the same metrics as before on the test data and the training data to see how the model behaves."
   ]
  },
  {
   "cell_type": "code",
   "execution_count": 24,
   "id": "36a951d5-9e9a-49ac-96f5-ec7c3d32b781",
   "metadata": {},
   "outputs": [
    {
     "data": {
      "text/plain": [
       "{'test':    accuracy  balanced_accuracy  precision    recall  sensitivity  specificity  \\\n",
       " 0  0.805556           0.788961   0.769231  0.714286     0.714286     0.863636   \n",
       " 1  0.666667           0.688312   0.550000  0.785714     0.785714     0.590909   \n",
       " 2  0.777778           0.761905   0.769231  0.666667     0.666667     0.857143   \n",
       " 3  0.857143           0.880952   0.736842  1.000000     1.000000     0.761905   \n",
       " 4  0.771429           0.750000   0.750000  0.642857     0.642857     0.857143   \n",
       " \n",
       "    negative_predictive_value  f1_score       auc  n_fold  \n",
       " 0                   0.826087  0.740741  0.788961       0  \n",
       " 1                   0.812500  0.647059  0.688312       1  \n",
       " 2                   0.782609  0.714286  0.761905       2  \n",
       " 3                   1.000000  0.848485  0.880952       3  \n",
       " 4                   0.782609  0.692308  0.750000       4  ,\n",
       " 'train':    accuracy  balanced_accuracy  precision    recall  sensitivity  specificity  \\\n",
       " 0  0.746479           0.742002   0.672131  0.719298     0.719298     0.764706   \n",
       " 1  0.795775           0.794737   0.725806  0.789474     0.789474     0.800000   \n",
       " 2  0.760563           0.761836   0.671875  0.767857     0.767857     0.755814   \n",
       " 3  0.755245           0.752142   0.677419  0.736842     0.736842     0.767442   \n",
       " 4  0.769231           0.763770   0.700000  0.736842     0.736842     0.790698   \n",
       " \n",
       "    negative_predictive_value  f1_score       auc  n_fold  \n",
       " 0                   0.802469  0.694915  0.742002       0  \n",
       " 1                   0.850000  0.756303  0.794737       1  \n",
       " 2                   0.833333  0.716667  0.761836       2  \n",
       " 3                   0.814815  0.705882  0.752142       3  \n",
       " 4                   0.819277  0.717949  0.763770       4  }"
      ]
     },
     "execution_count": 24,
     "metadata": {},
     "output_type": "execute_result"
    }
   ],
   "source": [
    "model_performance_2 = cv_report_2.getScores(core.getDefaultMetrics('binary_classification'), supress_warnings=True)\n",
    "model_performance_2"
   ]
  },
  {
   "cell_type": "markdown",
   "id": "828a487c-0449-41c4-928e-92a585f3ddd1",
   "metadata": {},
   "source": [
    "We see that the model behaves similarly in training and testing which is indicating that the model is not overfitting (__we will see later what is actually happening since the model performing poorly__)."
   ]
  },
  {
   "cell_type": "code",
   "execution_count": 25,
   "id": "e71d8273-836d-4c72-bb6a-c59d999c0625",
   "metadata": {},
   "outputs": [
    {
     "data": {
      "text/html": [
       "<div>\n",
       "<style scoped>\n",
       "    .dataframe tbody tr th:only-of-type {\n",
       "        vertical-align: middle;\n",
       "    }\n",
       "\n",
       "    .dataframe tbody tr th {\n",
       "        vertical-align: top;\n",
       "    }\n",
       "\n",
       "    .dataframe thead th {\n",
       "        text-align: right;\n",
       "    }\n",
       "</style>\n",
       "<table border=\"1\" class=\"dataframe\">\n",
       "  <thead>\n",
       "    <tr style=\"text-align: right;\">\n",
       "      <th></th>\n",
       "      <th>Performance (test)</th>\n",
       "      <th>Performance (train)</th>\n",
       "    </tr>\n",
       "  </thead>\n",
       "  <tbody>\n",
       "    <tr>\n",
       "      <th>accuracy</th>\n",
       "      <td>0.776</td>\n",
       "      <td>0.765</td>\n",
       "    </tr>\n",
       "    <tr>\n",
       "      <th>balanced_accuracy</th>\n",
       "      <td>0.774</td>\n",
       "      <td>0.763</td>\n",
       "    </tr>\n",
       "    <tr>\n",
       "      <th>precision</th>\n",
       "      <td>0.715</td>\n",
       "      <td>0.689</td>\n",
       "    </tr>\n",
       "    <tr>\n",
       "      <th>recall</th>\n",
       "      <td>0.762</td>\n",
       "      <td>0.750</td>\n",
       "    </tr>\n",
       "    <tr>\n",
       "      <th>sensitivity</th>\n",
       "      <td>0.762</td>\n",
       "      <td>0.750</td>\n",
       "    </tr>\n",
       "    <tr>\n",
       "      <th>specificity</th>\n",
       "      <td>0.786</td>\n",
       "      <td>0.776</td>\n",
       "    </tr>\n",
       "    <tr>\n",
       "      <th>negative_predictive_value</th>\n",
       "      <td>0.841</td>\n",
       "      <td>0.824</td>\n",
       "    </tr>\n",
       "    <tr>\n",
       "      <th>f1_score</th>\n",
       "      <td>0.729</td>\n",
       "      <td>0.718</td>\n",
       "    </tr>\n",
       "    <tr>\n",
       "      <th>auc</th>\n",
       "      <td>0.774</td>\n",
       "      <td>0.763</td>\n",
       "    </tr>\n",
       "  </tbody>\n",
       "</table>\n",
       "</div>"
      ],
      "text/plain": [
       "                           Performance (test)  Performance (train)\n",
       "accuracy                                0.776                0.765\n",
       "balanced_accuracy                       0.774                0.763\n",
       "precision                               0.715                0.689\n",
       "recall                                  0.762                0.750\n",
       "sensitivity                             0.762                0.750\n",
       "specificity                             0.786                0.776\n",
       "negative_predictive_value               0.841                0.824\n",
       "f1_score                                0.729                0.718\n",
       "auc                                     0.774                0.763"
      ]
     },
     "execution_count": 25,
     "metadata": {},
     "output_type": "execute_result"
    }
   ],
   "source": [
    "pd.concat([\n",
    "    pd.DataFrame(model_performance_2['test'].mean(), columns=['Performance (test)']).drop(index=['n_fold']).round(decimals=3),\n",
    "    pd.DataFrame(model_performance_2['train'].mean(), columns=['Performance (train)']).drop(index=['n_fold']).round(decimals=3)\n",
    "\n",
    "], axis=1)\n"
   ]
  },
  {
   "cell_type": "markdown",
   "id": "a2ad1947-57c8-48be-aaa1-587117864df1",
   "metadata": {},
   "source": [
    "Furthremore, let's take advantage of the fact that we have saved the models to take a look at the different support vectors."
   ]
  },
  {
   "cell_type": "code",
   "execution_count": 26,
   "id": "14403fd6-1140-4ad8-8b31-0d76ff11af61",
   "metadata": {},
   "outputs": [],
   "source": [
    "# First, let's make a two-dimensional projection of the data to facilitate visualization.\n",
    "tsne_projection = TSNE(n_components=2, perplexity=20, random_state=2024).fit_transform(X)\n",
    "tsne_projection = pd.DataFrame(tsne_projection, columns=['emb_1', 'emb_2'])"
   ]
  },
  {
   "cell_type": "code",
   "execution_count": 27,
   "id": "cba83727-32f5-4626-b987-05d10d377f31",
   "metadata": {},
   "outputs": [],
   "source": [
    "trained_models = cv_report_2.getTrainedModels()"
   ]
  },
  {
   "cell_type": "code",
   "execution_count": 28,
   "id": "68898de1-6270-4927-8629-d657100c415d",
   "metadata": {},
   "outputs": [
    {
     "data": {
      "text/plain": [
       "array([  4,  15,  16,  18,  31,  32,  34, 103, 104, 105, 106, 107, 108,\n",
       "       109, 110, 111, 112, 114, 115, 116, 117, 118, 119, 120, 121, 122,\n",
       "       123, 125, 126, 127, 128, 129, 130, 131, 132, 133, 134, 135, 136,\n",
       "       137, 138, 139, 141,  46,  47,  48,  49,  50,  52,  53,  54,  55,\n",
       "        56,  57,  58,  59,  60,  62,  63,  65,  66,  67,  68,  69,  70,\n",
       "        71,  72,  73,  74,  77,  78,  79,  81,  82,  83,  85,  86,  88,\n",
       "        89,  90,  91,  93,  94,  96,  97, 102])"
      ]
     },
     "execution_count": 28,
     "metadata": {},
     "output_type": "execute_result"
    }
   ],
   "source": [
    "trained_models[0].model.support_"
   ]
  },
  {
   "cell_type": "code",
   "execution_count": 29,
   "id": "f78c16d0-e53c-465c-b4fa-be32a812c4fc",
   "metadata": {},
   "outputs": [
    {
     "data": {
      "image/png": "[encoded data removed]",
      "text/plain": [
       "<Figure size 640x480 with 1 Axes>"
      ]
     },
     "metadata": {},
     "output_type": "display_data"
    }
   ],
   "source": [
    "fig, ax = plt.subplots()\n",
    "\n",
    "ax.scatter(\n",
    "    tsne_projection.loc[y == 1]['emb_1'].values,\n",
    "    tsne_projection.loc[y == 1]['emb_2'].values,\n",
    "    color='#52BE80',\n",
    "    label='Positive class',\n",
    "    alpha=0.5, s=30\n",
    ")\n",
    "\n",
    "ax.scatter(\n",
    "    tsne_projection.loc[y == 0]['emb_1'].values,\n",
    "    tsne_projection.loc[y == 0]['emb_2'].values,\n",
    "    color='#F39C12',\n",
    "    label='Negative class',\n",
    "    alpha=0.5, s=30\n",
    ")\n",
    "\n",
    "# access to the support vectors of the first model\n",
    "ax.scatter(\n",
    "    tsne_projection.iloc[trained_models[0].model.support_]['emb_1'].values,\n",
    "    tsne_projection.iloc[trained_models[0].model.support_]['emb_2'].values,\n",
    "    color='red',\n",
    "    label='Supports (model 1)',\n",
    ")\n",
    "\n",
    "for pos in ['top', 'right', 'left', 'bottom']:\n",
    "    ax.spines[pos].set_visible(False)\n",
    "    \n",
    "ax.grid(alpha=0.3, color='grey')\n",
    "ax.set_ylabel('t-SNE (2)', size=12)\n",
    "ax.set_xlabel('t-SNE (1)', size=12)\n",
    "ax.set_title('Projection of the support vectors', size=15, pad=20)\n",
    "ax.legend()\n",
    "plt.show()\n"
   ]
  },
  {
   "cell_type": "markdown",
   "id": "36cb7b6f-e78a-4109-aec3-1e2d3a1240bf",
   "metadata": {},
   "source": [
    "No doubt something strange is going on with the data... what could it be? __THAT WE HAVE FORGOTTEN TO STANDARDIZE THEM!!!__\n",
    "\n",
    "To standardize the data during cross validation using the statistics of the training data to prevent any data leakage we can make use of the __interfaces.SKLearnTransformWrapper__ interface. Let us now look at the above example by standardizing the data to z-scores based on the training statistics.\n",
    "\n",
    "> __Note__: any type of transformation can be implemented through the __interfaces.Transform__ or __interfaces.SKLearnTransformWrapper__ interfaces (e.g. a feature selection or any other type of transformation)."
   ]
  },
  {
   "cell_type": "code",
   "execution_count": 30,
   "id": "7f39a5a6-e9af-426b-9490-4a8961470422",
   "metadata": {},
   "outputs": [
    {
     "data": {
      "text/plain": [
       "SKLearnTransformWrapper(\n",
       "    base_transform='sklearn.preprocessing._data.StandardScaler',\n",
       "    transform_params={}\n",
       ")"
      ]
     },
     "execution_count": 30,
     "metadata": {},
     "output_type": "execute_result"
    }
   ],
   "source": [
    "zscores_scaler = interfaces.SKLearnTransformWrapper(transform_class=StandardScaler)\n",
    "zscores_scaler"
   ]
  },
  {
   "cell_type": "code",
   "execution_count": 31,
   "id": "4041599e-d356-443d-92ea-09da00e8b12f",
   "metadata": {},
   "outputs": [
    {
     "name": "stderr",
     "output_type": "stream",
     "text": [
      "Performing cross-validation...: 5it [00:00, 830.52it/s]\n"
     ]
    },
    {
     "data": {
      "text/plain": [
       "<gojo.core.report.CVReport at 0x26c735cde10>"
      ]
     },
     "execution_count": 31,
     "metadata": {},
     "output_type": "execute_result"
    }
   ],
   "source": [
    "cv_report_3 = core.evalCrossVal(\n",
    "    X=X,\n",
    "    y=y,\n",
    "    model=model,\n",
    "    cv=cv_obj,\n",
    "    save_train_preds=True,\n",
    "    save_models=True,\n",
    "    transforms=[zscores_scaler]     # we can provide he transforms using the `transform` parameter\n",
    ")\n",
    "cv_report_3"
   ]
  },
  {
   "cell_type": "markdown",
   "id": "92fda635-52be-4715-a6ff-9d05d9a309ca",
   "metadata": {},
   "source": [
    "Let's recalculate the performance as before..."
   ]
  },
  {
   "cell_type": "code",
   "execution_count": 32,
   "id": "0d31c9b4-46e1-4307-9cd4-8ab55f96abe2",
   "metadata": {},
   "outputs": [
    {
     "data": {
      "text/html": [
       "<div>\n",
       "<style scoped>\n",
       "    .dataframe tbody tr th:only-of-type {\n",
       "        vertical-align: middle;\n",
       "    }\n",
       "\n",
       "    .dataframe tbody tr th {\n",
       "        vertical-align: top;\n",
       "    }\n",
       "\n",
       "    .dataframe thead th {\n",
       "        text-align: right;\n",
       "    }\n",
       "</style>\n",
       "<table border=\"1\" class=\"dataframe\">\n",
       "  <thead>\n",
       "    <tr style=\"text-align: right;\">\n",
       "      <th></th>\n",
       "      <th>Performance (test)</th>\n",
       "      <th>Performance (train)</th>\n",
       "    </tr>\n",
       "  </thead>\n",
       "  <tbody>\n",
       "    <tr>\n",
       "      <th>accuracy</th>\n",
       "      <td>0.983</td>\n",
       "      <td>0.987</td>\n",
       "    </tr>\n",
       "    <tr>\n",
       "      <th>balanced_accuracy</th>\n",
       "      <td>0.981</td>\n",
       "      <td>0.984</td>\n",
       "    </tr>\n",
       "    <tr>\n",
       "      <th>precision</th>\n",
       "      <td>0.985</td>\n",
       "      <td>1.000</td>\n",
       "    </tr>\n",
       "    <tr>\n",
       "      <th>recall</th>\n",
       "      <td>0.971</td>\n",
       "      <td>0.968</td>\n",
       "    </tr>\n",
       "    <tr>\n",
       "      <th>sensitivity</th>\n",
       "      <td>0.971</td>\n",
       "      <td>0.968</td>\n",
       "    </tr>\n",
       "    <tr>\n",
       "      <th>specificity</th>\n",
       "      <td>0.991</td>\n",
       "      <td>1.000</td>\n",
       "    </tr>\n",
       "    <tr>\n",
       "      <th>negative_predictive_value</th>\n",
       "      <td>0.983</td>\n",
       "      <td>0.980</td>\n",
       "    </tr>\n",
       "    <tr>\n",
       "      <th>f1_score</th>\n",
       "      <td>0.978</td>\n",
       "      <td>0.984</td>\n",
       "    </tr>\n",
       "    <tr>\n",
       "      <th>auc</th>\n",
       "      <td>0.981</td>\n",
       "      <td>0.984</td>\n",
       "    </tr>\n",
       "  </tbody>\n",
       "</table>\n",
       "</div>"
      ],
      "text/plain": [
       "                           Performance (test)  Performance (train)\n",
       "accuracy                                0.983                0.987\n",
       "balanced_accuracy                       0.981                0.984\n",
       "precision                               0.985                1.000\n",
       "recall                                  0.971                0.968\n",
       "sensitivity                             0.971                0.968\n",
       "specificity                             0.991                1.000\n",
       "negative_predictive_value               0.983                0.980\n",
       "f1_score                                0.978                0.984\n",
       "auc                                     0.981                0.984"
      ]
     },
     "execution_count": 32,
     "metadata": {},
     "output_type": "execute_result"
    }
   ],
   "source": [
    "model_performance_3 = cv_report_3.getScores(core.getDefaultMetrics('binary_classification'), supress_warnings=True)\n",
    "pd.concat([\n",
    "    pd.DataFrame(model_performance_3['test'].mean(), columns=['Performance (test)']).drop(index=['n_fold']).round(decimals=3),\n",
    "    pd.DataFrame(model_performance_3['train'].mean(), columns=['Performance (train)']).drop(index=['n_fold']).round(decimals=3)\n",
    "\n",
    "], axis=1)\n"
   ]
  },
  {
   "cell_type": "markdown",
   "id": "980d31cb-a17c-4521-8b27-b6e675ca71f0",
   "metadata": {},
   "source": [
    "As you can see now if we have a good performance, it is very important that for distance-based models such as SVMs we __standardize the data!!!__\n",
    "\n",
    "Let's represent again the support vectors of the first model..."
   ]
  },
  {
   "cell_type": "code",
   "execution_count": 33,
   "id": "d43a2c86-1ec0-4e69-ac9e-e91b0058d326",
   "metadata": {},
   "outputs": [
    {
     "data": {
      "image/png": "[encoded data removed]",
      "text/plain": [
       "<Figure size 640x480 with 1 Axes>"
      ]
     },
     "metadata": {},
     "output_type": "display_data"
    }
   ],
   "source": [
    "# access to trained models\n",
    "trained_models = cv_report_3.getTrainedModels()\n",
    "\n",
    "# standardization of all data to z-scores to recalculate the t-SNE projection\n",
    "zscores_scaler.fit(X)\n",
    "zscores_X = zscores_scaler.transform(X)\n",
    "tsne_projection = TSNE(n_components=2, perplexity=20, random_state=2024).fit_transform(zscores_X)\n",
    "tsne_projection = pd.DataFrame(tsne_projection, columns=['emb_1', 'emb_2'])\n",
    "\n",
    "fig, ax = plt.subplots()\n",
    "\n",
    "ax.scatter(\n",
    "    tsne_projection.loc[y == 1]['emb_1'].values,\n",
    "    tsne_projection.loc[y == 1]['emb_2'].values,\n",
    "    color='#52BE80',\n",
    "    label='Positive class',\n",
    "    alpha=0.5, s=30\n",
    ")\n",
    "\n",
    "ax.scatter(\n",
    "    tsne_projection.loc[y == 0]['emb_1'].values,\n",
    "    tsne_projection.loc[y == 0]['emb_2'].values,\n",
    "    color='#F39C12',\n",
    "    label='Negative class',\n",
    "    alpha=0.5, s=30\n",
    ")\n",
    "\n",
    "# access to the support vectors of the first model\n",
    "ax.scatter(\n",
    "    tsne_projection.iloc[trained_models[0].model.support_]['emb_1'].values,\n",
    "    tsne_projection.iloc[trained_models[0].model.support_]['emb_2'].values,\n",
    "    color='red',\n",
    "    label='Supports (model 1)',\n",
    ")\n",
    "\n",
    "for pos in ['top', 'right', 'left', 'bottom']:\n",
    "    ax.spines[pos].set_visible(False)\n",
    "    \n",
    "ax.grid(alpha=0.3, color='grey')\n",
    "ax.set_ylabel('t-SNE (2)', size=12)\n",
    "ax.set_xlabel('t-SNE (1)', size=12)\n",
    "ax.set_title('Projection of the support vectors', size=15, pad=20)\n",
    "ax.legend()\n",
    "plt.show()\n"
   ]
  },
  {
   "cell_type": "markdown",
   "id": "a3205c1a-b8a1-413d-8024-53805544521c",
   "metadata": {},
   "source": [
    "__We have now been able to see that the support vectors make much more sense than before, and there are also fewer of them, which is a sign that the model is not overfitting.__\n"
   ]
  }
 ],
 "metadata": {
  "kernelspec": {
   "display_name": "mlv0",
   "language": "python",
   "name": "mlv0"
  },
  "language_info": {
   "codemirror_mode": {
    "name": "ipython",
    "version": 3
   },
   "file_extension": ".py",
   "mimetype": "text/x-python",
   "name": "python",
   "nbconvert_exporter": "python",
   "pygments_lexer": "ipython3",
   "version": "3.10.14"
  }
 },
 "nbformat": 4,
 "nbformat_minor": 5
}
