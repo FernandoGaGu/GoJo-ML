{
 "cells": [
  {
   "cell_type": "code",
   "execution_count": null,
   "id": "4468e9ba-0293-4f9f-8913-b83d6755b300",
   "metadata": {},
   "outputs": [],
   "source": [
    "%load_ext autoreload\n",
    "%autoreload 2"
   ]
  },
  {
   "cell_type": "code",
   "execution_count": null,
   "id": "6f1d6bf8-6a5e-4f16-9952-7e9a8bc2d98e",
   "metadata": {},
   "outputs": [],
   "source": [
    "import sys\n",
    "import pandas as pd\n",
    "\n",
    "sys.path.append('..')\n",
    "\n",
    "import torch\n",
    "from torch.utils.data import DataLoader\n",
    "from sklearn import datasets\n",
    "from sklearn.model_selection import train_test_split\n",
    "\n",
    "# DEID libraries\n",
    "from gojo import core\n",
    "from gojo import deepl\n",
    "from gojo import util\n",
    "from gojo import plotting"
   ]
  },
  {
   "cell_type": "code",
   "execution_count": null,
   "id": "9db05344-f3fc-4116-bfd3-3795ae8eda1d",
   "metadata": {},
   "outputs": [],
   "source": [
    "# load test dataset (Wine)\n",
    "wine_dt = datasets.load_wine()\n",
    "\n",
    "# create the target variable. Classification problem 0 vs rest\n",
    "# to see the target names you can use wine_dt['target_names']\n",
    "y = (wine_dt['target'] == 1).astype(int)  \n",
    "X = wine_dt['data']\n",
    "\n",
    "# standarize input data\n",
    "std_X = util.zscoresScaling(X)\n",
    "\n",
    "# split Xs and Ys in training and validation\n",
    "X_train, X_valid, y_train, y_valid = train_test_split(\n",
    "    std_X, y, train_size=0.8, random_state=1997, shuffle=True,\n",
    "    stratify=y\n",
    ")\n",
    "X_train.shape, X_valid.shape, '%.3f' % y_train.mean(),  '%.3f' % y_valid.mean()"
   ]
  },
  {
   "cell_type": "code",
   "execution_count": null,
   "id": "93ee04e1-b7d0-43eb-b6e4-dc05b422d1ee",
   "metadata": {},
   "outputs": [],
   "source": [
    "# create the dataloaders\n",
    "train_dl = DataLoader(\n",
    "    deepl.loading.TorchDataset(X=X_train, y=y_train), \n",
    "    batch_size=16, shuffle=True)\n",
    "\n",
    "valid_dl = DataLoader(\n",
    "    deepl.loading.TorchDataset(X=X_valid, y=y_valid), \n",
    "    batch_size=X_valid.shape[0], shuffle=False)"
   ]
  },
  {
   "cell_type": "code",
   "execution_count": null,
   "id": "17e5f7bd-d957-451f-9fed-909c20adcfd2",
   "metadata": {},
   "outputs": [],
   "source": [
    "# create a basic FFN\n",
    "model = deepl.ffn.createSimpleFFNModel(\n",
    "    in_feats=X_valid.shape[1],\n",
    "    out_feats=1,\n",
    "    layer_dims=[20],\n",
    "    layer_activation=torch.nn.ELU(),\n",
    "    output_activation=torch.nn.Sigmoid()\n",
    ")\n",
    "model"
   ]
  },
  {
   "cell_type": "code",
   "execution_count": null,
   "id": "18cde6be-1b87-4540-91a3-56039ea120de",
   "metadata": {
    "tags": []
   },
   "outputs": [],
   "source": [
    "output = deepl.fitNeuralNetwork(\n",
    "    deepl.iterSupervisedEpoch,\n",
    "    model=model,\n",
    "    train_dl=train_dl,\n",
    "    valid_dl=valid_dl,\n",
    "    n_epochs=50,\n",
    "    loss_fn=torch.nn.BCELoss(),\n",
    "    optimizer_class=torch.optim.Adam,\n",
    "    optimizer_params={'lr': 0.001},\n",
    "    device='mps',\n",
    "    metrics=core.getDefaultMetrics('binary_classification', bin_threshold=0.5)\n",
    ")"
   ]
  },
  {
   "cell_type": "code",
   "execution_count": null,
   "id": "53f39580-cea5-41d0-990b-b089b9d3fe35",
   "metadata": {},
   "outputs": [],
   "source": [
    "output.keys()"
   ]
  },
  {
   "cell_type": "code",
   "execution_count": null,
   "id": "f8d31681-0270-40fa-920f-83973f483d46",
   "metadata": {},
   "outputs": [],
   "source": [
    "train_info = output['train']\n",
    "valid_info = output['valid']\n"
   ]
  },
  {
   "cell_type": "code",
   "execution_count": null,
   "id": "7e13ad6a-5561-4a43-b41a-16403028494f",
   "metadata": {},
   "outputs": [],
   "source": [
    "plotting.linePlot(\n",
    "    train_info, valid_info,\n",
    "    x='epoch', y='loss (mean)', err='loss (std)',\n",
    "    legend_labels=['Train', 'Validation'],\n",
    "    title='Model convergence',\n",
    "    ls=['solid', 'dashed'],\n",
    "    style='default', legend_pos='center right'\n",
    "    \n",
    ")\n"
   ]
  },
  {
   "cell_type": "code",
   "execution_count": null,
   "id": "c40a4d39-604d-45fe-8a76-4f8c3846d526",
   "metadata": {},
   "outputs": [],
   "source": [
    "assert False"
   ]
  },
  {
   "cell_type": "code",
   "execution_count": null,
   "id": "55fea4b2-602d-4c88-bb86-3962fc8a7183",
   "metadata": {},
   "outputs": [],
   "source": [
    "import inspect"
   ]
  },
  {
   "cell_type": "code",
   "execution_count": null,
   "id": "ce34f45f-8f9e-41ca-8f7f-2bf0a5212592",
   "metadata": {},
   "outputs": [],
   "source": [
    "inspect.isclass(valid_info)"
   ]
  },
  {
   "cell_type": "code",
   "execution_count": null,
   "id": "0bfa9367-8cb6-4c15-94ea-e694dab5251e",
   "metadata": {},
   "outputs": [],
   "source": [
    "import matplotlib.pyplot as plt\n",
    "\n",
    "def linePlot(*dfs, x: str, y: str, err: str = None, err_alpha: float = 0.3, \n",
    "             labels: list = None, figsize: tuple = (6, 3.5), dpi: int = 100, \n",
    "             style: str = 'ggplot', legend_pos: str = 'upper right', \n",
    "             legend_size: int = 12, colors: list = None, grid_alpha: float = 0.5,\n",
    "             xlabel_size: float or int = 13, ylabel_size: float or int = 13,\n",
    "             title: str = '', title_size: int or float = 15, save: str = None,\n",
    "             save_kw: dict = None, show: bool = True\n",
    "            ):\n",
    "    \"\"\" Description \"\"\"\n",
    "    # check input data types\n",
    "    \n",
    "    for df in dfs:\n",
    "        # check dataframe input types\n",
    "        # check x, y, and err variables\n",
    "        pass \n",
    "    \n",
    "    if labels is None:\n",
    "        labels = ['(%d)' % (i+1) for i in range(len(dfs))]\n",
    "    \n",
    "    # check number of labels and number of dfs\n",
    "    # check the lenght of the colors\n",
    "    \n",
    "    # plot information\n",
    "    with plt.style.context(style):\n",
    "        fig, ax = plt.subplots(figsize=figsize)\n",
    "        fig.set_dpi(dpi)\n",
    "        \n",
    "        for i, (label, df) in enumerate(zip(labels, dfs)):\n",
    "            color = None if colors is None else colors[i]\n",
    "            \n",
    "            ax.plot(\n",
    "                df[x].values, df[y].values, label=label,\n",
    "                color=color)\n",
    "            \n",
    "            if err is not None:\n",
    "                ax.fill_between(\n",
    "                    df[x].values, \n",
    "                    df[y].values + df[err].values,\n",
    "                    df[y].values - df[err].values,\n",
    "                    alpha=err_alpha)\n",
    "            \n",
    "        # figure layout\n",
    "        ax.spines['top'].set_visible(False)\n",
    "        ax.spines['right'].set_visible(False)\n",
    "        ax.grid(alpha=grid_alpha)\n",
    "        ax.legend(loc=legend_pos, prop=dict(size=legend_size))\n",
    "        ax.set_xlabel(x, size=xlabel_size)\n",
    "        ax.set_ylabel(y, size=ylabel_size)\n",
    "        ax.set_title(title, size=title_size)\n",
    "        \n",
    "        # save figure if specified\n",
    "        if save:\n",
    "            save_kw = {} if save_kw is None else save_kw\n",
    "            plt.savefig(save, **save_kw)\n",
    "            \n",
    "        if show:\n",
    "            plt.show()\n",
    "        \n",
    "linePlot(train_info, valid_info, x='epoch', y='loss (mean)', labels=['Train', 'Validation'], err='loss (std)', title='FOO')"
   ]
  },
  {
   "cell_type": "code",
   "execution_count": null,
   "id": "362e105d-31f1-426a-8579-f861b7bf4d31",
   "metadata": {},
   "outputs": [],
   "source": [
    "valid_info['epoch'].values"
   ]
  },
  {
   "cell_type": "code",
   "execution_count": null,
   "id": "29ab8487-b56b-4166-b2de-a96494588fe6",
   "metadata": {
    "tags": []
   },
   "outputs": [],
   "source": [
    "valid_info"
   ]
  },
  {
   "cell_type": "code",
   "execution_count": null,
   "id": "0685ca51-871d-478b-bad7-cfbb9d1007ac",
   "metadata": {
    "tags": []
   },
   "outputs": [],
   "source": [
    "train_info"
   ]
  },
  {
   "cell_type": "code",
   "execution_count": null,
   "id": "8cd62204-f08a-4695-9d13-52279fd5346f",
   "metadata": {},
   "outputs": [],
   "source": []
  },
  {
   "cell_type": "code",
   "execution_count": null,
   "id": "4eedba1a-4d42-4a01-8283-358a8c992ef2",
   "metadata": {},
   "outputs": [],
   "source": []
  },
  {
   "cell_type": "code",
   "execution_count": null,
   "id": "15c5549a-beae-4127-b7a3-20df34c784ff",
   "metadata": {},
   "outputs": [],
   "source": []
  },
  {
   "cell_type": "code",
   "execution_count": null,
   "id": "08115677-5609-4944-b3b7-756551e24850",
   "metadata": {},
   "outputs": [],
   "source": []
  },
  {
   "cell_type": "code",
   "execution_count": null,
   "id": "6ba63f6b-1dfb-45c4-bbf0-8d0e2f807120",
   "metadata": {},
   "outputs": [],
   "source": []
  },
  {
   "cell_type": "code",
   "execution_count": null,
   "id": "984f6d5b-3b0d-489e-84b9-fe877175d027",
   "metadata": {},
   "outputs": [],
   "source": []
  },
  {
   "cell_type": "code",
   "execution_count": null,
   "id": "8938c254-318d-46a2-81e1-9ab085dbba5d",
   "metadata": {},
   "outputs": [],
   "source": []
  },
  {
   "cell_type": "code",
   "execution_count": null,
   "id": "9d123158-313d-416a-ba71-68dbf1302a7a",
   "metadata": {},
   "outputs": [],
   "source": []
  },
  {
   "cell_type": "code",
   "execution_count": null,
   "id": "354da920-de52-4b12-9bd0-b463701ed6a1",
   "metadata": {},
   "outputs": [],
   "source": []
  },
  {
   "cell_type": "code",
   "execution_count": null,
   "id": "1d497aca-798a-4676-964b-eb949c8ff8ab",
   "metadata": {},
   "outputs": [],
   "source": []
  },
  {
   "cell_type": "code",
   "execution_count": null,
   "id": "5ab8822f-4d02-4d29-93b5-2f18207d8efd",
   "metadata": {},
   "outputs": [],
   "source": []
  }
 ],
 "metadata": {
  "kernelspec": {
   "display_name": "Python 3 (ipykernel)",
   "language": "python",
   "name": "python3"
  },
  "language_info": {
   "codemirror_mode": {
    "name": "ipython",
    "version": 3
   },
   "file_extension": ".py",
   "mimetype": "text/x-python",
   "name": "python",
   "nbconvert_exporter": "python",
   "pygments_lexer": "ipython3",
   "version": "3.11.5"
  }
 },
 "nbformat": 4,
 "nbformat_minor": 5
}
