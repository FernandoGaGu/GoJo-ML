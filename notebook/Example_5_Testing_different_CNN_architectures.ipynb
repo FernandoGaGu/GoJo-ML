{
 "cells": [
  {
   "cell_type": "markdown",
   "id": "c5fd5907-d0a9-4026-af4e-b4e2b48d9e22",
   "metadata": {},
   "source": [
    "# Example 6. Testing different CNN architectures"
   ]
  },
  {
   "cell_type": "code",
   "execution_count": 1,
   "id": "8783519f-1aaf-4d66-83a9-462c6bce2684",
   "metadata": {
    "tags": []
   },
   "outputs": [
    {
     "name": "stderr",
     "output_type": "stream",
     "text": [
      "C:\\Users\\fgarcia\\anaconda3\\envs\\mlv0\\lib\\site-packages\\tqdm\\auto.py:21: TqdmWarning: IProgress not found. Please update jupyter and ipywidgets. See https://ipywidgets.readthedocs.io/en/stable/user_install.html\n",
      "  from .autonotebook import tqdm as notebook_tqdm\n"
     ]
    }
   ],
   "source": [
    "import os\n",
    "import torch\n",
    "import pandas as pd\n",
    "import numpy as np\n",
    "import matplotlib.pyplot as plt\n",
    "from sklearn.model_selection import train_test_split\n",
    "from torch.utils.data import DataLoader\n",
    "from torchvision import datasets, transforms\n",
    "from tqdm import tqdm\n",
    "\n",
    "# GOJO libraries\n",
    "from gojo import deepl\n",
    "from gojo import plotting\n",
    "from gojo import core\n",
    "from gojo import util\n",
    "\n",
    "DEVICE = 'cuda'"
   ]
  },
  {
   "cell_type": "markdown",
   "id": "35a86219-2033-48fa-8642-cc3386d43803",
   "metadata": {},
   "source": [
    "## Data loading"
   ]
  },
  {
   "cell_type": "code",
   "execution_count": 2,
   "id": "695e73ff-a7f6-4cdb-84f8-a340100f70f2",
   "metadata": {
    "tags": []
   },
   "outputs": [],
   "source": [
    "# FashionMNIST labels (https://github.com/zalandoresearch/fashion-mnist)\n",
    "labels = {\n",
    "    0: 'T-shirt/top',\n",
    "    1: 'Trouser',\n",
    "    2: 'Pullover',\n",
    "    3: 'Dress',\n",
    "    4: 'Coat',\n",
    "    5: 'Sandal',\n",
    "    6: 'Shirt',\n",
    "    7: 'Sneaker',\n",
    "    8: 'Bag',\n",
    "    9: 'Ankle boot'\n",
    "}\n",
    "\n",
    "# define the transformation used to load the images\n",
    "transform = transforms.Compose([\n",
    "    transforms.ToTensor(), \n",
    "])\n",
    "\n",
    "# download the FashionMNIST datasets (train/test)\n",
    "train_dataset = datasets.FashionMNIST(\n",
    "    root=os.path.join(os.path.expanduser('~'), 'test_datasets', 'pytorch'), \n",
    "    train=True, transform=transform, download=True)\n",
    "test_dataset = datasets.FashionMNIST(\n",
    "    root=os.path.join(os.path.expanduser('~'), 'test_datasets', 'pytorch'), \n",
    "    train=False, transform=transform, download=True)"
   ]
  },
  {
   "cell_type": "code",
   "execution_count": 3,
   "id": "01111012-83ec-4fbc-81d3-2f4e7e9986a0",
   "metadata": {
    "tags": []
   },
   "outputs": [
    {
     "data": {
      "image/png": "[encoded data removed]",
      "text/plain": [
       "<Figure size 1000x500 with 6 Axes>"
      ]
     },
     "metadata": {},
     "output_type": "display_data"
    }
   ],
   "source": [
    "# plot some examples\n",
    "np.random.seed(1997)\n",
    "\n",
    "fig, axes = plt.subplots(2, 3, figsize=(10, 5))\n",
    "for i, ax in enumerate(axes.flatten()):\n",
    "    img, label = train_dataset[np.random.choice(len(train_dataset))]\n",
    "    img_np = img.numpy().squeeze(0)    \n",
    "    \n",
    "    ax.imshow(img_np, cmap='Greys')\n",
    "    ax.set_xticks([])\n",
    "    ax.set_yticks([])\n",
    "    ax.set_title(labels[label])\n",
    "plt.show()"
   ]
  },
  {
   "cell_type": "code",
   "execution_count": 4,
   "id": "b38e8789-2df9-459b-a005-775eff511221",
   "metadata": {
    "tags": []
   },
   "outputs": [
    {
     "name": "stdout",
     "output_type": "stream",
     "text": [
      "Train: 51000\n",
      "Valid: 9000\n",
      "Test: 10000\n"
     ]
    }
   ],
   "source": [
    "# separate the training data into train (85%) and validation (15%)\n",
    "train_dataset, valid_dataset = torch.utils.data.random_split(\n",
    "    train_dataset, \n",
    "    [\n",
    "        int(len(train_dataset) * 0.85),\n",
    "        int(len(train_dataset) * 0.15)\n",
    "    ],\n",
    "    torch.Generator().manual_seed(1997)\n",
    ")\n",
    "\n",
    "print('Train: %d' % len(train_dataset))\n",
    "print('Valid: %d' % len(valid_dataset))\n",
    "print('Test: %d' % len(test_dataset))\n",
    "\n",
    "# create the dataloaders\n",
    "train_dl = DataLoader(\n",
    "    train_dataset, \n",
    "    batch_size=2048, shuffle=True)\n",
    "\n",
    "valid_dl = DataLoader(\n",
    "    valid_dataset, \n",
    "    batch_size=4096, shuffle=False)\n",
    "\n",
    "test_dl = DataLoader(\n",
    "    test_dataset, \n",
    "    batch_size=4096, shuffle=False)"
   ]
  },
  {
   "cell_type": "markdown",
   "id": "7472c4b0-0660-407a-a8b1-70c1895f7fee",
   "metadata": {},
   "source": [
    "## Vanilla CNN"
   ]
  },
  {
   "cell_type": "code",
   "execution_count": 5,
   "id": "06cf5598-3559-421a-a9d2-8244244d6a52",
   "metadata": {
    "tags": []
   },
   "outputs": [
    {
     "name": "stdout",
     "output_type": "stream",
     "text": [
      "Number of model trainable parameters: 31482\n"
     ]
    }
   ],
   "source": [
    "v_cnn = torch.nn.Sequential(\n",
    "        torch.nn.Conv2d(1, 8, (3, 3)),\n",
    "        torch.nn.ReLU(),\n",
    "        torch.nn.BatchNorm2d(8),\n",
    "    \n",
    "        torch.nn.Conv2d(8, 16, (3, 3)),\n",
    "        torch.nn.ReLU(),\n",
    "        torch.nn.BatchNorm2d(16),\n",
    "        torch.nn.MaxPool2d(2),\n",
    "        \n",
    "        torch.nn.Conv2d(16, 32, (3, 3)),\n",
    "        torch.nn.ReLU(),\n",
    "        torch.nn.BatchNorm2d(32),\n",
    "        torch.nn.MaxPool2d(2),\n",
    "    \n",
    "        torch.nn.Conv2d(32, 64, (2, 2)),\n",
    "        torch.nn.ReLU(),\n",
    "        torch.nn.BatchNorm2d(64),\n",
    "        torch.nn.AvgPool2d(2),\n",
    "        \n",
    "        torch.nn.Flatten(),\n",
    "    \n",
    "        torch.nn.Linear(256, 64),\n",
    "        torch.nn.Dropout(0.2),\n",
    "        torch.nn.ReLU(),\n",
    "        torch.nn.Linear(64, 10),\n",
    ")\n",
    "\n",
    "print('Number of model trainable parameters: %d' % util.tools.getNumModelParams(v_cnn))"
   ]
  },
  {
   "cell_type": "code",
   "execution_count": 6,
   "id": "9783ba90-4876-47b8-97b5-acd9adb13ba3",
   "metadata": {},
   "outputs": [
    {
     "name": "stderr",
     "output_type": "stream",
     "text": [
      "Training model...: 100%|███████████████████████████████████████████████████████████████| 40/40 [02:06<00:00,  3.17s/it]\n"
     ]
    }
   ],
   "source": [
    "output_v_cnn = deepl.fitNeuralNetwork(\n",
    "    deepl.iterSupervisedEpoch,\n",
    "    model=v_cnn,\n",
    "    train_dl=train_dl,\n",
    "    valid_dl=valid_dl,\n",
    "    n_epochs=40,\n",
    "    loss_fn=torch.nn.CrossEntropyLoss(),\n",
    "    optimizer_class=torch.optim.Adam,\n",
    "    optimizer_params={'lr': 0.0001},\n",
    "    device=DEVICE,\n",
    ")"
   ]
  },
  {
   "cell_type": "markdown",
   "id": "0ab15642-7ca6-45c3-931d-aaca8bf2083f",
   "metadata": {},
   "source": [
    "### Model convergence"
   ]
  },
  {
   "cell_type": "code",
   "execution_count": 7,
   "id": "3f17a069-a441-41be-b12a-bac4bda53c88",
   "metadata": {
    "tags": []
   },
   "outputs": [
    {
     "data": {
      "image/png": "[encoded data removed]",
      "text/plain": [
       "<Figure size 600x350 with 1 Axes>"
      ]
     },
     "metadata": {},
     "output_type": "display_data"
    }
   ],
   "source": [
    "plotting.linePlot(\n",
    "    output_v_cnn['train'], \n",
    "    output_v_cnn['valid'],\n",
    "    x='epoch', y='loss (mean)', err='loss (std)',\n",
    "    labels=['Train', 'Validation'],\n",
    "    title='Model convergence',\n",
    "    ls=['solid', 'dashed'],\n",
    "    style='default', legend_pos='center right'\n",
    ")"
   ]
  },
  {
   "cell_type": "markdown",
   "id": "5bedbdad-eb30-47f0-aad2-4b26a907372f",
   "metadata": {},
   "source": [
    "### Model evaluation"
   ]
  },
  {
   "cell_type": "code",
   "execution_count": 8,
   "id": "735d2438-62f7-4d4b-bbba-d233e761fdca",
   "metadata": {
    "tags": []
   },
   "outputs": [
    {
     "name": "stderr",
     "output_type": "stream",
     "text": [
      "Performing predictions...: 100%|█████████████████████████████████████████████████████████| 3/3 [00:00<00:00,  8.67it/s]"
     ]
    },
    {
     "name": "stdout",
     "output_type": "stream",
     "text": [
      "Average accuracy: 0.975\n"
     ]
    },
    {
     "name": "stderr",
     "output_type": "stream",
     "text": [
      "\n"
     ]
    },
    {
     "data": {
      "text/html": [
       "<div>\n",
       "<style scoped>\n",
       "    .dataframe tbody tr th:only-of-type {\n",
       "        vertical-align: middle;\n",
       "    }\n",
       "\n",
       "    .dataframe tbody tr th {\n",
       "        vertical-align: top;\n",
       "    }\n",
       "\n",
       "    .dataframe thead th {\n",
       "        text-align: right;\n",
       "    }\n",
       "</style>\n",
       "<table border=\"1\" class=\"dataframe\">\n",
       "  <thead>\n",
       "    <tr style=\"text-align: right;\">\n",
       "      <th></th>\n",
       "      <th>Accuracy</th>\n",
       "    </tr>\n",
       "  </thead>\n",
       "  <tbody>\n",
       "    <tr>\n",
       "      <th>T-shirt/top</th>\n",
       "      <td>0.9656</td>\n",
       "    </tr>\n",
       "    <tr>\n",
       "      <th>Trouser</th>\n",
       "      <td>0.9951</td>\n",
       "    </tr>\n",
       "    <tr>\n",
       "      <th>Pullover</th>\n",
       "      <td>0.9651</td>\n",
       "    </tr>\n",
       "    <tr>\n",
       "      <th>Dress</th>\n",
       "      <td>0.9748</td>\n",
       "    </tr>\n",
       "    <tr>\n",
       "      <th>Coat</th>\n",
       "      <td>0.9588</td>\n",
       "    </tr>\n",
       "    <tr>\n",
       "      <th>Sandal</th>\n",
       "      <td>0.9922</td>\n",
       "    </tr>\n",
       "    <tr>\n",
       "      <th>Shirt</th>\n",
       "      <td>0.9303</td>\n",
       "    </tr>\n",
       "    <tr>\n",
       "      <th>Sneaker</th>\n",
       "      <td>0.9872</td>\n",
       "    </tr>\n",
       "    <tr>\n",
       "      <th>Bag</th>\n",
       "      <td>0.9908</td>\n",
       "    </tr>\n",
       "    <tr>\n",
       "      <th>Ankle boot</th>\n",
       "      <td>0.9893</td>\n",
       "    </tr>\n",
       "  </tbody>\n",
       "</table>\n",
       "</div>"
      ],
      "text/plain": [
       "             Accuracy\n",
       "T-shirt/top    0.9656\n",
       "Trouser        0.9951\n",
       "Pullover       0.9651\n",
       "Dress          0.9748\n",
       "Coat           0.9588\n",
       "Sandal         0.9922\n",
       "Shirt          0.9303\n",
       "Sneaker        0.9872\n",
       "Bag            0.9908\n",
       "Ankle boot     0.9893"
      ]
     },
     "execution_count": 8,
     "metadata": {},
     "output_type": "execute_result"
    }
   ],
   "source": [
    "# make model predictions\n",
    "v_cnn = v_cnn.eval()\n",
    "y_hat = []\n",
    "y_true = []\n",
    "with torch.no_grad():\n",
    "    for X, y in tqdm(test_dl, desc='Performing predictions...'):\n",
    "        # convert logits to probabilities\n",
    "        _y_hat = torch.nn.functional.softmax(v_cnn(X.to(device=DEVICE)), dim=1).cpu().numpy()\n",
    "        \n",
    "        # convert from one-hot encoding to integer-coding\n",
    "        y_hat.append(_y_hat.argmax(axis=1))\n",
    "        y_true.append(y.numpy())\n",
    "        \n",
    "y_hat = np.concatenate(y_hat)\n",
    "y_true = np.concatenate(y_true)\n",
    "\n",
    "# calculate per-class accuracy\n",
    "acc_per_label = {}\n",
    "for label_key, label in labels.items():\n",
    "    y_true_bin = (y_true == label_key).astype(int)\n",
    "    y_hat_bin = (y_hat == label_key).astype(int)\n",
    "    \n",
    "    # compute accuracy\n",
    "    acc_per_label[label] = core.getScores(\n",
    "        y_true_bin,\n",
    "        y_hat_bin,\n",
    "        metrics=core.getDefaultMetrics('binary_classification', ['accuracy'])\n",
    "    )['accuracy']\n",
    "\n",
    "print('Average accuracy: %.3f' % np.mean(list(acc_per_label.values())))\n",
    "pd.DataFrame([acc_per_label], index=['Accuracy']).T"
   ]
  },
  {
   "cell_type": "markdown",
   "id": "b89876dd-262b-4e7d-b82b-be135a699be7",
   "metadata": {},
   "source": [
    "## CNN with residual connections"
   ]
  },
  {
   "cell_type": "code",
   "execution_count": 9,
   "id": "11a3472d-4e58-4400-837d-919b1e6b225a",
   "metadata": {
    "tags": []
   },
   "outputs": [
    {
     "name": "stdout",
     "output_type": "stream",
     "text": [
      "Number of model trainable parameters: 37546\n"
     ]
    }
   ],
   "source": [
    "res_cnn = torch.nn.Sequential(\n",
    "        torch.nn.Conv2d(1, 8, (3, 3), stride=2),\n",
    "        torch.nn.ReLU(),\n",
    "        torch.nn.BatchNorm2d(8),\n",
    "        \n",
    "        deepl.cnn.ResNetBlock(8, 16, kernel_size=3),\n",
    "        torch.nn.MaxPool2d(2),\n",
    "    \n",
    "        deepl.cnn.ResNetBlock(16, 32, kernel_size=3),\n",
    "        torch.nn.MaxPool2d(2),\n",
    "    \n",
    "        torch.nn.Flatten(),\n",
    "    \n",
    "        torch.nn.Linear(288, 64),\n",
    "        torch.nn.Dropout(0.2),\n",
    "        torch.nn.ReLU(),\n",
    "        torch.nn.Linear(64, 10),\n",
    ")\n",
    "\n",
    "print('Number of model trainable parameters: %d' % util.tools.getNumModelParams(res_cnn))"
   ]
  },
  {
   "cell_type": "code",
   "execution_count": 10,
   "id": "a0d8a68c-dbed-4f80-8026-2d6e41612aa1",
   "metadata": {
    "tags": []
   },
   "outputs": [
    {
     "name": "stderr",
     "output_type": "stream",
     "text": [
      "Training model...: 100%|███████████████████████████████████████████████████████████████| 40/40 [02:00<00:00,  3.00s/it]\n"
     ]
    }
   ],
   "source": [
    "output_res_cnn = deepl.fitNeuralNetwork(\n",
    "    deepl.iterSupervisedEpoch,\n",
    "    model=res_cnn,\n",
    "    train_dl=train_dl,\n",
    "    valid_dl=valid_dl,\n",
    "    n_epochs=40,\n",
    "    loss_fn=torch.nn.CrossEntropyLoss(),\n",
    "    optimizer_class=torch.optim.Adam,\n",
    "    optimizer_params={'lr': 0.0001},\n",
    "    device=DEVICE,\n",
    ")"
   ]
  },
  {
   "cell_type": "markdown",
   "id": "78417e1f-c0e4-40fd-a65f-9db15cabc78e",
   "metadata": {},
   "source": [
    "### Model convergence"
   ]
  },
  {
   "cell_type": "code",
   "execution_count": 11,
   "id": "8d442d17-d11c-497d-98fc-cf351e9194a3",
   "metadata": {
    "tags": []
   },
   "outputs": [
    {
     "data": {
      "image/png": "[encoded data removed]",
      "text/plain": [
       "<Figure size 600x350 with 1 Axes>"
      ]
     },
     "metadata": {},
     "output_type": "display_data"
    }
   ],
   "source": [
    "plotting.linePlot(\n",
    "    output_res_cnn['train'], \n",
    "    output_res_cnn['valid'],\n",
    "    x='epoch', y='loss (mean)', err='loss (std)',\n",
    "    labels=['Train', 'Validation'],\n",
    "    title='Model convergence',\n",
    "    ls=['solid', 'dashed'],\n",
    "    style='default', legend_pos='center right'\n",
    ")"
   ]
  },
  {
   "cell_type": "markdown",
   "id": "80b2f40a-4a27-4e6f-8f72-58d0b7799037",
   "metadata": {},
   "source": [
    "### Model evaluation"
   ]
  },
  {
   "cell_type": "code",
   "execution_count": 12,
   "id": "32987c4d-75b5-4ba1-860f-109a2e4e1334",
   "metadata": {
    "tags": []
   },
   "outputs": [
    {
     "name": "stderr",
     "output_type": "stream",
     "text": [
      "Performing predictions...: 100%|█████████████████████████████████████████████████████████| 3/3 [00:00<00:00,  8.13it/s]"
     ]
    },
    {
     "name": "stdout",
     "output_type": "stream",
     "text": [
      "Average accuracy: 0.973\n"
     ]
    },
    {
     "name": "stderr",
     "output_type": "stream",
     "text": [
      "\n"
     ]
    },
    {
     "data": {
      "text/html": [
       "<div>\n",
       "<style scoped>\n",
       "    .dataframe tbody tr th:only-of-type {\n",
       "        vertical-align: middle;\n",
       "    }\n",
       "\n",
       "    .dataframe tbody tr th {\n",
       "        vertical-align: top;\n",
       "    }\n",
       "\n",
       "    .dataframe thead th {\n",
       "        text-align: right;\n",
       "    }\n",
       "</style>\n",
       "<table border=\"1\" class=\"dataframe\">\n",
       "  <thead>\n",
       "    <tr style=\"text-align: right;\">\n",
       "      <th></th>\n",
       "      <th>Accuracy</th>\n",
       "    </tr>\n",
       "  </thead>\n",
       "  <tbody>\n",
       "    <tr>\n",
       "      <th>T-shirt/top</th>\n",
       "      <td>0.9621</td>\n",
       "    </tr>\n",
       "    <tr>\n",
       "      <th>Trouser</th>\n",
       "      <td>0.9957</td>\n",
       "    </tr>\n",
       "    <tr>\n",
       "      <th>Pullover</th>\n",
       "      <td>0.9561</td>\n",
       "    </tr>\n",
       "    <tr>\n",
       "      <th>Dress</th>\n",
       "      <td>0.9771</td>\n",
       "    </tr>\n",
       "    <tr>\n",
       "      <th>Coat</th>\n",
       "      <td>0.9552</td>\n",
       "    </tr>\n",
       "    <tr>\n",
       "      <th>Sandal</th>\n",
       "      <td>0.9910</td>\n",
       "    </tr>\n",
       "    <tr>\n",
       "      <th>Shirt</th>\n",
       "      <td>0.9275</td>\n",
       "    </tr>\n",
       "    <tr>\n",
       "      <th>Sneaker</th>\n",
       "      <td>0.9868</td>\n",
       "    </tr>\n",
       "    <tr>\n",
       "      <th>Bag</th>\n",
       "      <td>0.9924</td>\n",
       "    </tr>\n",
       "    <tr>\n",
       "      <th>Ankle boot</th>\n",
       "      <td>0.9903</td>\n",
       "    </tr>\n",
       "  </tbody>\n",
       "</table>\n",
       "</div>"
      ],
      "text/plain": [
       "             Accuracy\n",
       "T-shirt/top    0.9621\n",
       "Trouser        0.9957\n",
       "Pullover       0.9561\n",
       "Dress          0.9771\n",
       "Coat           0.9552\n",
       "Sandal         0.9910\n",
       "Shirt          0.9275\n",
       "Sneaker        0.9868\n",
       "Bag            0.9924\n",
       "Ankle boot     0.9903"
      ]
     },
     "execution_count": 12,
     "metadata": {},
     "output_type": "execute_result"
    }
   ],
   "source": [
    "# make model predictions\n",
    "res_cnn = res_cnn.eval()\n",
    "y_hat = []\n",
    "y_true = []\n",
    "with torch.no_grad():\n",
    "    for X, y in tqdm(test_dl, desc='Performing predictions...'):\n",
    "        # convert logits to probabilities\n",
    "        _y_hat = torch.nn.functional.softmax(res_cnn(X.to(device=DEVICE)), dim=1).cpu().numpy()\n",
    "        \n",
    "        # convert from one-hot encoding to integer-coding\n",
    "        y_hat.append(_y_hat.argmax(axis=1))\n",
    "        y_true.append(y.numpy())\n",
    "        \n",
    "y_hat = np.concatenate(y_hat)\n",
    "y_true = np.concatenate(y_true)\n",
    "\n",
    "# calculate per-class accuracy\n",
    "acc_per_label = {}\n",
    "for label_key, label in labels.items():\n",
    "    y_true_bin = (y_true == label_key).astype(int)\n",
    "    y_hat_bin = (y_hat == label_key).astype(int)\n",
    "    \n",
    "    # compute accuracy\n",
    "    acc_per_label[label] = core.getScores(\n",
    "        y_true_bin,\n",
    "        y_hat_bin,\n",
    "        metrics=core.getDefaultMetrics('binary_classification', ['accuracy'])\n",
    "    )['accuracy']\n",
    "\n",
    "print('Average accuracy: %.3f' % np.mean(list(acc_per_label.values())))\n",
    "pd.DataFrame([acc_per_label], index=['Accuracy']).T"
   ]
  }
 ],
 "metadata": {
  "kernelspec": {
   "display_name": "mlv0",
   "language": "python",
   "name": "mlv0"
  },
  "language_info": {
   "codemirror_mode": {
    "name": "ipython",
    "version": 3
   },
   "file_extension": ".py",
   "mimetype": "text/x-python",
   "name": "python",
   "nbconvert_exporter": "python",
   "pygments_lexer": "ipython3",
   "version": "3.10.14"
  }
 },
 "nbformat": 4,
 "nbformat_minor": 5
}
