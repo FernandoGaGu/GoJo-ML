{
 "cells": [
  {
   "cell_type": "code",
   "execution_count": null,
   "id": "3ada30bb-43d5-4ee6-afbd-05b434e51d74",
   "metadata": {},
   "outputs": [],
   "source": [
    "import sys\n",
    "\n",
    "sys.path.append('..')\n",
    "\n",
    "import optuna\n",
    "from sklearn import datasets\n",
    "from sklearn.svm import SVC\n",
    "\n",
    "# DEID libraries\n",
    "import gojo\n",
    "from gojo import core"
   ]
  },
  {
   "cell_type": "code",
   "execution_count": null,
   "id": "751c8a8c-3a92-4164-9a2d-5a26eef4afdf",
   "metadata": {},
   "outputs": [],
   "source": []
  },
  {
   "cell_type": "code",
   "execution_count": null,
   "id": "b70513c4-248d-4be0-854a-73a844b0ec24",
   "metadata": {},
   "outputs": [],
   "source": [
    "# load test dataset (Wine)\n",
    "wine_dt = datasets.load_wine()\n",
    "\n",
    "# create the target variable. Classification problem 0 vs rest\n",
    "# to see the target names you can use wine_dt['target_names']\n",
    "y = (wine_dt['target'] == 1).astype(int)  \n",
    "X = wine_dt['data']"
   ]
  },
  {
   "cell_type": "code",
   "execution_count": null,
   "id": "353982ed-2754-4759-9635-ac04eaaeabc7",
   "metadata": {},
   "outputs": [],
   "source": [
    "# evaluate the model using a simple cross-validation strategy with a \n",
    "# default parameters\n",
    "cv_report = core.evalCrossVal(\n",
    "    X=X,\n",
    "    y=y,\n",
    "    model=core.SklearnModelWrapper(\n",
    "        SVC, kernel='poly', degree=1, coef0=0.0,\n",
    "        cache_size=1000, class_weight='balanced'\n",
    "    ),\n",
    "    cv=gojo.util.getCrossValObj(cv=5, stratified=True, loocv=False, random_state=1997),\n",
    "    verbose=True,\n",
    "    save_train_preds=True,\n",
    "    save_models=False,\n",
    "    n_jobs=1\n",
    ")\n",
    "scores = cv_report.getScores(core.getDefaultMetrics('binary_classification', bin_threshold=0.5))\n",
    "scores['test']"
   ]
  },
  {
   "cell_type": "code",
   "execution_count": null,
   "id": "c3709b64-fd50-4a49-ade8-b832369d7ca3",
   "metadata": {
    "tags": []
   },
   "outputs": [],
   "source": [
    "search_space = {\n",
    "    'degree': ('suggest_int', (1, 10)),\n",
    "    'coef0': ('suggest_float', (0.0, 100.00 ))\n",
    "}\n",
    "model = core.SklearnModelWrapper(\n",
    "    SVC, kernel='poly', degree=1, coef0=0.0,\n",
    "    cache_size=1000, class_weight='balanced'\n",
    ")"
   ]
  },
  {
   "cell_type": "code",
   "execution_count": null,
   "id": "f11958b4-97ba-4556-b02d-be26e11c08c4",
   "metadata": {
    "tags": []
   },
   "outputs": [],
   "source": [
    "# perform the HPO to optimice model-hyperparameters\n",
    "cv_report = core.evalCrossValNestedHPO(\n",
    "    X=X,\n",
    "    y=y,\n",
    "    model=model,\n",
    "    search_space=search_space,\n",
    "    outer_cv=gojo.util.getCrossValObj(cv=5, stratified=True, loocv=False, random_state=1997),\n",
    "    inner_cv=gojo.util.getCrossValObj(cv=5, stratified=True, loocv=False, random_state=1997),\n",
    "    hpo_sampler=optuna.samplers.TPESampler(n_startup_trials=100),\n",
    "    hpo_n_trials=200,\n",
    "    minimization=False,\n",
    "    metrics=core.getDefaultMetrics('binary_classification', bin_threshold=0.5),\n",
    "    objective_metric='f1_score',\n",
    "    verbose=1,\n",
    "    save_train_preds=True,\n",
    "    save_models=True,\n",
    "    n_jobs=15\n",
    ")"
   ]
  },
  {
   "cell_type": "code",
   "execution_count": null,
   "id": "cd6b9712-cac0-47d8-ac29-4d5d4b75381a",
   "metadata": {},
   "outputs": [],
   "source": [
    "scores = cv_report.getScores(core.getDefaultMetrics('binary_classification', bin_threshold=0.5))\n",
    "scores['test']"
   ]
  },
  {
   "cell_type": "code",
   "execution_count": null,
   "id": "b31daf22-46ab-44d7-b813-6439f0036fe6",
   "metadata": {},
   "outputs": [],
   "source": [
    "cv_report.metadata['hpo_history'][0]['value'].plot()"
   ]
  },
  {
   "cell_type": "code",
   "execution_count": null,
   "id": "363646da-2cbb-4c12-a047-6862e4c596f3",
   "metadata": {
    "tags": []
   },
   "outputs": [],
   "source": [
    "# test a custom aggregation function as optimization objective\n",
    "def adocMetric(_scores):\n",
    "    f1_test = _scores['test']['f1_score'].mean()\n",
    "    f1_train = _scores['train']['f1_score'].mean()\n",
    "    pen1 = 2 * abs(f1_test - f1_train)\n",
    "    pen2 = 2 * _scores['test']['f1_score'].std()\n",
    "    \n",
    "    return f1_test - (pen1 + pen2)\n",
    "\n",
    "cv_report2 = core.evalCrossValNestedHPO(\n",
    "    X=X,\n",
    "    y=y,\n",
    "    model=model,\n",
    "    search_space=search_space,\n",
    "    outer_cv=gojo.util.getCrossValObj(cv=5, stratified=True, loocv=False, random_state=1997),\n",
    "    inner_cv=gojo.util.getCrossValObj(cv=5, stratified=True, loocv=False, random_state=1997),\n",
    "    hpo_sampler=optuna.samplers.TPESampler(n_startup_trials=100),\n",
    "    hpo_n_trials=200,\n",
    "    minimization=False,\n",
    "    metrics=core.getDefaultMetrics('binary_classification', bin_threshold=0.5),\n",
    "    objective_metric='f1_score',\n",
    "    agg_function=adocMetric,\n",
    "    verbose=-1,\n",
    "    save_train_preds=True,\n",
    "    save_models=True,\n",
    "    n_jobs=15\n",
    ")"
   ]
  },
  {
   "cell_type": "code",
   "execution_count": null,
   "id": "f23002e1-741f-487e-889b-6662f20c0f47",
   "metadata": {},
   "outputs": [],
   "source": [
    "scores2 = cv_report2.getScores(core.getDefaultMetrics('binary_classification', bin_threshold=0.5))\n",
    "scores2['test']"
   ]
  },
  {
   "cell_type": "code",
   "execution_count": null,
   "id": "60308000-efa7-4ec6-b1a1-da20d631a9e3",
   "metadata": {},
   "outputs": [],
   "source": [
    "cv_report2.metadata['hpo_history'][0]['value'].plot()"
   ]
  },
  {
   "cell_type": "code",
   "execution_count": null,
   "id": "ec81fffc-94c8-48e5-9e70-9468fbf8aabf",
   "metadata": {},
   "outputs": [],
   "source": [
    "cv_report2.metadata['hpo_best_params']"
   ]
  },
  {
   "cell_type": "code",
   "execution_count": null,
   "id": "1aa33c81-7aef-4500-8d5f-e8bcf9b6c03f",
   "metadata": {},
   "outputs": [],
   "source": [
    "cv_report.metadata['hpo_best_params']"
   ]
  },
  {
   "cell_type": "code",
   "execution_count": null,
   "id": "de41749e-8564-4931-8b5f-a99ca4ee0b9f",
   "metadata": {},
   "outputs": [],
   "source": []
  },
  {
   "cell_type": "code",
   "execution_count": null,
   "id": "595bf51c-c6fc-486d-9441-d96aa5acf957",
   "metadata": {},
   "outputs": [],
   "source": []
  },
  {
   "cell_type": "code",
   "execution_count": null,
   "id": "26782bcd-68f2-44a6-a8c4-47495b4225ea",
   "metadata": {},
   "outputs": [],
   "source": []
  },
  {
   "cell_type": "code",
   "execution_count": null,
   "id": "5134f477-d64c-418e-97b2-5ea941b6ef9f",
   "metadata": {},
   "outputs": [],
   "source": []
  },
  {
   "cell_type": "code",
   "execution_count": null,
   "id": "200666fa-9471-4024-8125-d7aeb129ad40",
   "metadata": {},
   "outputs": [],
   "source": []
  },
  {
   "cell_type": "code",
   "execution_count": null,
   "id": "917c62d6-74c4-45c3-8840-0bd44f689614",
   "metadata": {},
   "outputs": [],
   "source": []
  },
  {
   "cell_type": "code",
   "execution_count": null,
   "id": "6b342fde-c6ab-4dcb-b8a0-ccd78380ffd2",
   "metadata": {},
   "outputs": [],
   "source": []
  },
  {
   "cell_type": "code",
   "execution_count": null,
   "id": "81332e58-da8e-42a1-8c8c-78ca54b9c69e",
   "metadata": {},
   "outputs": [],
   "source": []
  },
  {
   "cell_type": "code",
   "execution_count": null,
   "id": "579c4e1c-21ad-4340-9ba8-2e0b67b260e9",
   "metadata": {},
   "outputs": [],
   "source": []
  },
  {
   "cell_type": "code",
   "execution_count": null,
   "id": "4f817dce-efb6-47af-a6f5-ef7b48cec043",
   "metadata": {},
   "outputs": [],
   "source": []
  },
  {
   "cell_type": "code",
   "execution_count": null,
   "id": "9773f85f-5b9b-4b3b-ac1a-c810da3e1bab",
   "metadata": {},
   "outputs": [],
   "source": []
  },
  {
   "cell_type": "code",
   "execution_count": null,
   "id": "e1c41e11-7d96-473e-aeeb-5b728898dc3a",
   "metadata": {},
   "outputs": [],
   "source": []
  },
  {
   "cell_type": "code",
   "execution_count": null,
   "id": "b51705e3-c9c5-483a-a24b-22742b472887",
   "metadata": {},
   "outputs": [],
   "source": []
  },
  {
   "cell_type": "code",
   "execution_count": null,
   "id": "64cc40ea-05eb-4f48-8355-2b440836d0b1",
   "metadata": {},
   "outputs": [],
   "source": []
  },
  {
   "cell_type": "code",
   "execution_count": null,
   "id": "7f71b818-fa53-45dd-992b-b7ab72022767",
   "metadata": {},
   "outputs": [],
   "source": []
  }
 ],
 "metadata": {
  "kernelspec": {
   "display_name": "Python 3 (ipykernel)",
   "language": "python",
   "name": "python3"
  },
  "language_info": {
   "codemirror_mode": {
    "name": "ipython",
    "version": 3
   },
   "file_extension": ".py",
   "mimetype": "text/x-python",
   "name": "python",
   "nbconvert_exporter": "python",
   "pygments_lexer": "ipython3",
   "version": "3.9.16"
  }
 },
 "nbformat": 4,
 "nbformat_minor": 5
}
