{
 "cells": [
  {
   "cell_type": "code",
   "execution_count": 1,
   "id": "3ada30bb-43d5-4ee6-afbd-05b434e51d74",
   "metadata": {
    "scrolled": true
   },
   "outputs": [],
   "source": [
    "import sys\n",
    "\n",
    "sys.path.append('..')\n",
    "\n",
    "import optuna\n",
    "import pandas as pd\n",
    "from sklearn import datasets\n",
    "from sklearn.svm import SVC\n",
    "from sklearn.linear_model import LogisticRegression\n",
    "from sklearn.preprocessing import StandardScaler\n",
    "from sklearn.model_selection import train_test_split\n",
    "from sklearn.decomposition import PCA\n",
    "\n",
    "# DEID libraries\n",
    "import gojo\n",
    "from gojo import core"
   ]
  },
  {
   "cell_type": "code",
   "execution_count": 2,
   "id": "b70513c4-248d-4be0-854a-73a844b0ec24",
   "metadata": {},
   "outputs": [],
   "source": [
    "# load test dataset (Wine)\n",
    "wine_dt = datasets.load_wine()\n",
    "\n",
    "# create the target variable. Classification problem 0 vs rest\n",
    "# to see the target names you can use wine_dt['target_names']\n",
    "y = (wine_dt['target'] == 1).astype(int)  \n",
    "X = wine_dt['data']"
   ]
  },
  {
   "cell_type": "code",
   "execution_count": 3,
   "id": "55de64b3-b15b-4648-a10e-a009557d1ad0",
   "metadata": {},
   "outputs": [],
   "source": [
    "# previous model transforms\n",
    "transforms = [\n",
    "    core.SKLearnTransformWrapper(StandardScaler),\n",
    "    core.SKLearnTransformWrapper(PCA, n_components=5)\n",
    "]\n",
    "\n",
    "# model hyperparameters\n",
    "search_space = {\n",
    "    'degree': ('suggest_int', (1, 10)),\n",
    "    'class_weight': ('suggest_categorical', [('balanced', None)]),\n",
    "    'coef0': ('suggest_float', (0.0, 100.00 ))\n",
    "}\n",
    "\n",
    "# default model\n",
    "model = core.SklearnModelWrapper(\n",
    "    SVC, kernel='poly', degree=1, coef0=0.0,\n",
    "    cache_size=1000, class_weight=None\n",
    ")"
   ]
  },
  {
   "cell_type": "code",
   "execution_count": 4,
   "id": "353982ed-2754-4759-9635-ac04eaaeabc7",
   "metadata": {},
   "outputs": [
    {
     "name": "stderr",
     "output_type": "stream",
     "text": [
      "Performing cross-validation...: 25it [00:04,  5.71it/s]\n"
     ]
    },
    {
     "data": {
      "text/html": [
       "<div>\n",
       "<style scoped>\n",
       "    .dataframe tbody tr th:only-of-type {\n",
       "        vertical-align: middle;\n",
       "    }\n",
       "\n",
       "    .dataframe tbody tr th {\n",
       "        vertical-align: top;\n",
       "    }\n",
       "\n",
       "    .dataframe thead th {\n",
       "        text-align: right;\n",
       "    }\n",
       "</style>\n",
       "<table border=\"1\" class=\"dataframe\">\n",
       "  <thead>\n",
       "    <tr style=\"text-align: right;\">\n",
       "      <th></th>\n",
       "      <th>Train</th>\n",
       "      <th>Test</th>\n",
       "    </tr>\n",
       "  </thead>\n",
       "  <tbody>\n",
       "    <tr>\n",
       "      <th>accuracy</th>\n",
       "      <td>0.980</td>\n",
       "      <td>0.971</td>\n",
       "    </tr>\n",
       "    <tr>\n",
       "      <th>balanced_accuracy</th>\n",
       "      <td>0.976</td>\n",
       "      <td>0.964</td>\n",
       "    </tr>\n",
       "    <tr>\n",
       "      <th>precision</th>\n",
       "      <td>0.994</td>\n",
       "      <td>0.995</td>\n",
       "    </tr>\n",
       "    <tr>\n",
       "      <th>recall</th>\n",
       "      <td>0.956</td>\n",
       "      <td>0.932</td>\n",
       "    </tr>\n",
       "    <tr>\n",
       "      <th>sensitivity</th>\n",
       "      <td>0.956</td>\n",
       "      <td>0.932</td>\n",
       "    </tr>\n",
       "    <tr>\n",
       "      <th>specificity</th>\n",
       "      <td>0.996</td>\n",
       "      <td>0.996</td>\n",
       "    </tr>\n",
       "    <tr>\n",
       "      <th>negative_predictive_value</th>\n",
       "      <td>0.972</td>\n",
       "      <td>0.959</td>\n",
       "    </tr>\n",
       "    <tr>\n",
       "      <th>f1_score</th>\n",
       "      <td>0.975</td>\n",
       "      <td>0.961</td>\n",
       "    </tr>\n",
       "    <tr>\n",
       "      <th>auc</th>\n",
       "      <td>0.976</td>\n",
       "      <td>0.964</td>\n",
       "    </tr>\n",
       "  </tbody>\n",
       "</table>\n",
       "</div>"
      ],
      "text/plain": [
       "                           Train   Test\n",
       "accuracy                   0.980  0.971\n",
       "balanced_accuracy          0.976  0.964\n",
       "precision                  0.994  0.995\n",
       "recall                     0.956  0.932\n",
       "sensitivity                0.956  0.932\n",
       "specificity                0.996  0.996\n",
       "negative_predictive_value  0.972  0.959\n",
       "f1_score                   0.975  0.961\n",
       "auc                        0.976  0.964"
      ]
     },
     "execution_count": 4,
     "metadata": {},
     "output_type": "execute_result"
    }
   ],
   "source": [
    "# evaluate the model using a simple cross-validation strategy with a \n",
    "# default parameters\n",
    "cv_report = core.evalCrossVal(\n",
    "    X=X, y=y,\n",
    "    model=model,\n",
    "    cv=gojo.util.getCrossValObj(cv=5, repeats=5, stratified=True, loocv=False, random_state=1997),\n",
    "    transforms=transforms,\n",
    "    verbose=True,\n",
    "    save_train_preds=True,\n",
    "    save_models=False,\n",
    "    save_transforms=False,\n",
    "    n_jobs=5\n",
    ")\n",
    "scores = cv_report.getScores(core.getDefaultMetrics('binary_classification', bin_threshold=0.5))\n",
    "results = pd.concat([\n",
    "    pd.DataFrame(scores['train'].mean(axis=0)).round(decimals=3),\n",
    "    pd.DataFrame(scores['test'].mean(axis=0)).round(decimals=3)], \n",
    "    axis=1).drop(index=['n_fold'])\n",
    "results.columns = ['Train', 'Test']\n",
    "results"
   ]
  },
  {
   "cell_type": "code",
   "execution_count": null,
   "id": "5f47449c-864e-4335-a8cd-aedcb21377c8",
   "metadata": {},
   "outputs": [],
   "source": []
  },
  {
   "cell_type": "code",
   "execution_count": null,
   "id": "61af43f5-c657-4dc5-b7f9-90399f58f3df",
   "metadata": {},
   "outputs": [],
   "source": []
  },
  {
   "cell_type": "code",
   "execution_count": null,
   "id": "71660bb3-0ebe-4b5d-9c48-fba92f64636c",
   "metadata": {},
   "outputs": [],
   "source": []
  },
  {
   "cell_type": "code",
   "execution_count": null,
   "id": "4d422099-3317-416a-8738-4b7b1bac7304",
   "metadata": {},
   "outputs": [],
   "source": []
  },
  {
   "cell_type": "code",
   "execution_count": null,
   "id": "2707e200-6695-486c-a8ce-496641acc2e9",
   "metadata": {},
   "outputs": [],
   "source": []
  },
  {
   "cell_type": "code",
   "execution_count": 9,
   "id": "f11958b4-97ba-4556-b02d-be26e11c08c4",
   "metadata": {
    "tags": []
   },
   "outputs": [
    {
     "name": "stderr",
     "output_type": "stream",
     "text": [
      "Performing cross-validation...: 5it [00:32,  6.50s/it]\n"
     ]
    }
   ],
   "source": [
    "# perform the HPO to optimice model-hyperparameters\n",
    "cv_report = core.evalCrossValNestedHPO(\n",
    "    X=X,\n",
    "    y=y,\n",
    "    model=model,\n",
    "    search_space=search_space,\n",
    "    outer_cv=gojo.util.getCrossValObj(cv=5, repeats=1, stratified=True, loocv=False, random_state=1997),\n",
    "    inner_cv=gojo.util.getCrossValObj(cv=5, stratified=True, loocv=False, random_state=1997),\n",
    "    hpo_sampler=optuna.samplers.TPESampler(n_startup_trials=20),\n",
    "    hpo_n_trials=100,\n",
    "    minimization=False,\n",
    "    transforms=transforms,\n",
    "    metrics=core.getDefaultMetrics('binary_classification', bin_threshold=0.5),\n",
    "    objective_metric='f1_score',\n",
    "    verbose=1,\n",
    "    save_train_preds=True,\n",
    "    save_models=False,\n",
    "    n_jobs=8\n",
    ")\n",
    "\n"
   ]
  },
  {
   "cell_type": "code",
   "execution_count": 10,
   "id": "d1e13c65-b957-4c73-b7d9-d6884a66d146",
   "metadata": {},
   "outputs": [
    {
     "data": {
      "text/plain": [
       "<gojo.core.report.CVReport at 0x7f9ce0390160>"
      ]
     },
     "execution_count": 10,
     "metadata": {},
     "output_type": "execute_result"
    }
   ],
   "source": [
    "cv_report"
   ]
  },
  {
   "cell_type": "code",
   "execution_count": null,
   "id": "27a8e530-6f12-494b-9c98-b543c7c0021d",
   "metadata": {},
   "outputs": [],
   "source": []
  },
  {
   "cell_type": "code",
   "execution_count": null,
   "id": "68d3a475-51c1-416d-91fd-9fedf98122fa",
   "metadata": {},
   "outputs": [],
   "source": []
  },
  {
   "cell_type": "code",
   "execution_count": null,
   "id": "d83b7f5c-e3c0-43d1-8c00-15d0a13c63f9",
   "metadata": {},
   "outputs": [],
   "source": []
  },
  {
   "cell_type": "code",
   "execution_count": null,
   "id": "ef7da273-1a0f-493f-96bb-95a79fdc6244",
   "metadata": {},
   "outputs": [],
   "source": [
    "scores = cv_report.getScores(core.getDefaultMetrics('binary_classification', bin_threshold=0.5))\n",
    "results = pd.concat([\n",
    "    pd.DataFrame(scores['train'].mean(axis=0)).round(decimals=3),\n",
    "    pd.DataFrame(scores['test'].mean(axis=0)).round(decimals=3)], \n",
    "    axis=1).drop(index=['n_fold'])\n",
    "results.columns = ['Train', 'Test']\n",
    "results"
   ]
  },
  {
   "cell_type": "code",
   "execution_count": null,
   "id": "363646da-2cbb-4c12-a047-6862e4c596f3",
   "metadata": {
    "tags": []
   },
   "outputs": [],
   "source": [
    "# test a custom aggregation function as optimization objective\n",
    "def adocMetric(_scores):\n",
    "    f1_test = _scores['test']['f1_score'].mean()\n",
    "    f1_train = _scores['train']['f1_score'].mean()\n",
    "    pen1 = 2 * abs(f1_test - f1_train)\n",
    "    pen2 = 2 * _scores['test']['f1_score'].std()\n",
    "    \n",
    "    return f1_test - (pen1 + pen2)\n",
    "\n",
    "cv_report2 = core.evalCrossValNestedHPO(\n",
    "    X=X,\n",
    "    y=y,\n",
    "    model=model,\n",
    "    search_space=search_space,\n",
    "    outer_cv=gojo.util.getCrossValObj(cv=5, repeats=5, stratified=True, loocv=False, random_state=1997),\n",
    "    inner_cv=gojo.util.getCrossValObj(cv=5, stratified=True, loocv=False, random_state=1997),\n",
    "    hpo_sampler=optuna.samplers.TPESampler(n_startup_trials=100),\n",
    "    hpo_n_trials=200,\n",
    "    minimization=False,\n",
    "    transforms=transforms,\n",
    "    metrics=core.getDefaultMetrics('binary_classification', bin_threshold=0.5),\n",
    "    objective_metric='f1_score',\n",
    "    agg_function=adocMetric,\n",
    "    verbose=1,\n",
    "    save_train_preds=True,\n",
    "    save_models=False,\n",
    "    n_jobs=8\n",
    ")"
   ]
  },
  {
   "cell_type": "code",
   "execution_count": null,
   "id": "4e6cef5e-556b-46c7-8a81-e28f6cf169e5",
   "metadata": {},
   "outputs": [],
   "source": [
    "scores = cv_report2.getScores(core.getDefaultMetrics('binary_classification', bin_threshold=0.5))\n",
    "results = pd.concat([\n",
    "    pd.DataFrame(scores['train'].mean(axis=0)).round(decimals=3),\n",
    "    pd.DataFrame(scores['test'].mean(axis=0)).round(decimals=3)], \n",
    "    axis=1).drop(index=['n_fold'])\n",
    "results.columns = ['Train', 'Test']\n",
    "results"
   ]
  },
  {
   "cell_type": "code",
   "execution_count": null,
   "id": "1523fee5-adef-4e69-8ca8-1a52373ddc64",
   "metadata": {},
   "outputs": [],
   "source": [
    "help(cv_report2)"
   ]
  },
  {
   "cell_type": "code",
   "execution_count": null,
   "id": "595bf51c-c6fc-486d-9441-d96aa5acf957",
   "metadata": {},
   "outputs": [],
   "source": []
  },
  {
   "cell_type": "code",
   "execution_count": null,
   "id": "26782bcd-68f2-44a6-a8c4-47495b4225ea",
   "metadata": {},
   "outputs": [],
   "source": []
  },
  {
   "cell_type": "code",
   "execution_count": null,
   "id": "5134f477-d64c-418e-97b2-5ea941b6ef9f",
   "metadata": {},
   "outputs": [],
   "source": []
  },
  {
   "cell_type": "code",
   "execution_count": null,
   "id": "200666fa-9471-4024-8125-d7aeb129ad40",
   "metadata": {},
   "outputs": [],
   "source": []
  },
  {
   "cell_type": "code",
   "execution_count": null,
   "id": "917c62d6-74c4-45c3-8840-0bd44f689614",
   "metadata": {},
   "outputs": [],
   "source": []
  },
  {
   "cell_type": "code",
   "execution_count": null,
   "id": "6b342fde-c6ab-4dcb-b8a0-ccd78380ffd2",
   "metadata": {},
   "outputs": [],
   "source": []
  },
  {
   "cell_type": "code",
   "execution_count": null,
   "id": "81332e58-da8e-42a1-8c8c-78ca54b9c69e",
   "metadata": {},
   "outputs": [],
   "source": []
  },
  {
   "cell_type": "code",
   "execution_count": null,
   "id": "579c4e1c-21ad-4340-9ba8-2e0b67b260e9",
   "metadata": {},
   "outputs": [],
   "source": []
  },
  {
   "cell_type": "code",
   "execution_count": null,
   "id": "4f817dce-efb6-47af-a6f5-ef7b48cec043",
   "metadata": {},
   "outputs": [],
   "source": []
  },
  {
   "cell_type": "code",
   "execution_count": null,
   "id": "9773f85f-5b9b-4b3b-ac1a-c810da3e1bab",
   "metadata": {},
   "outputs": [],
   "source": []
  },
  {
   "cell_type": "code",
   "execution_count": null,
   "id": "e1c41e11-7d96-473e-aeeb-5b728898dc3a",
   "metadata": {},
   "outputs": [],
   "source": []
  },
  {
   "cell_type": "code",
   "execution_count": null,
   "id": "b51705e3-c9c5-483a-a24b-22742b472887",
   "metadata": {},
   "outputs": [],
   "source": []
  },
  {
   "cell_type": "code",
   "execution_count": null,
   "id": "64cc40ea-05eb-4f48-8355-2b440836d0b1",
   "metadata": {},
   "outputs": [],
   "source": []
  },
  {
   "cell_type": "code",
   "execution_count": null,
   "id": "7f71b818-fa53-45dd-992b-b7ab72022767",
   "metadata": {},
   "outputs": [],
   "source": []
  }
 ],
 "metadata": {
  "kernelspec": {
   "display_name": "Python 3 (ipykernel)",
   "language": "python",
   "name": "python3"
  },
  "language_info": {
   "codemirror_mode": {
    "name": "ipython",
    "version": 3
   },
   "file_extension": ".py",
   "mimetype": "text/x-python",
   "name": "python",
   "nbconvert_exporter": "python",
   "pygments_lexer": "ipython3",
   "version": "3.9.16"
  }
 },
 "nbformat": 4,
 "nbformat_minor": 5
}
