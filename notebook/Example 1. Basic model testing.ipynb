{
 "cells": [
  {
   "cell_type": "code",
   "execution_count": 2,
   "id": "3ada30bb-43d5-4ee6-afbd-05b434e51d74",
   "metadata": {},
   "outputs": [],
   "source": [
    "import sys\n",
    "\n",
    "sys.path.append('..')\n",
    "\n",
    "from sklearn import datasets\n",
    "from sklearn.naive_bayes import GaussianNB\n",
    "\n",
    "# DEID libraries\n",
    "import gojo\n",
    "from gojo import core"
   ]
  },
  {
   "cell_type": "code",
   "execution_count": 3,
   "id": "b70513c4-248d-4be0-854a-73a844b0ec24",
   "metadata": {},
   "outputs": [],
   "source": [
    "# load test dataset (Wine)\n",
    "wine_dt = datasets.load_wine()\n",
    "\n",
    "# create the target variable. Classification problem 0 vs rest\n",
    "# to see the target names you can use wine_dt['target_names']\n",
    "y = (wine_dt['target'] == 2).astype(int)  \n",
    "X = wine_dt['data']"
   ]
  },
  {
   "cell_type": "code",
   "execution_count": 7,
   "id": "353982ed-2754-4759-9635-ac04eaaeabc7",
   "metadata": {},
   "outputs": [
    {
     "name": "stderr",
     "output_type": "stream",
     "text": [
      "Making predictions...: 5it [00:00, 593.19it/s]\n"
     ]
    }
   ],
   "source": [
    "cv_report = core.evalCrossVal(\n",
    "    X=X,\n",
    "    y=y,\n",
    "    model=core.SklearnModelWrapper(\n",
    "        GaussianNB, predict_proba=False, priors=[0.25, 0.75]),\n",
    "    cv=gojo.util.getCrossValObj(cv=5, loocv=False, stratified=True, random_state=1997),\n",
    "    verbose=True,\n",
    "    save_train_preds=True,\n",
    "    save_models=False,\n",
    "    n_jobs=1\n",
    "    \n",
    ")"
   ]
  },
  {
   "cell_type": "code",
   "execution_count": 8,
   "id": "1e2bbb63-8167-4027-a18d-3c41e98cc371",
   "metadata": {
    "tags": []
   },
   "outputs": [
    {
     "data": {
      "text/html": [
       "<div>\n",
       "<style scoped>\n",
       "    .dataframe tbody tr th:only-of-type {\n",
       "        vertical-align: middle;\n",
       "    }\n",
       "\n",
       "    .dataframe tbody tr th {\n",
       "        vertical-align: top;\n",
       "    }\n",
       "\n",
       "    .dataframe thead th {\n",
       "        text-align: right;\n",
       "    }\n",
       "</style>\n",
       "<table border=\"1\" class=\"dataframe\">\n",
       "  <thead>\n",
       "    <tr style=\"text-align: right;\">\n",
       "      <th></th>\n",
       "      <th></th>\n",
       "      <th>pred_labels</th>\n",
       "      <th>true_labels</th>\n",
       "    </tr>\n",
       "    <tr>\n",
       "      <th>n_fold</th>\n",
       "      <th>indices</th>\n",
       "      <th></th>\n",
       "      <th></th>\n",
       "    </tr>\n",
       "  </thead>\n",
       "  <tbody>\n",
       "    <tr>\n",
       "      <th rowspan=\"5\" valign=\"top\">0</th>\n",
       "      <th>0</th>\n",
       "      <td>0</td>\n",
       "      <td>0</td>\n",
       "    </tr>\n",
       "    <tr>\n",
       "      <th>5</th>\n",
       "      <td>0</td>\n",
       "      <td>0</td>\n",
       "    </tr>\n",
       "    <tr>\n",
       "      <th>8</th>\n",
       "      <td>0</td>\n",
       "      <td>0</td>\n",
       "    </tr>\n",
       "    <tr>\n",
       "      <th>9</th>\n",
       "      <td>0</td>\n",
       "      <td>0</td>\n",
       "    </tr>\n",
       "    <tr>\n",
       "      <th>14</th>\n",
       "      <td>0</td>\n",
       "      <td>0</td>\n",
       "    </tr>\n",
       "    <tr>\n",
       "      <th>...</th>\n",
       "      <th>...</th>\n",
       "      <td>...</td>\n",
       "      <td>...</td>\n",
       "    </tr>\n",
       "    <tr>\n",
       "      <th rowspan=\"5\" valign=\"top\">4</th>\n",
       "      <th>150</th>\n",
       "      <td>1</td>\n",
       "      <td>1</td>\n",
       "    </tr>\n",
       "    <tr>\n",
       "      <th>157</th>\n",
       "      <td>1</td>\n",
       "      <td>1</td>\n",
       "    </tr>\n",
       "    <tr>\n",
       "      <th>164</th>\n",
       "      <td>1</td>\n",
       "      <td>1</td>\n",
       "    </tr>\n",
       "    <tr>\n",
       "      <th>168</th>\n",
       "      <td>1</td>\n",
       "      <td>1</td>\n",
       "    </tr>\n",
       "    <tr>\n",
       "      <th>172</th>\n",
       "      <td>1</td>\n",
       "      <td>1</td>\n",
       "    </tr>\n",
       "  </tbody>\n",
       "</table>\n",
       "<p>178 rows × 2 columns</p>\n",
       "</div>"
      ],
      "text/plain": [
       "                pred_labels  true_labels\n",
       "n_fold indices                          \n",
       "0      0                  0            0\n",
       "       5                  0            0\n",
       "       8                  0            0\n",
       "       9                  0            0\n",
       "       14                 0            0\n",
       "...                     ...          ...\n",
       "4      150                1            1\n",
       "       157                1            1\n",
       "       164                1            1\n",
       "       168                1            1\n",
       "       172                1            1\n",
       "\n",
       "[178 rows x 2 columns]"
      ]
     },
     "execution_count": 8,
     "metadata": {},
     "output_type": "execute_result"
    }
   ],
   "source": [
    "test_df = cv_report.getTestPredictions()\n",
    "test_df"
   ]
  },
  {
   "cell_type": "code",
   "execution_count": 9,
   "id": "170b2799-6b36-44c7-a7e7-b3e0234f5d77",
   "metadata": {},
   "outputs": [
    {
     "data": {
      "text/html": [
       "<div>\n",
       "<style scoped>\n",
       "    .dataframe tbody tr th:only-of-type {\n",
       "        vertical-align: middle;\n",
       "    }\n",
       "\n",
       "    .dataframe tbody tr th {\n",
       "        vertical-align: top;\n",
       "    }\n",
       "\n",
       "    .dataframe thead th {\n",
       "        text-align: right;\n",
       "    }\n",
       "</style>\n",
       "<table border=\"1\" class=\"dataframe\">\n",
       "  <thead>\n",
       "    <tr style=\"text-align: right;\">\n",
       "      <th></th>\n",
       "      <th></th>\n",
       "      <th>pred_labels</th>\n",
       "      <th>true_labels</th>\n",
       "    </tr>\n",
       "    <tr>\n",
       "      <th>n_fold</th>\n",
       "      <th>indices</th>\n",
       "      <th></th>\n",
       "      <th></th>\n",
       "    </tr>\n",
       "  </thead>\n",
       "  <tbody>\n",
       "    <tr>\n",
       "      <th rowspan=\"5\" valign=\"top\">0</th>\n",
       "      <th>1</th>\n",
       "      <td>0</td>\n",
       "      <td>0</td>\n",
       "    </tr>\n",
       "    <tr>\n",
       "      <th>2</th>\n",
       "      <td>0</td>\n",
       "      <td>0</td>\n",
       "    </tr>\n",
       "    <tr>\n",
       "      <th>3</th>\n",
       "      <td>0</td>\n",
       "      <td>0</td>\n",
       "    </tr>\n",
       "    <tr>\n",
       "      <th>4</th>\n",
       "      <td>0</td>\n",
       "      <td>0</td>\n",
       "    </tr>\n",
       "    <tr>\n",
       "      <th>6</th>\n",
       "      <td>0</td>\n",
       "      <td>0</td>\n",
       "    </tr>\n",
       "    <tr>\n",
       "      <th>...</th>\n",
       "      <th>...</th>\n",
       "      <td>...</td>\n",
       "      <td>...</td>\n",
       "    </tr>\n",
       "    <tr>\n",
       "      <th rowspan=\"5\" valign=\"top\">4</th>\n",
       "      <th>173</th>\n",
       "      <td>1</td>\n",
       "      <td>1</td>\n",
       "    </tr>\n",
       "    <tr>\n",
       "      <th>174</th>\n",
       "      <td>1</td>\n",
       "      <td>1</td>\n",
       "    </tr>\n",
       "    <tr>\n",
       "      <th>175</th>\n",
       "      <td>1</td>\n",
       "      <td>1</td>\n",
       "    </tr>\n",
       "    <tr>\n",
       "      <th>176</th>\n",
       "      <td>1</td>\n",
       "      <td>1</td>\n",
       "    </tr>\n",
       "    <tr>\n",
       "      <th>177</th>\n",
       "      <td>1</td>\n",
       "      <td>1</td>\n",
       "    </tr>\n",
       "  </tbody>\n",
       "</table>\n",
       "<p>712 rows × 2 columns</p>\n",
       "</div>"
      ],
      "text/plain": [
       "                pred_labels  true_labels\n",
       "n_fold indices                          \n",
       "0      1                  0            0\n",
       "       2                  0            0\n",
       "       3                  0            0\n",
       "       4                  0            0\n",
       "       6                  0            0\n",
       "...                     ...          ...\n",
       "4      173                1            1\n",
       "       174                1            1\n",
       "       175                1            1\n",
       "       176                1            1\n",
       "       177                1            1\n",
       "\n",
       "[712 rows x 2 columns]"
      ]
     },
     "execution_count": 9,
     "metadata": {},
     "output_type": "execute_result"
    }
   ],
   "source": [
    "train_df = cv_report.getTrainPredictions()\n",
    "train_df"
   ]
  },
  {
   "cell_type": "code",
   "execution_count": 17,
   "id": "edeef26f-6d42-4140-aa24-2ba25b235c21",
   "metadata": {},
   "outputs": [],
   "source": [
    "for n_fold, _ in test_df.groupby('n_fold'):\n",
    "    break"
   ]
  },
  {
   "cell_type": "code",
   "execution_count": 19,
   "id": "53d61ab1-b037-4148-b30b-c399ee5489c1",
   "metadata": {},
   "outputs": [
    {
     "data": {
      "text/plain": [
       "int"
      ]
     },
     "execution_count": 19,
     "metadata": {},
     "output_type": "execute_result"
    }
   ],
   "source": [
    "type(n_fold)"
   ]
  },
  {
   "cell_type": "code",
   "execution_count": 11,
   "id": "76d83323-6212-4846-a9dd-23a73c4ae7d5",
   "metadata": {},
   "outputs": [
    {
     "data": {
      "text/plain": [
       "n_fold\n",
       "0    0.972222\n",
       "1    1.000000\n",
       "2    1.000000\n",
       "3    0.942857\n",
       "4    0.942857\n",
       "dtype: float64"
      ]
     },
     "execution_count": 11,
     "metadata": {},
     "output_type": "execute_result"
    }
   ],
   "source": [
    "(test_df['pred_labels'] == test_df['true_labels']).groupby('n_fold').mean()"
   ]
  },
  {
   "cell_type": "code",
   "execution_count": 12,
   "id": "60b04a06-d992-4302-bd04-7a180e74b08d",
   "metadata": {},
   "outputs": [
    {
     "data": {
      "text/plain": [
       "n_fold\n",
       "0    0.971831\n",
       "1    0.964789\n",
       "2    0.971831\n",
       "3    0.979021\n",
       "4    0.979021\n",
       "dtype: float64"
      ]
     },
     "execution_count": 12,
     "metadata": {},
     "output_type": "execute_result"
    }
   ],
   "source": [
    "(train_df['pred_labels'] == train_df['true_labels']).groupby('n_fold').mean()"
   ]
  },
  {
   "cell_type": "code",
   "execution_count": 14,
   "id": "f57ae1ec-ca3d-47b6-9b43-25e175f5a2d0",
   "metadata": {},
   "outputs": [
    {
     "data": {
      "text/html": [
       "<div>\n",
       "<style scoped>\n",
       "    .dataframe tbody tr th:only-of-type {\n",
       "        vertical-align: middle;\n",
       "    }\n",
       "\n",
       "    .dataframe tbody tr th {\n",
       "        vertical-align: top;\n",
       "    }\n",
       "\n",
       "    .dataframe thead th {\n",
       "        text-align: right;\n",
       "    }\n",
       "</style>\n",
       "<table border=\"1\" class=\"dataframe\">\n",
       "  <thead>\n",
       "    <tr style=\"text-align: right;\">\n",
       "      <th></th>\n",
       "      <th>accuracy</th>\n",
       "      <th>balanced_accuracy</th>\n",
       "      <th>precision</th>\n",
       "      <th>recall</th>\n",
       "      <th>sensitivity</th>\n",
       "      <th>specificity</th>\n",
       "      <th>negative_predictive_value</th>\n",
       "      <th>f1_score</th>\n",
       "      <th>auc</th>\n",
       "      <th>n_fold</th>\n",
       "    </tr>\n",
       "  </thead>\n",
       "  <tbody>\n",
       "    <tr>\n",
       "      <th>0</th>\n",
       "      <td>0.972222</td>\n",
       "      <td>0.980769</td>\n",
       "      <td>0.909091</td>\n",
       "      <td>1.0</td>\n",
       "      <td>1.0</td>\n",
       "      <td>0.961538</td>\n",
       "      <td>1.0</td>\n",
       "      <td>0.952381</td>\n",
       "      <td>0.980769</td>\n",
       "      <td>0</td>\n",
       "    </tr>\n",
       "    <tr>\n",
       "      <th>1</th>\n",
       "      <td>1.000000</td>\n",
       "      <td>1.000000</td>\n",
       "      <td>1.000000</td>\n",
       "      <td>1.0</td>\n",
       "      <td>1.0</td>\n",
       "      <td>1.000000</td>\n",
       "      <td>1.0</td>\n",
       "      <td>1.000000</td>\n",
       "      <td>1.000000</td>\n",
       "      <td>1</td>\n",
       "    </tr>\n",
       "    <tr>\n",
       "      <th>2</th>\n",
       "      <td>1.000000</td>\n",
       "      <td>1.000000</td>\n",
       "      <td>1.000000</td>\n",
       "      <td>1.0</td>\n",
       "      <td>1.0</td>\n",
       "      <td>1.000000</td>\n",
       "      <td>1.0</td>\n",
       "      <td>1.000000</td>\n",
       "      <td>1.000000</td>\n",
       "      <td>2</td>\n",
       "    </tr>\n",
       "    <tr>\n",
       "      <th>3</th>\n",
       "      <td>0.942857</td>\n",
       "      <td>0.961538</td>\n",
       "      <td>0.818182</td>\n",
       "      <td>1.0</td>\n",
       "      <td>1.0</td>\n",
       "      <td>0.923077</td>\n",
       "      <td>1.0</td>\n",
       "      <td>0.900000</td>\n",
       "      <td>0.961538</td>\n",
       "      <td>3</td>\n",
       "    </tr>\n",
       "    <tr>\n",
       "      <th>4</th>\n",
       "      <td>0.942857</td>\n",
       "      <td>0.961538</td>\n",
       "      <td>0.818182</td>\n",
       "      <td>1.0</td>\n",
       "      <td>1.0</td>\n",
       "      <td>0.923077</td>\n",
       "      <td>1.0</td>\n",
       "      <td>0.900000</td>\n",
       "      <td>0.961538</td>\n",
       "      <td>4</td>\n",
       "    </tr>\n",
       "  </tbody>\n",
       "</table>\n",
       "</div>"
      ],
      "text/plain": [
       "   accuracy  balanced_accuracy  precision  recall  sensitivity  specificity  \\\n",
       "0  0.972222           0.980769   0.909091     1.0          1.0     0.961538   \n",
       "1  1.000000           1.000000   1.000000     1.0          1.0     1.000000   \n",
       "2  1.000000           1.000000   1.000000     1.0          1.0     1.000000   \n",
       "3  0.942857           0.961538   0.818182     1.0          1.0     0.923077   \n",
       "4  0.942857           0.961538   0.818182     1.0          1.0     0.923077   \n",
       "\n",
       "   negative_predictive_value  f1_score       auc  n_fold  \n",
       "0                        1.0  0.952381  0.980769       0  \n",
       "1                        1.0  1.000000  1.000000       1  \n",
       "2                        1.0  1.000000  1.000000       2  \n",
       "3                        1.0  0.900000  0.961538       3  \n",
       "4                        1.0  0.900000  0.961538       4  "
      ]
     },
     "execution_count": 14,
     "metadata": {},
     "output_type": "execute_result"
    }
   ],
   "source": [
    "scores = cv_report.getScores(core.getDefaultMetrics('binary_classification', bin_threshold=0.5))\n",
    "scores['test']"
   ]
  },
  {
   "cell_type": "code",
   "execution_count": 15,
   "id": "89aa6589-4fdd-40ee-86b8-11488920f740",
   "metadata": {},
   "outputs": [
    {
     "data": {
      "text/html": [
       "<div>\n",
       "<style scoped>\n",
       "    .dataframe tbody tr th:only-of-type {\n",
       "        vertical-align: middle;\n",
       "    }\n",
       "\n",
       "    .dataframe tbody tr th {\n",
       "        vertical-align: top;\n",
       "    }\n",
       "\n",
       "    .dataframe thead th {\n",
       "        text-align: right;\n",
       "    }\n",
       "</style>\n",
       "<table border=\"1\" class=\"dataframe\">\n",
       "  <thead>\n",
       "    <tr style=\"text-align: right;\">\n",
       "      <th></th>\n",
       "      <th>accuracy</th>\n",
       "      <th>balanced_accuracy</th>\n",
       "      <th>precision</th>\n",
       "      <th>recall</th>\n",
       "      <th>sensitivity</th>\n",
       "      <th>specificity</th>\n",
       "      <th>negative_predictive_value</th>\n",
       "      <th>f1_score</th>\n",
       "      <th>auc</th>\n",
       "      <th>n_fold</th>\n",
       "    </tr>\n",
       "  </thead>\n",
       "  <tbody>\n",
       "    <tr>\n",
       "      <th>0</th>\n",
       "      <td>0.971831</td>\n",
       "      <td>0.980769</td>\n",
       "      <td>0.904762</td>\n",
       "      <td>1.0</td>\n",
       "      <td>1.0</td>\n",
       "      <td>0.961538</td>\n",
       "      <td>1.0</td>\n",
       "      <td>0.950000</td>\n",
       "      <td>0.980769</td>\n",
       "      <td>0</td>\n",
       "    </tr>\n",
       "    <tr>\n",
       "      <th>1</th>\n",
       "      <td>0.964789</td>\n",
       "      <td>0.975962</td>\n",
       "      <td>0.883721</td>\n",
       "      <td>1.0</td>\n",
       "      <td>1.0</td>\n",
       "      <td>0.951923</td>\n",
       "      <td>1.0</td>\n",
       "      <td>0.938272</td>\n",
       "      <td>0.975962</td>\n",
       "      <td>1</td>\n",
       "    </tr>\n",
       "    <tr>\n",
       "      <th>2</th>\n",
       "      <td>0.971831</td>\n",
       "      <td>0.980769</td>\n",
       "      <td>0.904762</td>\n",
       "      <td>1.0</td>\n",
       "      <td>1.0</td>\n",
       "      <td>0.961538</td>\n",
       "      <td>1.0</td>\n",
       "      <td>0.950000</td>\n",
       "      <td>0.980769</td>\n",
       "      <td>2</td>\n",
       "    </tr>\n",
       "    <tr>\n",
       "      <th>3</th>\n",
       "      <td>0.979021</td>\n",
       "      <td>0.985577</td>\n",
       "      <td>0.928571</td>\n",
       "      <td>1.0</td>\n",
       "      <td>1.0</td>\n",
       "      <td>0.971154</td>\n",
       "      <td>1.0</td>\n",
       "      <td>0.962963</td>\n",
       "      <td>0.985577</td>\n",
       "      <td>3</td>\n",
       "    </tr>\n",
       "    <tr>\n",
       "      <th>4</th>\n",
       "      <td>0.979021</td>\n",
       "      <td>0.985577</td>\n",
       "      <td>0.928571</td>\n",
       "      <td>1.0</td>\n",
       "      <td>1.0</td>\n",
       "      <td>0.971154</td>\n",
       "      <td>1.0</td>\n",
       "      <td>0.962963</td>\n",
       "      <td>0.985577</td>\n",
       "      <td>4</td>\n",
       "    </tr>\n",
       "  </tbody>\n",
       "</table>\n",
       "</div>"
      ],
      "text/plain": [
       "   accuracy  balanced_accuracy  precision  recall  sensitivity  specificity  \\\n",
       "0  0.971831           0.980769   0.904762     1.0          1.0     0.961538   \n",
       "1  0.964789           0.975962   0.883721     1.0          1.0     0.951923   \n",
       "2  0.971831           0.980769   0.904762     1.0          1.0     0.961538   \n",
       "3  0.979021           0.985577   0.928571     1.0          1.0     0.971154   \n",
       "4  0.979021           0.985577   0.928571     1.0          1.0     0.971154   \n",
       "\n",
       "   negative_predictive_value  f1_score       auc  n_fold  \n",
       "0                        1.0  0.950000  0.980769       0  \n",
       "1                        1.0  0.938272  0.975962       1  \n",
       "2                        1.0  0.950000  0.980769       2  \n",
       "3                        1.0  0.962963  0.985577       3  \n",
       "4                        1.0  0.962963  0.985577       4  "
      ]
     },
     "execution_count": 15,
     "metadata": {},
     "output_type": "execute_result"
    }
   ],
   "source": [
    "scores['train']"
   ]
  },
  {
   "cell_type": "code",
   "execution_count": null,
   "id": "7744133b-dea2-474f-98e9-2d9001e25bc3",
   "metadata": {},
   "outputs": [],
   "source": [
    "assert False"
   ]
  },
  {
   "cell_type": "code",
   "execution_count": null,
   "id": "75f36082-95ed-4397-b5e5-0c479eb247ea",
   "metadata": {},
   "outputs": [],
   "source": []
  },
  {
   "cell_type": "code",
   "execution_count": null,
   "id": "055538e8-7198-482b-976a-3e084cae3b98",
   "metadata": {},
   "outputs": [],
   "source": []
  },
  {
   "cell_type": "code",
   "execution_count": null,
   "id": "68eeb6b3-d0b4-4a69-8f13-0ba6c5a1fa41",
   "metadata": {},
   "outputs": [],
   "source": []
  },
  {
   "cell_type": "code",
   "execution_count": null,
   "id": "83e9c9b2-be17-4827-8e92-b7faacba91ce",
   "metadata": {},
   "outputs": [],
   "source": [
    "import pandas as pd"
   ]
  },
  {
   "cell_type": "code",
   "execution_count": null,
   "id": "0f66d710-ac86-47d8-87ff-bfb2c6f694b2",
   "metadata": {},
   "outputs": [],
   "source": [
    "for fold_key, fold_preds in "
   ]
  },
  {
   "cell_type": "code",
   "execution_count": null,
   "id": "00a5fd0b-d3dc-41aa-ba2e-6daee174c3ea",
   "metadata": {},
   "outputs": [],
   "source": [
    "pd.DataFrame(cv_report.test_preds[0])"
   ]
  },
  {
   "cell_type": "code",
   "execution_count": null,
   "id": "3fdb8fc0-0652-44b8-aba4-d689e231b00b",
   "metadata": {},
   "outputs": [],
   "source": []
  },
  {
   "cell_type": "code",
   "execution_count": null,
   "id": "9125db21-4d0a-47b8-8636-af12d5088c2a",
   "metadata": {},
   "outputs": [],
   "source": []
  },
  {
   "cell_type": "code",
   "execution_count": null,
   "id": "b9ab378e-20cc-4bd3-911d-78f01850d23c",
   "metadata": {},
   "outputs": [],
   "source": [
    "dict(cv_results[0])['n_fold']"
   ]
  },
  {
   "cell_type": "code",
   "execution_count": null,
   "id": "81bf93c7-ece7-4738-bfbe-b218d25ab7a7",
   "metadata": {},
   "outputs": [],
   "source": [
    "cv_results[0]"
   ]
  },
  {
   "cell_type": "code",
   "execution_count": null,
   "id": "65dfaeec-5444-463b-8525-8e83d38276f8",
   "metadata": {},
   "outputs": [],
   "source": [
    "assert False"
   ]
  },
  {
   "cell_type": "code",
   "execution_count": null,
   "id": "cc28e7fd-6503-4dd3-b49d-21fa876e41b6",
   "metadata": {},
   "outputs": [],
   "source": []
  },
  {
   "cell_type": "code",
   "execution_count": null,
   "id": "538b6806-622b-4b3c-aa4d-c7877adae522",
   "metadata": {},
   "outputs": [],
   "source": []
  },
  {
   "cell_type": "code",
   "execution_count": null,
   "id": "5f596630-47f4-4592-a50f-6dc9d62d68ea",
   "metadata": {},
   "outputs": [],
   "source": []
  },
  {
   "cell_type": "code",
   "execution_count": null,
   "id": "088f08e4-19d3-4e22-a0b0-1a624a050288",
   "metadata": {},
   "outputs": [],
   "source": []
  },
  {
   "cell_type": "code",
   "execution_count": null,
   "id": "aadae635-318f-4748-984f-34ad368b63da",
   "metadata": {},
   "outputs": [],
   "source": []
  },
  {
   "cell_type": "code",
   "execution_count": null,
   "id": "b668bdc2-1625-4770-9d03-272698541ae6",
   "metadata": {},
   "outputs": [],
   "source": [
    "y[cv_results[0][5]]"
   ]
  },
  {
   "cell_type": "code",
   "execution_count": null,
   "id": "0953a5bc-75f2-4d5f-801e-d2b92b5f37f9",
   "metadata": {},
   "outputs": [],
   "source": [
    "(cv_results[0][2] == cv_results[0][4]).mean()"
   ]
  },
  {
   "cell_type": "code",
   "execution_count": null,
   "id": "5b72f096-23a7-4bbd-8bff-30db3c020886",
   "metadata": {},
   "outputs": [],
   "source": [
    "set(cv_results[0][5]).intersection(set(cv_results[0][6]))"
   ]
  },
  {
   "cell_type": "code",
   "execution_count": null,
   "id": "ba625ae4-c927-4f8e-ab53-7832c465e2be",
   "metadata": {},
   "outputs": [],
   "source": [
    "cv_results[0]"
   ]
  },
  {
   "cell_type": "code",
   "execution_count": null,
   "id": "46463080-9bc6-4eed-9694-c29c0bb0727c",
   "metadata": {},
   "outputs": [],
   "source": [
    "assert False"
   ]
  },
  {
   "cell_type": "code",
   "execution_count": null,
   "id": "55b93d37-c07b-49c1-b793-1d8734a67d65",
   "metadata": {},
   "outputs": [],
   "source": []
  },
  {
   "cell_type": "code",
   "execution_count": null,
   "id": "b242eacf-cdd2-412d-b3a0-0745fe555315",
   "metadata": {},
   "outputs": [],
   "source": []
  },
  {
   "cell_type": "code",
   "execution_count": null,
   "id": "94c07cb2-3e34-46f7-89db-cd0508110016",
   "metadata": {},
   "outputs": [],
   "source": [
    "model.is_fitted"
   ]
  },
  {
   "cell_type": "code",
   "execution_count": null,
   "id": "facf3826-e851-48dc-ad44-5b573223de24",
   "metadata": {},
   "outputs": [],
   "source": [
    "try:\n",
    "    y_hat = core.loops._getModelPredictions(model, X)\n",
    "except gojo.exception.UnfittedEstimator as x:\n",
    "    print('Correctly raising UnfittedEstimator exception')\n"
   ]
  },
  {
   "cell_type": "code",
   "execution_count": null,
   "id": "69514045-f9eb-479c-a6aa-78969a9fe918",
   "metadata": {},
   "outputs": [],
   "source": [
    "y_hat = core.loops._fitModelAndPredict(model, X, X, y)"
   ]
  },
  {
   "cell_type": "code",
   "execution_count": null,
   "id": "5a21a747-9e13-4762-b74d-1d1e92575312",
   "metadata": {},
   "outputs": [],
   "source": [
    "model.is_fitted"
   ]
  },
  {
   "cell_type": "code",
   "execution_count": null,
   "id": "95ec0676-c2e8-4474-bea7-79bd80cc83f5",
   "metadata": {},
   "outputs": [],
   "source": [
    "((y_hat[:, 1] > 0.5).astype(int) == y).mean()"
   ]
  },
  {
   "cell_type": "code",
   "execution_count": null,
   "id": "e4e9f730-38a3-4795-b991-bc366ec1a9f9",
   "metadata": {},
   "outputs": [],
   "source": [
    "y_hat = core.loops._fitModelAndPredict(model, X, X, y)"
   ]
  },
  {
   "cell_type": "code",
   "execution_count": null,
   "id": "f11958b4-97ba-4556-b02d-be26e11c08c4",
   "metadata": {},
   "outputs": [],
   "source": []
  },
  {
   "cell_type": "code",
   "execution_count": null,
   "id": "604924e5-69fc-47e0-9c7f-8523d0199737",
   "metadata": {},
   "outputs": [],
   "source": []
  },
  {
   "cell_type": "code",
   "execution_count": null,
   "id": "6ec53a8a-64c2-40ac-855d-ffb130d6cdae",
   "metadata": {},
   "outputs": [],
   "source": []
  },
  {
   "cell_type": "code",
   "execution_count": null,
   "id": "cd6b9712-cac0-47d8-ac29-4d5d4b75381a",
   "metadata": {},
   "outputs": [],
   "source": []
  },
  {
   "cell_type": "code",
   "execution_count": null,
   "id": "b31daf22-46ab-44d7-b813-6439f0036fe6",
   "metadata": {},
   "outputs": [],
   "source": []
  },
  {
   "cell_type": "code",
   "execution_count": null,
   "id": "ec81fffc-94c8-48e5-9e70-9468fbf8aabf",
   "metadata": {},
   "outputs": [],
   "source": []
  },
  {
   "cell_type": "code",
   "execution_count": null,
   "id": "2b4c92ac-ed1d-4b7a-9ab3-eceb11b99f53",
   "metadata": {},
   "outputs": [],
   "source": []
  },
  {
   "cell_type": "code",
   "execution_count": null,
   "id": "f907dcef-7349-4aa2-9cb0-b0415af5494c",
   "metadata": {},
   "outputs": [],
   "source": []
  },
  {
   "cell_type": "code",
   "execution_count": null,
   "id": "1aa33c81-7aef-4500-8d5f-e8bcf9b6c03f",
   "metadata": {},
   "outputs": [],
   "source": []
  },
  {
   "cell_type": "code",
   "execution_count": null,
   "id": "de41749e-8564-4931-8b5f-a99ca4ee0b9f",
   "metadata": {},
   "outputs": [],
   "source": []
  },
  {
   "cell_type": "code",
   "execution_count": null,
   "id": "595bf51c-c6fc-486d-9441-d96aa5acf957",
   "metadata": {},
   "outputs": [],
   "source": []
  },
  {
   "cell_type": "code",
   "execution_count": null,
   "id": "7459a9a2-a3d4-4504-9a47-f8f039ca69ad",
   "metadata": {},
   "outputs": [],
   "source": []
  },
  {
   "cell_type": "code",
   "execution_count": null,
   "id": "e2b57a12-55dd-4a63-b756-2eb1e86923e5",
   "metadata": {},
   "outputs": [],
   "source": [
    "y_hat = model.performInference(X)"
   ]
  },
  {
   "cell_type": "code",
   "execution_count": null,
   "id": "a6079ef3-36f5-468e-83e4-1da1a4af2504",
   "metadata": {},
   "outputs": [],
   "source": [
    "((y_hat[:, 1] > 0.5).astype(int) == y).mean()"
   ]
  },
  {
   "cell_type": "code",
   "execution_count": null,
   "id": "b3fa7641-349d-4189-ad90-179896735c17",
   "metadata": {},
   "outputs": [],
   "source": [
    "model.resetFit()"
   ]
  },
  {
   "cell_type": "code",
   "execution_count": null,
   "id": "6debd215-993c-49f9-a885-26e8e322b021",
   "metadata": {},
   "outputs": [],
   "source": [
    "model.is_fitted"
   ]
  },
  {
   "cell_type": "code",
   "execution_count": null,
   "id": "f501356a-3eb8-4746-88fa-132aacada327",
   "metadata": {},
   "outputs": [],
   "source": [
    "y_hat_unf = model.performInference(X)"
   ]
  },
  {
   "cell_type": "code",
   "execution_count": null,
   "id": "9fa21942-a74e-43ef-a922-0dad492cfc94",
   "metadata": {},
   "outputs": [],
   "source": [
    "model.parameters"
   ]
  },
  {
   "cell_type": "code",
   "execution_count": null,
   "id": "dfa44af1-b945-4b62-bca2-e8754ed3ab06",
   "metadata": {},
   "outputs": [],
   "source": []
  },
  {
   "cell_type": "code",
   "execution_count": null,
   "id": "26782bcd-68f2-44a6-a8c4-47495b4225ea",
   "metadata": {},
   "outputs": [],
   "source": []
  },
  {
   "cell_type": "code",
   "execution_count": null,
   "id": "5134f477-d64c-418e-97b2-5ea941b6ef9f",
   "metadata": {},
   "outputs": [],
   "source": []
  },
  {
   "cell_type": "code",
   "execution_count": null,
   "id": "200666fa-9471-4024-8125-d7aeb129ad40",
   "metadata": {},
   "outputs": [],
   "source": []
  },
  {
   "cell_type": "code",
   "execution_count": null,
   "id": "917c62d6-74c4-45c3-8840-0bd44f689614",
   "metadata": {},
   "outputs": [],
   "source": []
  },
  {
   "cell_type": "code",
   "execution_count": null,
   "id": "6b342fde-c6ab-4dcb-b8a0-ccd78380ffd2",
   "metadata": {},
   "outputs": [],
   "source": []
  },
  {
   "cell_type": "code",
   "execution_count": null,
   "id": "81332e58-da8e-42a1-8c8c-78ca54b9c69e",
   "metadata": {},
   "outputs": [],
   "source": []
  },
  {
   "cell_type": "code",
   "execution_count": null,
   "id": "579c4e1c-21ad-4340-9ba8-2e0b67b260e9",
   "metadata": {},
   "outputs": [],
   "source": []
  },
  {
   "cell_type": "code",
   "execution_count": null,
   "id": "4f817dce-efb6-47af-a6f5-ef7b48cec043",
   "metadata": {},
   "outputs": [],
   "source": []
  },
  {
   "cell_type": "code",
   "execution_count": null,
   "id": "9773f85f-5b9b-4b3b-ac1a-c810da3e1bab",
   "metadata": {},
   "outputs": [],
   "source": []
  },
  {
   "cell_type": "code",
   "execution_count": null,
   "id": "e1c41e11-7d96-473e-aeeb-5b728898dc3a",
   "metadata": {},
   "outputs": [],
   "source": []
  },
  {
   "cell_type": "code",
   "execution_count": null,
   "id": "b51705e3-c9c5-483a-a24b-22742b472887",
   "metadata": {},
   "outputs": [],
   "source": []
  },
  {
   "cell_type": "code",
   "execution_count": null,
   "id": "64cc40ea-05eb-4f48-8355-2b440836d0b1",
   "metadata": {},
   "outputs": [],
   "source": []
  },
  {
   "cell_type": "code",
   "execution_count": null,
   "id": "7f71b818-fa53-45dd-992b-b7ab72022767",
   "metadata": {},
   "outputs": [],
   "source": []
  }
 ],
 "metadata": {
  "kernelspec": {
   "display_name": "Python 3 (ipykernel)",
   "language": "python",
   "name": "python3"
  },
  "language_info": {
   "codemirror_mode": {
    "name": "ipython",
    "version": 3
   },
   "file_extension": ".py",
   "mimetype": "text/x-python",
   "name": "python",
   "nbconvert_exporter": "python",
   "pygments_lexer": "ipython3",
   "version": "3.9.16"
  }
 },
 "nbformat": 4,
 "nbformat_minor": 5
}
