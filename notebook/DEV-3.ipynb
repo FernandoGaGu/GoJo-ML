{
 "cells": [
  {
   "cell_type": "code",
   "execution_count": 1,
   "id": "4c7ec566-f06c-43f2-9823-9c7548ff14f6",
   "metadata": {},
   "outputs": [],
   "source": [
    "import sys\n",
    "import pandas as pd\n",
    "\n",
    "sys.path.append('..')\n",
    "\n",
    "import torch\n",
    "from sklearn import datasets\n",
    "from sklearn.model_selection import train_test_split\n",
    "\n",
    "# DEID libraries\n",
    "from gojo import core\n",
    "from gojo import deepl\n",
    "from gojo import util\n",
    "from gojo import plotting"
   ]
  },
  {
   "cell_type": "code",
   "execution_count": 2,
   "id": "6562b336-ddfc-4c42-a95b-061d6103329b",
   "metadata": {},
   "outputs": [],
   "source": [
    "# load test dataset (Wine)\n",
    "wine_dt = datasets.load_wine()\n",
    "\n",
    "# create the target variable. Classification problem 0 vs rest\n",
    "# to see the target names you can use wine_dt['target_names']\n",
    "y = (wine_dt['target'] == 1).astype(int)  \n",
    "X = wine_dt['data']\n",
    "\n",
    "# standarize input data\n",
    "X = util.zscoresScaling(X)"
   ]
  },
  {
   "cell_type": "code",
   "execution_count": 4,
   "id": "9d109796-1149-41d6-acdd-dd8a88016686",
   "metadata": {},
   "outputs": [
    {
     "data": {
      "text/plain": [
       "ParametrizedTorchSKInterface(\n",
       "    model=Sequential(\n",
       "  (LinearLayer 0): Linear(in_features=13, out_features=20, bias=True)\n",
       "  (Activation 0): ELU(alpha=1.0)\n",
       "  (LinearLayer 1): Linear(in_features=20, out_features=10, bias=True)\n",
       "  (Activation 1): ELU(alpha=1.0)\n",
       "  (LinearLayer 2): Linear(in_features=10, out_features=1, bias=True)\n",
       "  (Activation 2): Sigmoid()\n",
       "),\n",
       "    iter_fn=<function iterSupervisedEpoch at 0x7fd7ca47b940>,\n",
       "    loss_function=BCELoss(),\n",
       "    n_epochs=50,\n",
       "    train_split=0.8,\n",
       "    train_split_stratify=True,\n",
       "    optimizer_class=<class 'torch.optim.adam.Adam'>,\n",
       "    dataset_class=<class 'gojo.deepl.loading.TorchDataset'>,\n",
       "    dataloader_class=<class 'torch.utils.data.dataloader.DataLoader'>,\n",
       "    optimizer_kw={'lr': 0.001},\n",
       "    train_dataset_kw={},\n",
       "    valid_dataset_kw={},\n",
       "    train_dataloader_kw={'batch_size': 16, 'shuffle': True},\n",
       "    valid_dataloader_kw={'batch_size': 200},\n",
       "    iter_fn_kw={},\n",
       "    callbacks=None,\n",
       "    metrics=[Metric(\n",
       "    name=f1_score,\n",
       "    function_kw={},\n",
       "    multiclass=False\n",
       ")],\n",
       "    seed=None,\n",
       "    device=cpu,\n",
       "    verbose=1,\n",
       "    generating_fn=<function createSimpleFFNModel at 0x7fd7ca4805e0>,\n",
       "    gf_params={'in_feats': 13, 'out_feats': 1, 'layer_dims': [20, 10], 'layer_activation': 'ELU', 'output_activation': 'Sigmoid'}\n",
       ")"
      ]
     },
     "execution_count": 4,
     "metadata": {},
     "output_type": "execute_result"
    }
   ],
   "source": [
    "model = core.ParametrizedTorchSKInterface(\n",
    "    # example of generating function\n",
    "    generating_fn=deepl.ffn.createSimpleFFNModel,\n",
    "    gf_params=dict(\n",
    "        in_feats=13,\n",
    "        out_feats=1,\n",
    "        layer_dims=[20, 10],\n",
    "        layer_activation='ELU',\n",
    "        output_activation='Sigmoid'),\n",
    "    # example of iteration function\n",
    "    iter_fn=deepl.iterSupervisedEpoch,\n",
    "    loss_function=torch.nn.BCELoss(),\n",
    "    n_epochs=50,\n",
    "    train_split=0.8,\n",
    "    train_split_stratify=True,\n",
    "    optimizer_class=torch.optim.Adam,\n",
    "    dataset_class=deepl.loading.TorchDataset,\n",
    "    dataloader_class=torch.utils.data.DataLoader,\n",
    "    optimizer_kw=dict(\n",
    "        lr=0.001\n",
    "    ),\n",
    "    train_dataloader_kw=dict(\n",
    "        batch_size=16,\n",
    "        shuffle=True\n",
    "    ),\n",
    "    valid_dataloader_kw=dict(\n",
    "        batch_size=200\n",
    "    ),\n",
    "    # use default classification metrics\n",
    "    metrics=core.getDefaultMetrics(\n",
    "       'binary_classification', bin_threshold=0.5, select=['f1_score']),\n",
    ")\n",
    "model"
   ]
  },
  {
   "cell_type": "code",
   "execution_count": 6,
   "id": "ac5670b1-01ff-4f42-af6b-0ba287be9d2e",
   "metadata": {},
   "outputs": [
    {
     "data": {
      "text/plain": [
       "ParametrizedTorchSKInterface(\n",
       "    model=Sequential(\n",
       "  (LinearLayer 0): Linear(in_features=13, out_features=5, bias=True)\n",
       "  (Activation 0): ELU(alpha=1.0)\n",
       "  (LinearLayer 1): Linear(in_features=5, out_features=1, bias=True)\n",
       "  (Activation 1): Sigmoid()\n",
       "),\n",
       "    iter_fn=<function iterSupervisedEpoch at 0x7fd7ca47b940>,\n",
       "    loss_function=BCELoss(),\n",
       "    n_epochs=100,\n",
       "    train_split=0.8,\n",
       "    train_split_stratify=True,\n",
       "    optimizer_class=<class 'torch.optim.adam.Adam'>,\n",
       "    dataset_class=<class 'gojo.deepl.loading.TorchDataset'>,\n",
       "    dataloader_class=<class 'torch.utils.data.dataloader.DataLoader'>,\n",
       "    optimizer_kw={'lr': 0.001},\n",
       "    train_dataset_kw={},\n",
       "    valid_dataset_kw={},\n",
       "    train_dataloader_kw={'batch_size': 16, 'shuffle': True},\n",
       "    valid_dataloader_kw={'batch_size': 200},\n",
       "    iter_fn_kw={},\n",
       "    callbacks=None,\n",
       "    metrics=[Metric(\n",
       "    name=f1_score,\n",
       "    function_kw={},\n",
       "    multiclass=False\n",
       ")],\n",
       "    seed=None,\n",
       "    device=cpu,\n",
       "    verbose=1,\n",
       "    generating_fn=<function createSimpleFFNModel at 0x7fd7ca4805e0>,\n",
       "    gf_params={'in_feats': 13, 'out_feats': 1, 'layer_dims': [5], 'layer_activation': 'ELU', 'output_activation': 'Sigmoid'}\n",
       ")"
      ]
     },
     "execution_count": 6,
     "metadata": {},
     "output_type": "execute_result"
    }
   ],
   "source": [
    "model.update(\n",
    "    gf_params__layer_dims=[5],\n",
    "    n_epochs=100\n",
    ")\n",
    "model"
   ]
  },
  {
   "cell_type": "code",
   "execution_count": null,
   "id": "50124787-0dd5-43f2-b481-486fa51fc1fa",
   "metadata": {},
   "outputs": [],
   "source": []
  },
  {
   "cell_type": "code",
   "execution_count": null,
   "id": "6a0558b8-41cc-4a4d-915b-6a32811db43c",
   "metadata": {},
   "outputs": [],
   "source": []
  },
  {
   "cell_type": "code",
   "execution_count": 3,
   "id": "5facd38c-9f5a-4f65-a4d4-bb5b86c751f2",
   "metadata": {
    "tags": []
   },
   "outputs": [
    {
     "data": {
      "text/plain": [
       "ParametrizedTorchSKInterface(\n",
       "    model=Sequential(\n",
       "  (LinearLayer 0): Linear(in_features=13, out_features=20, bias=True)\n",
       "  (Activation 0): ELU(alpha=1.0)\n",
       "  (LinearLayer 1): Linear(in_features=20, out_features=10, bias=True)\n",
       "  (Activation 1): ELU(alpha=1.0)\n",
       "  (LinearLayer 2): Linear(in_features=10, out_features=1, bias=True)\n",
       "  (Activation 2): Sigmoid()\n",
       "),\n",
       "    iter_fn=<function iterSupervisedEpoch at 0x7fd7ca47b940>,\n",
       "    loss_function=BCELoss(),\n",
       "    n_epochs=50,\n",
       "    train_split=0.8,\n",
       "    train_split_stratify=True,\n",
       "    optimizer_class=<class 'torch.optim.adam.Adam'>,\n",
       "    dataset_class=<class 'gojo.deepl.loading.TorchDataset'>,\n",
       "    dataloader_class=<class 'torch.utils.data.dataloader.DataLoader'>,\n",
       "    optimizer_kw={'lr': 0.001},\n",
       "    train_dataset_kw={},\n",
       "    valid_dataset_kw={},\n",
       "    train_dataloader_kw={'batch_size': 16, 'shuffle': True},\n",
       "    valid_dataloader_kw={'batch_size': 200},\n",
       "    iter_fn_kw={},\n",
       "    callbacks=None,\n",
       "    metrics=[Metric(\n",
       "    name=f1_score,\n",
       "    function_kw={},\n",
       "    multiclass=False\n",
       ")],\n",
       "    seed=1997,\n",
       "    device=mps,\n",
       "    verbose=0,\n",
       "    generating_fn=<function createSimpleFFNModel at 0x7fd7ca4805e0>,\n",
       "    gf_params={'in_feats': 13, 'out_feats': 1, 'layer_dims': [20, 10], 'layer_activation': 'ELU', 'output_activation': 'Sigmoid'}\n",
       ")"
      ]
     },
     "execution_count": 3,
     "metadata": {},
     "output_type": "execute_result"
    }
   ],
   "source": [
    "# create the model to be evaluated\n",
    "model = core.ParametrizedTorchSKInterface(\n",
    "    generating_fn=deepl.ffn.createSimpleFFNModel,\n",
    "    gf_params=dict(\n",
    "        in_feats=13,\n",
    "        out_feats=1,\n",
    "        layer_dims=[20, 10],\n",
    "        layer_activation='ELU',\n",
    "        output_activation='Sigmoid'),\n",
    "    iter_fn=deepl.iterSupervisedEpoch,\n",
    "    loss_function=torch.nn.BCELoss(),\n",
    "    n_epochs=50,\n",
    "    train_split=0.8,\n",
    "    train_split_stratify=True,\n",
    "    optimizer_class=torch.optim.Adam,\n",
    "    dataset_class=deepl.loading.TorchDataset,\n",
    "    dataloader_class=torch.utils.data.DataLoader,\n",
    "    optimizer_kw=dict(\n",
    "        lr=0.001\n",
    "    ),\n",
    "    train_dataset_kw=None,\n",
    "    valid_dataset_kw=None,\n",
    "    train_dataloader_kw=dict(\n",
    "        batch_size=16,\n",
    "        shuffle=True\n",
    "    ),\n",
    "    valid_dataloader_kw=dict(\n",
    "        batch_size=200\n",
    "    ),\n",
    "    iter_fn_kw= None,\n",
    "    callbacks= None,\n",
    "    seed=1997,\n",
    "    device='mps',\n",
    "    metrics=core.getDefaultMetrics('binary_classification', bin_threshold=0.5, select=['f1_score']),\n",
    "    verbose=0\n",
    "    \n",
    ")\n",
    "model"
   ]
  },
  {
   "cell_type": "code",
   "execution_count": 4,
   "id": "168e5952-eda0-4553-ac12-3bf95ed245fb",
   "metadata": {},
   "outputs": [
    {
     "name": "stderr",
     "output_type": "stream",
     "text": [
      "Making predictions...: 5it [00:25,  5.00s/it]\n"
     ]
    },
    {
     "data": {
      "text/html": [
       "<div>\n",
       "<style scoped>\n",
       "    .dataframe tbody tr th:only-of-type {\n",
       "        vertical-align: middle;\n",
       "    }\n",
       "\n",
       "    .dataframe tbody tr th {\n",
       "        vertical-align: top;\n",
       "    }\n",
       "\n",
       "    .dataframe thead th {\n",
       "        text-align: right;\n",
       "    }\n",
       "</style>\n",
       "<table border=\"1\" class=\"dataframe\">\n",
       "  <thead>\n",
       "    <tr style=\"text-align: right;\">\n",
       "      <th></th>\n",
       "      <th>accuracy</th>\n",
       "      <th>balanced_accuracy</th>\n",
       "      <th>precision</th>\n",
       "      <th>recall</th>\n",
       "      <th>sensitivity</th>\n",
       "      <th>specificity</th>\n",
       "      <th>negative_predictive_value</th>\n",
       "      <th>f1_score</th>\n",
       "      <th>auc</th>\n",
       "      <th>n_fold</th>\n",
       "    </tr>\n",
       "  </thead>\n",
       "  <tbody>\n",
       "    <tr>\n",
       "      <th>0</th>\n",
       "      <td>1.000000</td>\n",
       "      <td>1.000000</td>\n",
       "      <td>1.0000</td>\n",
       "      <td>1.000000</td>\n",
       "      <td>1.000000</td>\n",
       "      <td>1.000000</td>\n",
       "      <td>1.000000</td>\n",
       "      <td>1.000000</td>\n",
       "      <td>1.000000</td>\n",
       "      <td>0</td>\n",
       "    </tr>\n",
       "    <tr>\n",
       "      <th>1</th>\n",
       "      <td>1.000000</td>\n",
       "      <td>1.000000</td>\n",
       "      <td>1.0000</td>\n",
       "      <td>1.000000</td>\n",
       "      <td>1.000000</td>\n",
       "      <td>1.000000</td>\n",
       "      <td>1.000000</td>\n",
       "      <td>1.000000</td>\n",
       "      <td>1.000000</td>\n",
       "      <td>1</td>\n",
       "    </tr>\n",
       "    <tr>\n",
       "      <th>2</th>\n",
       "      <td>0.972222</td>\n",
       "      <td>0.976190</td>\n",
       "      <td>0.9375</td>\n",
       "      <td>1.000000</td>\n",
       "      <td>1.000000</td>\n",
       "      <td>0.952381</td>\n",
       "      <td>1.000000</td>\n",
       "      <td>0.967742</td>\n",
       "      <td>0.976190</td>\n",
       "      <td>2</td>\n",
       "    </tr>\n",
       "    <tr>\n",
       "      <th>3</th>\n",
       "      <td>0.971429</td>\n",
       "      <td>0.964286</td>\n",
       "      <td>1.0000</td>\n",
       "      <td>0.928571</td>\n",
       "      <td>0.928571</td>\n",
       "      <td>1.000000</td>\n",
       "      <td>0.954545</td>\n",
       "      <td>0.962963</td>\n",
       "      <td>0.964286</td>\n",
       "      <td>3</td>\n",
       "    </tr>\n",
       "    <tr>\n",
       "      <th>4</th>\n",
       "      <td>0.971429</td>\n",
       "      <td>0.964286</td>\n",
       "      <td>1.0000</td>\n",
       "      <td>0.928571</td>\n",
       "      <td>0.928571</td>\n",
       "      <td>1.000000</td>\n",
       "      <td>0.954545</td>\n",
       "      <td>0.962963</td>\n",
       "      <td>0.964286</td>\n",
       "      <td>4</td>\n",
       "    </tr>\n",
       "  </tbody>\n",
       "</table>\n",
       "</div>"
      ],
      "text/plain": [
       "   accuracy  balanced_accuracy  precision    recall  sensitivity  specificity  \\\n",
       "0  1.000000           1.000000     1.0000  1.000000     1.000000     1.000000   \n",
       "1  1.000000           1.000000     1.0000  1.000000     1.000000     1.000000   \n",
       "2  0.972222           0.976190     0.9375  1.000000     1.000000     0.952381   \n",
       "3  0.971429           0.964286     1.0000  0.928571     0.928571     1.000000   \n",
       "4  0.971429           0.964286     1.0000  0.928571     0.928571     1.000000   \n",
       "\n",
       "   negative_predictive_value  f1_score       auc  n_fold  \n",
       "0                   1.000000  1.000000  1.000000       0  \n",
       "1                   1.000000  1.000000  1.000000       1  \n",
       "2                   1.000000  0.967742  0.976190       2  \n",
       "3                   0.954545  0.962963  0.964286       3  \n",
       "4                   0.954545  0.962963  0.964286       4  "
      ]
     },
     "execution_count": 4,
     "metadata": {},
     "output_type": "execute_result"
    }
   ],
   "source": [
    "# evaluate the model using a simple cross-validation strategy with a \n",
    "# default parameters\n",
    "cv_report = core.evalCrossVal(\n",
    "    X=X,\n",
    "    y=y,\n",
    "    model=model,\n",
    "    cv=util.getCrossValObj(cv=5, stratified=True, loocv=False, random_state=1997),\n",
    "    verbose=True,\n",
    "    save_train_preds=True,\n",
    "    save_models=True,\n",
    "    n_jobs=1\n",
    ")\n",
    "scores = cv_report.getScores(core.getDefaultMetrics('binary_classification', bin_threshold=0.5))\n",
    "scores['test']"
   ]
  },
  {
   "cell_type": "code",
   "execution_count": 5,
   "id": "e9739fcf-3b88-4c4e-937c-4b21e8e931d3",
   "metadata": {},
   "outputs": [],
   "source": [
    "def displayConvergence(models):\n",
    "    train_histories = []\n",
    "    valid_histories = []\n",
    "    for model in models:\n",
    "        model_history = model.fitting_history\n",
    "        train_histories.append(model_history['train'])\n",
    "        valid_histories.append(model_history['valid'])\n",
    "        \n",
    "    # display model convergence\n",
    "    plotting.linePlot(\n",
    "        *(train_histories + valid_histories),\n",
    "        x='epoch', y='loss (mean)', err='loss (std)',\n",
    "        legend_labels=[\n",
    "            'Train (%d)' % i for i in range(len(train_histories))] + [\n",
    "            'Valid (%d)' % i for i in range(len(valid_histories))],\n",
    "        colors=['Red'] * len(train_histories) + ['Blue'] * len(valid_histories),\n",
    "        title='Model convergence',\n",
    "        legend_pos='center right')"
   ]
  },
  {
   "cell_type": "code",
   "execution_count": 6,
   "id": "f9e42d25-b27b-4294-9875-371791c2c190",
   "metadata": {},
   "outputs": [
    {
     "data": {
      "image/png": "[encoded data removed]",
      "text/plain": [
       "<Figure size 600x350 with 1 Axes>"
      ]
     },
     "metadata": {},
     "output_type": "display_data"
    }
   ],
   "source": [
    "displayConvergence(list(cv_report.getTrainedModels().values()))"
   ]
  },
  {
   "cell_type": "code",
   "execution_count": 7,
   "id": "5f830b38-8bd0-4ca6-857e-4accc652d0ea",
   "metadata": {},
   "outputs": [
    {
     "data": {
      "image/png": "[encoded data removed]",
      "text/plain": [
       "<Figure size 600x350 with 1 Axes>"
      ]
     },
     "metadata": {},
     "output_type": "display_data"
    }
   ],
   "source": [
    "displayConvergence(\n",
    "    [cv_report.getTrainedModels()[0]]\n",
    ")"
   ]
  },
  {
   "cell_type": "code",
   "execution_count": 8,
   "id": "9895745a-b121-4b9b-80f2-693e59903885",
   "metadata": {},
   "outputs": [
    {
     "ename": "AssertionError",
     "evalue": "",
     "output_type": "error",
     "traceback": [
      "\u001b[0;31m---------------------------------------------------------------------------\u001b[0m",
      "\u001b[0;31mAssertionError\u001b[0m                            Traceback (most recent call last)",
      "Cell \u001b[0;32mIn[8], line 1\u001b[0m\n\u001b[0;32m----> 1\u001b[0m \u001b[38;5;28;01massert\u001b[39;00m \u001b[38;5;28;01mFalse\u001b[39;00m\n",
      "\u001b[0;31mAssertionError\u001b[0m: "
     ]
    }
   ],
   "source": [
    "assert False"
   ]
  },
  {
   "cell_type": "code",
   "execution_count": 15,
   "id": "37d0b81a-dfb6-48a6-81a7-a6fd96cf23fe",
   "metadata": {},
   "outputs": [
    {
     "data": {
      "text/plain": [
       "[('p1', 'NEW_VAL'), ('p2', 20)]"
      ]
     },
     "execution_count": 15,
     "metadata": {},
     "output_type": "execute_result"
    }
   ],
   "source": [
    "l = [('p1', 'None_1'), ('p2', 10)]\n",
    "\n",
    "for i, (name, _) in enumerate(l):\n",
    "    if name == 'p1':\n",
    "        l[i] = (l[i][0], 'NEW_VAL')\n",
    "    if name == 'p2':\n",
    "        l[i] = (l[i][0], l[i][1] + 10)\n",
    "    \n",
    "l"
   ]
  },
  {
   "cell_type": "code",
   "execution_count": 16,
   "id": "4b20d72e-cfaf-427c-9ad2-070cc3ee2c75",
   "metadata": {},
   "outputs": [
    {
     "data": {
      "text/plain": [
       "(('p1', 'NEW_VAL'), ('p2', 20))"
      ]
     },
     "execution_count": 16,
     "metadata": {},
     "output_type": "execute_result"
    }
   ],
   "source": [
    "tuple(l)"
   ]
  },
  {
   "cell_type": "code",
   "execution_count": null,
   "id": "f07b9267-8422-472a-af8f-a690471bc8b5",
   "metadata": {},
   "outputs": [],
   "source": []
  },
  {
   "cell_type": "code",
   "execution_count": null,
   "id": "39433be4-3448-45f7-93be-957640bade9d",
   "metadata": {},
   "outputs": [],
   "source": []
  },
  {
   "cell_type": "code",
   "execution_count": null,
   "id": "cc2d443e-6c86-4c7a-8056-984ae4e4007a",
   "metadata": {},
   "outputs": [],
   "source": []
  },
  {
   "cell_type": "code",
   "execution_count": null,
   "id": "6133935b-f36f-42f5-8bd4-db8a36698016",
   "metadata": {},
   "outputs": [],
   "source": []
  },
  {
   "cell_type": "code",
   "execution_count": null,
   "id": "3ae4623a-6142-4db8-b35a-11e599ab699c",
   "metadata": {},
   "outputs": [],
   "source": []
  },
  {
   "cell_type": "code",
   "execution_count": null,
   "id": "cb64b677-3860-4a04-b033-80d45c271214",
   "metadata": {},
   "outputs": [],
   "source": [
    "cv_report.getTrainedModels()[0]"
   ]
  },
  {
   "cell_type": "code",
   "execution_count": null,
   "id": "e4a7aa6a-96b7-4c7c-b228-4c1c41ced27f",
   "metadata": {},
   "outputs": [],
   "source": []
  },
  {
   "cell_type": "code",
   "execution_count": null,
   "id": "88ccc0d4-119b-45ee-8b01-0c8e720f7963",
   "metadata": {},
   "outputs": [],
   "source": []
  },
  {
   "cell_type": "code",
   "execution_count": null,
   "id": "dd4d3c7e-d6b7-445c-98a2-fa61577e31c3",
   "metadata": {},
   "outputs": [],
   "source": []
  },
  {
   "cell_type": "code",
   "execution_count": null,
   "id": "1b50fbd6-a8a7-435f-b5d2-a52059b1b800",
   "metadata": {},
   "outputs": [],
   "source": [
    "# load test dataset (Wine)\n",
    "wine_dt = datasets.load_wine()\n",
    "\n",
    "# create the target variable. Classification problem 0 vs rest\n",
    "# to see the target names you can use wine_dt['target_names']\n",
    "y = (wine_dt['target'] == 1).astype(int)  \n",
    "X = wine_dt['data']\n",
    "\n",
    "# standarize input data\n",
    "std_X = util.zscoresScaling(X)\n",
    "\n",
    "# split Xs and Ys in training and validation\n",
    "X_train, X_valid, y_train, y_valid = train_test_split(\n",
    "    std_X, y, train_size=0.8, random_state=1997, shuffle=True,\n",
    "    stratify=y\n",
    ")\n",
    "X_train.shape, X_valid.shape, '%.3f' % y_train.mean(),  '%.3f' % y_valid.mean()"
   ]
  },
  {
   "cell_type": "code",
   "execution_count": null,
   "id": "6c58daaf-31ca-4b1b-a1fe-82ce7159943c",
   "metadata": {},
   "outputs": [],
   "source": []
  },
  {
   "cell_type": "code",
   "execution_count": null,
   "id": "6b3d31f9-506c-4eb1-b3bb-80d5fafe6cef",
   "metadata": {},
   "outputs": [],
   "source": [
    "model.train(X_train, y_train)"
   ]
  },
  {
   "cell_type": "code",
   "execution_count": null,
   "id": "68fd6d12-ff4b-4d22-bc5d-efa48963b045",
   "metadata": {},
   "outputs": [],
   "source": [
    "model_history = model.fitting_history\n",
    "\n",
    "# display model convergence\n",
    "plotting.linePlot(\n",
    "    model_history['train'], model_history['valid'],\n",
    "    x='epoch', y='loss (mean)', err='loss (std)',\n",
    "    legend_labels=['Train', 'Validation'],\n",
    "    title='Model convergence',\n",
    "    ls=['solid', 'dashed'],\n",
    "    legend_pos='center right')\n",
    "\n",
    "# display model performance\n",
    "plotting.linePlot(\n",
    "    model_history['train'], model_history['valid'],\n",
    "    x='epoch', y='f1_score', \n",
    "    legend_labels=['Train', 'Validation'],\n",
    "    title='Model F1-score',\n",
    "    ls=['solid', 'dashed'],\n",
    "    legend_pos='center right')"
   ]
  },
  {
   "cell_type": "code",
   "execution_count": null,
   "id": "be05cc3b-4440-4d28-bcfb-edd6faa2c782",
   "metadata": {},
   "outputs": [],
   "source": [
    "model.update(\n",
    "    n_epochs=100,\n",
    "    train_dataloader_kw__batch_size=32,\n",
    "    gf_params__layer_dims=[5, 5, 5],\n",
    "    metrics=core.getDefaultMetrics('binary_classification', bin_threshold=0.5, select=['f1_score', 'auc'])\n",
    ")\n",
    "\n",
    "model"
   ]
  },
  {
   "cell_type": "code",
   "execution_count": null,
   "id": "10a4635f-c856-4e10-8585-b8dcd8b1b9d6",
   "metadata": {},
   "outputs": [],
   "source": [
    "y_hat = model.performInference(X_valid)"
   ]
  },
  {
   "cell_type": "code",
   "execution_count": null,
   "id": "fc4f2e47-ea41-4263-a667-4ece44ab109d",
   "metadata": {
    "tags": []
   },
   "outputs": [],
   "source": [
    "((y_hat > 0.5) == (y_valid > 0.5)).mean()"
   ]
  },
  {
   "cell_type": "code",
   "execution_count": null,
   "id": "04717ff1-c8a8-4176-89ed-aa71335f2ca0",
   "metadata": {},
   "outputs": [],
   "source": [
    "pd.DataFrame([core.getScores(y_true=y_valid, y_pred=y_hat, \n",
    "               metrics=core.getDefaultMetrics('binary_classification', bin_threshold=0.5))]).T.round(decimals=3)"
   ]
  },
  {
   "cell_type": "code",
   "execution_count": null,
   "id": "eb7c7b3e-741d-4625-9a2f-bcb5ffeb590c",
   "metadata": {},
   "outputs": [],
   "source": [
    "model.train(X_train, y_train)"
   ]
  },
  {
   "cell_type": "code",
   "execution_count": null,
   "id": "d41b314f-c53b-4e48-816a-e7cbe45194ab",
   "metadata": {},
   "outputs": [],
   "source": [
    "model_history = model.fitting_history\n",
    "\n",
    "# display model convergence\n",
    "plotting.linePlot(\n",
    "    model_history['train'], model_history['valid'],\n",
    "    x='epoch', y='loss (mean)', err='loss (std)',\n",
    "    legend_labels=['Train', 'Validation'],\n",
    "    title='Model convergence',\n",
    "    ls=['solid', 'dashed'],\n",
    "    legend_pos='center right')\n",
    "\n",
    "# display model performance\n",
    "plotting.linePlot(\n",
    "    model_history['train'], model_history['valid'],\n",
    "    x='epoch', y='f1_score', \n",
    "    legend_labels=['Train', 'Validation'],\n",
    "    title='Model F1-score',\n",
    "    ls=['solid', 'dashed'],\n",
    "    legend_pos='center right')"
   ]
  },
  {
   "cell_type": "code",
   "execution_count": null,
   "id": "9c4f6c21-5dd2-4b75-a2d7-9eca4dfc1e03",
   "metadata": {},
   "outputs": [],
   "source": [
    "y_hat = model.performInference(X_valid)\n",
    "pd.DataFrame([core.getScores(y_true=y_valid, y_pred=y_hat, \n",
    "               metrics=core.getDefaultMetrics('binary_classification', bin_threshold=0.5))]).T.round(decimals=3)"
   ]
  },
  {
   "cell_type": "code",
   "execution_count": null,
   "id": "4a546e8b-19a1-4d44-ab0d-69a1e1506449",
   "metadata": {},
   "outputs": [],
   "source": [
    "# reset the model and perform the predictions\n",
    "model.resetFit()\n",
    "y_hat = model.performInference(X_valid)\n",
    "pd.DataFrame([core.getScores(y_true=y_valid, y_pred=y_hat, \n",
    "               metrics=core.getDefaultMetrics('binary_classification', bin_threshold=0.5))]).T.round(decimals=3)"
   ]
  },
  {
   "cell_type": "code",
   "execution_count": null,
   "id": "32b5a9a5-b15c-417d-9937-02ab771d51f9",
   "metadata": {},
   "outputs": [],
   "source": [
    "model_history = model.fitting_history\n",
    "\n",
    "# display model convergence\n",
    "plotting.linePlot(\n",
    "    model_history['train'], model_history['valid'],\n",
    "    x='epoch', y='loss (mean)', err='loss (std)',\n",
    "    legend_labels=['Train', 'Validation'],\n",
    "    title='Model convergence',\n",
    "    ls=['solid', 'dashed'],\n",
    "    legend_pos='center right')\n",
    "\n",
    "# display model performance\n",
    "plotting.linePlot(\n",
    "    model_history['train'], model_history['valid'],\n",
    "    x='epoch', y='f1_score', \n",
    "    legend_labels=['Train', 'Validation'],\n",
    "    title='Model F1-score',\n",
    "    ls=['solid', 'dashed'],\n",
    "    legend_pos='center right')"
   ]
  },
  {
   "cell_type": "code",
   "execution_count": null,
   "id": "b35bf0bc-2e0a-4063-94ef-a535a54335d9",
   "metadata": {},
   "outputs": [],
   "source": [
    "# reset the model and perform the predictions\n",
    "model.train(X_train, y_train)\n",
    "y_hat = model.performInference(X_valid)\n",
    "core.getScores(y_true=y_valid, y_pred=y_hat, \n",
    "               metrics=core.getDefaultMetrics('binary_classification', bin_threshold=0.5))"
   ]
  },
  {
   "cell_type": "code",
   "execution_count": null,
   "id": "25862ff5-f36e-49f0-8fcd-65db21eec01e",
   "metadata": {},
   "outputs": [],
   "source": []
  },
  {
   "cell_type": "code",
   "execution_count": null,
   "id": "d070d623-c3f5-4307-af6c-e6407ad09082",
   "metadata": {},
   "outputs": [],
   "source": []
  },
  {
   "cell_type": "code",
   "execution_count": null,
   "id": "f70b7047-7944-4dbf-8a01-0f3c8065cd61",
   "metadata": {},
   "outputs": [],
   "source": []
  },
  {
   "cell_type": "code",
   "execution_count": null,
   "id": "96b5ec2f-ab06-4c08-bded-4f73e86d2d68",
   "metadata": {},
   "outputs": [],
   "source": []
  },
  {
   "cell_type": "code",
   "execution_count": null,
   "id": "b82d83e0-2aa0-426f-956b-572f1f6351c6",
   "metadata": {},
   "outputs": [],
   "source": []
  },
  {
   "cell_type": "code",
   "execution_count": null,
   "id": "bf4bc014-9486-418a-8d80-07dea5cd8648",
   "metadata": {},
   "outputs": [],
   "source": []
  },
  {
   "cell_type": "code",
   "execution_count": null,
   "id": "ee01ef17-f390-4c32-b574-095ff1841c19",
   "metadata": {},
   "outputs": [],
   "source": []
  },
  {
   "cell_type": "code",
   "execution_count": null,
   "id": "2433c734-f683-491a-8874-8605a866cd1c",
   "metadata": {},
   "outputs": [],
   "source": []
  },
  {
   "cell_type": "code",
   "execution_count": null,
   "id": "31a0c938-75f4-4858-ac06-626f471c8779",
   "metadata": {},
   "outputs": [],
   "source": []
  },
  {
   "cell_type": "code",
   "execution_count": null,
   "id": "3a952d83-34f3-4d92-87e6-457e40a484e8",
   "metadata": {},
   "outputs": [],
   "source": []
  }
 ],
 "metadata": {
  "kernelspec": {
   "display_name": "Python 3 (ipykernel)",
   "language": "python",
   "name": "python3"
  },
  "language_info": {
   "codemirror_mode": {
    "name": "ipython",
    "version": 3
   },
   "file_extension": ".py",
   "mimetype": "text/x-python",
   "name": "python",
   "nbconvert_exporter": "python",
   "pygments_lexer": "ipython3",
   "version": "3.9.16"
  }
 },
 "nbformat": 4,
 "nbformat_minor": 5
}
