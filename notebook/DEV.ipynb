{
 "cells": [
  {
   "cell_type": "code",
   "execution_count": 8,
   "id": "d674b5a9-d304-48b0-b595-0d61a7f6cb65",
   "metadata": {},
   "outputs": [],
   "source": [
    "import sys\n",
    "import matplotlib.pyplot as plt\n",
    "plt.style.use('ggplot')\n",
    "sys.path.append('..')\n",
    "\n",
    "# GOJO libraries\n",
    "from gojo import deepl"
   ]
  },
  {
   "cell_type": "code",
   "execution_count": 6,
   "id": "7b2870b8-47dd-43d2-aa8d-697393ae23d7",
   "metadata": {},
   "outputs": [],
   "source": [
    "def plot(_n_layers, _layers):\n",
    "    plt.subplots(figsize=(6, 3))\n",
    "    for i, _layer in enumerate(_layers):\n",
    "        plt.plot(list(range(1, _n_layers+1)), _layer, label='%d' % i)\n",
    "        plt.scatter(list(range(1, _n_layers+1)), _layer)\n",
    "    plt.legend()\n",
    "    plt.show()"
   ]
  },
  {
   "cell_type": "code",
   "execution_count": 4,
   "id": "ac3ebcbc-3564-4773-ac53-1acd9ef28f17",
   "metadata": {},
   "outputs": [],
   "source": [
    "layers1 = deepl.ffn.generateParametrizedLayers(\n",
    "    10,\n",
    "    1000,\n",
    "    'linear',\n",
    "    1, 9999,\n",
    "    beta=2,\n",
    "    alpha=100\n",
    "    \n",
    ")"
   ]
  },
  {
   "cell_type": "code",
   "execution_count": 20,
   "id": "34896ac8-deda-4f86-aa4b-11b1e08ca999",
   "metadata": {},
   "outputs": [],
   "source": [
    "layers2 = deepl.ffn.generateParametrizedLayers(\n",
    "    10,\n",
    "    1000,\n",
    "    'exponential',\n",
    "    1, 9999,\n",
    "    beta=1.5,\n",
    "    alpha=100\n",
    "    \n",
    ")"
   ]
  },
  {
   "cell_type": "code",
   "execution_count": 21,
   "id": "1a19b56c-fa56-4ddd-a958-ce1f9491e4b8",
   "metadata": {},
   "outputs": [
    {
     "data": {
      "image/png": "[encoded data removed]",
      "text/plain": [
       "<Figure size 600x300 with 1 Axes>"
      ]
     },
     "metadata": {},
     "output_type": "display_data"
    }
   ],
   "source": [
    "plot(10, [layers1, layers2])"
   ]
  },
  {
   "cell_type": "code",
   "execution_count": 3,
   "id": "44f0c43a-ad43-4e8a-aca1-17c5d0bb055d",
   "metadata": {},
   "outputs": [
    {
     "ename": "AssertionError",
     "evalue": "",
     "output_type": "error",
     "traceback": [
      "\u001b[0;31m---------------------------------------------------------------------------\u001b[0m",
      "\u001b[0;31mAssertionError\u001b[0m                            Traceback (most recent call last)",
      "Cell \u001b[0;32mIn[3], line 1\u001b[0m\n\u001b[0;32m----> 1\u001b[0m \u001b[38;5;28;01massert\u001b[39;00m \u001b[38;5;28;01mFalse\u001b[39;00m\n",
      "\u001b[0;31mAssertionError\u001b[0m: "
     ]
    }
   ],
   "source": [
    "assert False"
   ]
  },
  {
   "cell_type": "code",
   "execution_count": null,
   "id": "bf2ef56f-06fc-413f-8dac-b8b1be966cb7",
   "metadata": {},
   "outputs": [],
   "source": []
  },
  {
   "cell_type": "code",
   "execution_count": null,
   "id": "2272af7d-b64a-4b35-bb9e-f850882cd08e",
   "metadata": {},
   "outputs": [],
   "source": []
  },
  {
   "cell_type": "code",
   "execution_count": null,
   "id": "fbdcb6b4-bf33-4e85-a364-39d6c5133291",
   "metadata": {},
   "outputs": [],
   "source": []
  },
  {
   "cell_type": "code",
   "execution_count": null,
   "id": "b5d55ebb-81f4-401b-b869-b22678ac8830",
   "metadata": {},
   "outputs": [],
   "source": [
    "import numpy as np\n",
    "import matplotlib.pyplot as plt\n",
    "\n",
    "plt.style.use('ggplot')"
   ]
  },
  {
   "cell_type": "code",
   "execution_count": null,
   "id": "2e331b1c-1977-4bf4-99eb-b87f698fed58",
   "metadata": {},
   "outputs": [],
   "source": [
    "def plot(_n_layers, _layers):\n",
    "    plt.subplots(figsize=(6, 3))\n",
    "    for i, _layer in enumerate(_layers):\n",
    "        plt.plot(list(range(1, _n_layers+1)), _layer, label='%d' % i)\n",
    "        plt.scatter(list(range(1, _n_layers+1)), _layer)\n",
    "    plt.legend()\n",
    "    plt.show()\n"
   ]
  },
  {
   "cell_type": "code",
   "execution_count": null,
   "id": "3f2924b6-a0ae-4491-bdf9-16e82e450637",
   "metadata": {},
   "outputs": [],
   "source": [
    "n_layers = 6\n",
    "init = 1000\n",
    "x = init\n",
    "layers = [x]\n",
    "for i in range(1, n_layers):\n",
    "    x = np.sqrt(x)\n",
    "    layers.append(x)\n",
    "layers\n",
    "\n",
    "plot(n_layers, [layers])"
   ]
  },
  {
   "cell_type": "code",
   "execution_count": null,
   "id": "855ba188-9648-4938-a885-4a7ad57bd3e0",
   "metadata": {},
   "outputs": [],
   "source": [
    "# función parametrizada con un array\n",
    "layers2 = np.ceil(np.array([init] * n_layers) * (1/2) ** np.arange(n_layers))\n",
    "layers2"
   ]
  },
  {
   "cell_type": "code",
   "execution_count": null,
   "id": "b1274323-8788-46fe-b499-94d8f561e98c",
   "metadata": {},
   "outputs": [],
   "source": [
    "init_layer_shape = 1000\n",
    "n_layers = 5\n",
    "beta = 2"
   ]
  },
  {
   "cell_type": "code",
   "execution_count": null,
   "id": "e46f1a2a-de05-4103-8ba8-c761f849f5c0",
   "metadata": {},
   "outputs": [],
   "source": [
    "np.ceil(\n",
    "    np.array([init_layer_shape] * n_layers) * ( (1/beta) ** np.arange(n_layers) ))"
   ]
  },
  {
   "cell_type": "code",
   "execution_count": null,
   "id": "9dacb3cd-66f7-415c-a21c-2514bd820895",
   "metadata": {},
   "outputs": [],
   "source": [
    "alpha = 200\n",
    "layers = np.ceil(\n",
    "    np.array([init_layer_shape] * n_layers) - ( alpha * np.arange(n_layers)))\n",
    "layers"
   ]
  },
  {
   "cell_type": "code",
   "execution_count": null,
   "id": "942145b9-bed4-4a31-9163-ee02f6f48194",
   "metadata": {},
   "outputs": [],
   "source": [
    "layers[layers < 500] = 500\n",
    "layers"
   ]
  },
  {
   "cell_type": "code",
   "execution_count": null,
   "id": "f2d47c58-225e-4c0e-9856-f60de7b032d2",
   "metadata": {},
   "outputs": [],
   "source": []
  },
  {
   "cell_type": "code",
   "execution_count": null,
   "id": "3361de95-97ce-48a0-8941-b84988c25538",
   "metadata": {},
   "outputs": [],
   "source": []
  },
  {
   "cell_type": "code",
   "execution_count": null,
   "id": "6052c6a4-2164-4c3d-960e-61fe3753c098",
   "metadata": {},
   "outputs": [],
   "source": []
  },
  {
   "cell_type": "code",
   "execution_count": null,
   "id": "72aeb139-6175-43b7-9219-c609f7967b6a",
   "metadata": {},
   "outputs": [],
   "source": []
  },
  {
   "cell_type": "code",
   "execution_count": null,
   "id": "a1aeb118-a9c7-441f-8a16-febe7f72f704",
   "metadata": {},
   "outputs": [],
   "source": []
  },
  {
   "cell_type": "code",
   "execution_count": null,
   "id": "66274c6a-161c-4b36-9bbb-feb2013e27ab",
   "metadata": {},
   "outputs": [],
   "source": []
  },
  {
   "cell_type": "code",
   "execution_count": null,
   "id": "05387726-fbd9-4db3-acdf-55baeefd6962",
   "metadata": {},
   "outputs": [],
   "source": []
  },
  {
   "cell_type": "code",
   "execution_count": null,
   "id": "3388bca8-282d-4650-b2fa-15d6977e6558",
   "metadata": {},
   "outputs": [],
   "source": []
  },
  {
   "cell_type": "code",
   "execution_count": null,
   "id": "e98614b2-1315-4100-a76a-b37bbbbebceb",
   "metadata": {},
   "outputs": [],
   "source": []
  },
  {
   "cell_type": "code",
   "execution_count": null,
   "id": "2af168f9-c896-406f-af2d-360d5f235be3",
   "metadata": {},
   "outputs": [],
   "source": []
  },
  {
   "cell_type": "code",
   "execution_count": null,
   "id": "485a29b9-76f1-4ee8-b3e2-7bbc75f05372",
   "metadata": {},
   "outputs": [],
   "source": [
    "plot(n_layers, [layers, layers2])"
   ]
  },
  {
   "cell_type": "code",
   "execution_count": null,
   "id": "d0bc193c-fa61-4eb4-b1f5-4093ae352976",
   "metadata": {},
   "outputs": [],
   "source": [
    "layers3 = np.ceil(np.array([init] * n_layers) * (1/np.e) ** np.arange(n_layers))"
   ]
  },
  {
   "cell_type": "code",
   "execution_count": null,
   "id": "056f1a0d-ca1e-4246-b9eb-f1a95ca43887",
   "metadata": {},
   "outputs": [],
   "source": [
    "plot(n_layers, [layers, layers2, layers3])"
   ]
  },
  {
   "cell_type": "code",
   "execution_count": null,
   "id": "e2d13fa7-04a1-46de-930e-a0960e2bed77",
   "metadata": {},
   "outputs": [],
   "source": [
    "layers4 = np.ceil(np.array([init] * n_layers) * (1/2) ** np.arange(n_layers))"
   ]
  },
  {
   "cell_type": "code",
   "execution_count": null,
   "id": "b6c1751a-feba-4a09-8a37-570013d50132",
   "metadata": {},
   "outputs": [],
   "source": [
    "plot(n_layers, [layers, layers2, layers3, layers4])"
   ]
  },
  {
   "cell_type": "code",
   "execution_count": null,
   "id": "656cc76d-53bf-4384-a9fc-01ce15003815",
   "metadata": {},
   "outputs": [],
   "source": []
  },
  {
   "cell_type": "code",
   "execution_count": null,
   "id": "d521cc65-9460-4f17-8101-246fc4a0949f",
   "metadata": {},
   "outputs": [],
   "source": []
  },
  {
   "cell_type": "code",
   "execution_count": null,
   "id": "29c43f0a-cce6-4583-af0f-c7b34017380a",
   "metadata": {},
   "outputs": [],
   "source": []
  },
  {
   "cell_type": "code",
   "execution_count": null,
   "id": "5cbb735c-d959-40ae-b4c5-6b2f1d9e817e",
   "metadata": {},
   "outputs": [],
   "source": []
  },
  {
   "cell_type": "code",
   "execution_count": null,
   "id": "ef350732-e477-4586-9dcd-dbcc70c238cb",
   "metadata": {},
   "outputs": [],
   "source": []
  },
  {
   "cell_type": "code",
   "execution_count": null,
   "id": "3a952d83-34f3-4d92-87e6-457e40a484e8",
   "metadata": {},
   "outputs": [],
   "source": []
  }
 ],
 "metadata": {
  "kernelspec": {
   "display_name": "Python 3 (ipykernel)",
   "language": "python",
   "name": "python3"
  },
  "language_info": {
   "codemirror_mode": {
    "name": "ipython",
    "version": 3
   },
   "file_extension": ".py",
   "mimetype": "text/x-python",
   "name": "python",
   "nbconvert_exporter": "python",
   "pygments_lexer": "ipython3",
   "version": "3.11.5"
  }
 },
 "nbformat": 4,
 "nbformat_minor": 5
}
