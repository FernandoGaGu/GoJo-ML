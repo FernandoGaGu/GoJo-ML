{
 "cells": [
  {
   "cell_type": "markdown",
   "id": "ca60173e-9504-4a19-8561-31ed75ab68b0",
   "metadata": {},
   "source": [
    "# Neural networks integration\n",
    "\n",
    "This notebook contains a basic explanation of how neural network based models can be used within the __gojo__ library. \n",
    "\n",
    "In this example we will use the __Wine dataset__:\n",
    "\n",
    "__Overview__\n",
    "\n",
    "The Wine dataset is a classic dataset often used for classification and clustering tasks in machine learning. It contains the results of a chemical analysis of wines grown in the same region in Italy but derived from three different cultivars. The goal is to classify the wines into one of these three classes based on their chemical properties.\n",
    "\n",
    "__Dataset Characteristics__\n",
    "\n",
    "- **Number of Instances:** 178\n",
    "- **Number of Features:** 13 numeric, predictive attributes\n",
    "- **Number of Classes:** 3 (Class 0, Class 1, Class 2)\n",
    "\n",
    "__Attribute Information__\n",
    "\n",
    "The dataset includes 13 real-valued features for each wine sample:\n",
    "\n",
    "1. **Alcohol**\n",
    "2. **Malic acid**\n",
    "3. **Ash**\n",
    "4. **Alcalinity of ash**\n",
    "5. **Magnesium**\n",
    "6. **Total phenols**\n",
    "7. **Flavanoids**\n",
    "8. **Nonflavanoid phenols**\n",
    "9. **Proanthocyanins**\n",
    "10. **Color intensity**\n",
    "11. **Hue**\n",
    "12. **OD280/OD315 of diluted wines**\n",
    "13. **Proline**\n",
    "\n",
    "Each feature represents a chemical property or compound found in the wine. These features are used to classify the wine samples into one of the three cultivars.\n",
    "\n",
    "__Target Variable__\n",
    "\n",
    "The target variable is categorical and indicates the cultivar of the wine:\n",
    "\n",
    "- **Class 0:** Cultivar 0\n",
    "- **Class 1:** Cultivar 1\n",
    "- **Class 2:** Cultivar 2\n",
    "\n",
    "In our example we will merge classes 0 and 1 for simplicity.\n",
    "\n",
    "__Usage__\n",
    "\n",
    "This dataset is commonly used for:\n",
    "\n",
    "- Classification tasks to distinguish between different wine cultivars\n",
    "- Evaluating the performance of classification algorithms\n",
    "- Feature selection and importance analysis\n",
    "- Understanding the chemical properties that differentiate wine cultivars\n",
    "\n",
    "__Source__\n",
    "\n",
    "The dataset is publicly available from the UCI Machine Learning Repository and was donated by S. Aeberhard, D. Coomans, and O. de Vel from the Institute of Pharmaceutical and Food Analysis and Technologies in 1991."
   ]
  },
  {
   "cell_type": "code",
   "execution_count": 1,
   "id": "384c966c-6508-4503-be44-7b8bf5db8088",
   "metadata": {},
   "outputs": [
    {
     "name": "stderr",
     "output_type": "stream",
     "text": [
      "C:\\Users\\fgarcia\\anaconda3\\envs\\mlv0\\lib\\site-packages\\tqdm\\auto.py:21: TqdmWarning: IProgress not found. Please update jupyter and ipywidgets. See https://ipywidgets.readthedocs.io/en/stable/user_install.html\n",
      "  from .autonotebook import tqdm as notebook_tqdm\n"
     ]
    }
   ],
   "source": [
    "import torch\n",
    "import pandas as pd\n",
    "import matplotlib.pyplot as plt\n",
    "from sklearn import datasets\n",
    "from sklearn.preprocessing import StandardScaler\n",
    "from sklearn.model_selection import train_test_split\n",
    "\n",
    "# for a simpler use, we load the different submodules of the library\n",
    "#     - the gojo.core module contains all the subroutines used to evaluate the models\n",
    "#     - the gojo.interfaces module provides a standardized way to interact with the different elements of gojo.core\n",
    "#     - the gojo.util module implements some utilities\n",
    "#     - the gojo.deepl module contains all code neccessary to train deep learning models\n",
    "#     - the gojo.plotting module implements different visualization tools\n",
    "from gojo import core\n",
    "from gojo import interfaces\n",
    "from gojo import util\n",
    "from gojo import deepl\n",
    "from gojo import plotting"
   ]
  },
  {
   "cell_type": "code",
   "execution_count": 2,
   "id": "24949d95-ff13-4e68-9484-d514abf765cf",
   "metadata": {},
   "outputs": [
    {
     "data": {
      "text/plain": [
       "((142, 13), (36, 13), '0.401', '0.389')"
      ]
     },
     "execution_count": 2,
     "metadata": {},
     "output_type": "execute_result"
    }
   ],
   "source": [
    "# load test dataset (Wine)\n",
    "wine_dt = datasets.load_wine()\n",
    "\n",
    "# create the target variable. Classification problem 0 vs rest\n",
    "# to see the target names you can use wine_dt['target_names']\n",
    "y = (wine_dt['target'] == 1).astype(int)  \n",
    "X = wine_dt['data']\n",
    "\n",
    "# split Xs and Ys in training and test\n",
    "X_train, X_test, y_train, y_test = train_test_split(\n",
    "    X, y, train_size=0.8, random_state=1997, shuffle=True,\n",
    "    stratify=y\n",
    ")\n",
    "\n",
    "# standarize the data based on the training set statistics\n",
    "scaler = StandardScaler().fit(X_train)\n",
    "X_train = scaler.transform(X_train)\n",
    "X_test = scaler.transform(X_test)\n",
    "\n",
    "X_train.shape, X_test.shape, '%.3f' % y_train.mean(),  '%.3f' % y_test.mean()"
   ]
  },
  {
   "cell_type": "markdown",
   "id": "1b091899-ad54-4bc8-8efe-e3f98d30bf82",
   "metadata": {},
   "source": [
    "## Basic model training\n",
    "\n",
    "Let's start by training a basic model based on feed-forward networks (FFNs) without using a validation set and evaluating the performance of the model using a hold-out schema.\n",
    "\n",
    "For the sake of simplicity, let us define the components of the FFN model one by one. Lets start with the model..."
   ]
  },
  {
   "cell_type": "code",
   "execution_count": 3,
   "id": "5812d751-1a29-4068-83c7-9ac4759acb74",
   "metadata": {},
   "outputs": [
    {
     "data": {
      "text/plain": [
       "Sequential(\n",
       "  (LinearLayer 0): Linear(in_features=13, out_features=20, bias=True)\n",
       "  (Activation 0): ELU(alpha=1.0)\n",
       "  (LinearLayer 1): Linear(in_features=20, out_features=1, bias=True)\n",
       "  (Activation 1): Sigmoid()\n",
       ")"
      ]
     },
     "execution_count": 3,
     "metadata": {},
     "output_type": "execute_result"
    }
   ],
   "source": [
    "ffn = deepl.ffn.createSimpleFFNModel(\n",
    "    in_feats=X_train.shape[1],\n",
    "    out_feats=1,\n",
    "    layer_dims=[20],\n",
    "    layer_activation=torch.nn.ELU(),\n",
    "    output_activation=torch.nn.Sigmoid())\n",
    "ffn"
   ]
  },
  {
   "cell_type": "markdown",
   "id": "3068bc02-f101-497d-8c21-9be6e2990bd1",
   "metadata": {},
   "source": [
    "And now let's use the __interfaces.TorchSKInterface__ interface to create a wrapper that can be evaluated as another model in the framework."
   ]
  },
  {
   "cell_type": "code",
   "execution_count": 4,
   "id": "776fe267-28d5-4967-8b8a-e864e5c9d5e9",
   "metadata": {
    "scrolled": true
   },
   "outputs": [
    {
     "data": {
      "text/plain": [
       "TorchSKInterface(\n",
       "    model=Sequential(\n",
       "  (LinearLayer 0): Linear(in_features=13, out_features=20, bias=True)\n",
       "  (Activation 0): ELU(alpha=1.0)\n",
       "  (LinearLayer 1): Linear(in_features=20, out_features=1, bias=True)\n",
       "  (Activation 1): Sigmoid()\n",
       "),\n",
       "    iter_fn=<function iterSupervisedEpoch at 0x000002D199195480>,\n",
       "    loss_function=BCELoss(),\n",
       "    n_epochs=150,\n",
       "    train_split=1.0,\n",
       "    train_split_stratify=False,\n",
       "    optimizer_class=<class 'torch.optim.adam.Adam'>,\n",
       "    dataset_class=<class 'gojo.deepl.loading.TorchDataset'>,\n",
       "    dataloader_class=<class 'torch.utils.data.dataloader.DataLoader'>,\n",
       "    optimizer_kw={'lr': 0.001},\n",
       "    train_dataset_kw={},\n",
       "    valid_dataset_kw={},\n",
       "    inference_dataset_kw=None,\n",
       "    train_dataloader_kw={'batch_size': 16, 'shuffle': True},\n",
       "    valid_dataloader_kw={},\n",
       "    inference_dataloader_kw=None,\n",
       "    iter_fn_kw={},\n",
       "    callbacks=None,\n",
       "    metrics=[Metric(\n",
       "    name=accuracy,\n",
       "    function_kw={},\n",
       "    multiclass=False\n",
       "), Metric(\n",
       "    name=balanced_accuracy,\n",
       "    function_kw={},\n",
       "    multiclass=False\n",
       "), Metric(\n",
       "    name=precision,\n",
       "    function_kw={'zero_division': 0},\n",
       "    multiclass=False\n",
       "), Metric(\n",
       "    name=recall,\n",
       "    function_kw={'zero_division': 0},\n",
       "    multiclass=False\n",
       "), Metric(\n",
       "    name=sensitivity,\n",
       "    function_kw={'zero_division': 0},\n",
       "    multiclass=False\n",
       "), Metric(\n",
       "    name=specificity,\n",
       "    function_kw={},\n",
       "    multiclass=False\n",
       "), Metric(\n",
       "    name=negative_predictive_value,\n",
       "    function_kw={},\n",
       "    multiclass=False\n",
       "), Metric(\n",
       "    name=f1_score,\n",
       "    function_kw={},\n",
       "    multiclass=False\n",
       "), Metric(\n",
       "    name=auc,\n",
       "    function_kw={},\n",
       "    multiclass=False\n",
       ")],\n",
       "    batch_size=None,\n",
       "    seed=1997,\n",
       "    device=cuda,\n",
       "    verbose=1\n",
       ")"
      ]
     },
     "execution_count": 4,
     "metadata": {},
     "output_type": "execute_result"
    }
   ],
   "source": [
    "model = interfaces.TorchSKInterface(\n",
    "    model=ffn,\n",
    "    iter_fn=deepl.iterSupervisedEpoch,\n",
    "    loss_function=torch.nn.BCELoss(),\n",
    "    n_epochs=150,\n",
    "    optimizer_class=torch.optim.Adam,\n",
    "    dataset_class=deepl.loading.TorchDataset,\n",
    "    dataloader_class=torch.utils.data.DataLoader,\n",
    "    optimizer_kw=dict(\n",
    "        lr=0.001\n",
    "    ),\n",
    "    train_dataset_kw=None,\n",
    "    train_dataloader_kw=dict(\n",
    "        batch_size=16,\n",
    "        shuffle=True\n",
    "    ),\n",
    "    iter_fn_kw= None,\n",
    "    callbacks= None,\n",
    "    seed=1997,\n",
    "    device='cuda',\n",
    "    metrics=core.getDefaultMetrics('binary_classification', bin_threshold=0.5),\n",
    "    verbose=1   # adjust desired verbosity level\n",
    ")\n",
    "\n",
    "model"
   ]
  },
  {
   "cell_type": "markdown",
   "id": "5abce453-9e52-490c-87ac-8f07ffe57c0b",
   "metadata": {},
   "source": [
    "We can now train the model by calling the train method and passing it numpy arrays"
   ]
  },
  {
   "cell_type": "code",
   "execution_count": 5,
   "id": "67fe20f2-1324-4272-931f-1eb84e39ce02",
   "metadata": {},
   "outputs": [
    {
     "name": "stderr",
     "output_type": "stream",
     "text": [
      "Training model...: 100%|█████████████████████████████████████████████████████████████| 150/150 [00:06<00:00, 22.88it/s]\n"
     ]
    }
   ],
   "source": [
    "model.train(X_train, y_train)"
   ]
  },
  {
   "cell_type": "markdown",
   "id": "f480a3f5-e5f6-421a-8ad3-30e8cfedc84f",
   "metadata": {},
   "source": [
    "Lets analyze model convergence..."
   ]
  },
  {
   "cell_type": "code",
   "execution_count": 6,
   "id": "e0b2b538-7a5c-4c3a-963a-10f96af593e6",
   "metadata": {},
   "outputs": [
    {
     "data": {
      "text/html": [
       "<div>\n",
       "<style scoped>\n",
       "    .dataframe tbody tr th:only-of-type {\n",
       "        vertical-align: middle;\n",
       "    }\n",
       "\n",
       "    .dataframe tbody tr th {\n",
       "        vertical-align: top;\n",
       "    }\n",
       "\n",
       "    .dataframe thead th {\n",
       "        text-align: right;\n",
       "    }\n",
       "</style>\n",
       "<table border=\"1\" class=\"dataframe\">\n",
       "  <thead>\n",
       "    <tr style=\"text-align: right;\">\n",
       "      <th></th>\n",
       "      <th>epoch</th>\n",
       "      <th>loss (mean)</th>\n",
       "      <th>loss (std)</th>\n",
       "      <th>accuracy</th>\n",
       "      <th>balanced_accuracy</th>\n",
       "      <th>precision</th>\n",
       "      <th>recall</th>\n",
       "      <th>sensitivity</th>\n",
       "      <th>specificity</th>\n",
       "      <th>negative_predictive_value</th>\n",
       "      <th>f1_score</th>\n",
       "      <th>auc</th>\n",
       "    </tr>\n",
       "  </thead>\n",
       "  <tbody>\n",
       "    <tr>\n",
       "      <th>0</th>\n",
       "      <td>0</td>\n",
       "      <td>0.639395</td>\n",
       "      <td>0.019050</td>\n",
       "      <td>0.697183</td>\n",
       "      <td>0.680599</td>\n",
       "      <td>0.629630</td>\n",
       "      <td>0.596491</td>\n",
       "      <td>0.596491</td>\n",
       "      <td>0.764706</td>\n",
       "      <td>0.738636</td>\n",
       "      <td>0.612613</td>\n",
       "      <td>0.775851</td>\n",
       "    </tr>\n",
       "    <tr>\n",
       "      <th>1</th>\n",
       "      <td>1</td>\n",
       "      <td>0.601799</td>\n",
       "      <td>0.012565</td>\n",
       "      <td>0.823944</td>\n",
       "      <td>0.809598</td>\n",
       "      <td>0.807692</td>\n",
       "      <td>0.736842</td>\n",
       "      <td>0.736842</td>\n",
       "      <td>0.882353</td>\n",
       "      <td>0.833333</td>\n",
       "      <td>0.770642</td>\n",
       "      <td>0.897214</td>\n",
       "    </tr>\n",
       "    <tr>\n",
       "      <th>2</th>\n",
       "      <td>2</td>\n",
       "      <td>0.566573</td>\n",
       "      <td>0.021680</td>\n",
       "      <td>0.880282</td>\n",
       "      <td>0.865325</td>\n",
       "      <td>0.900000</td>\n",
       "      <td>0.789474</td>\n",
       "      <td>0.789474</td>\n",
       "      <td>0.941176</td>\n",
       "      <td>0.869565</td>\n",
       "      <td>0.841121</td>\n",
       "      <td>0.950052</td>\n",
       "    </tr>\n",
       "    <tr>\n",
       "      <th>3</th>\n",
       "      <td>3</td>\n",
       "      <td>0.530974</td>\n",
       "      <td>0.034932</td>\n",
       "      <td>0.887324</td>\n",
       "      <td>0.874097</td>\n",
       "      <td>0.901961</td>\n",
       "      <td>0.807018</td>\n",
       "      <td>0.807018</td>\n",
       "      <td>0.941176</td>\n",
       "      <td>0.879121</td>\n",
       "      <td>0.851852</td>\n",
       "      <td>0.970072</td>\n",
       "    </tr>\n",
       "    <tr>\n",
       "      <th>4</th>\n",
       "      <td>4</td>\n",
       "      <td>0.498827</td>\n",
       "      <td>0.022399</td>\n",
       "      <td>0.915493</td>\n",
       "      <td>0.903406</td>\n",
       "      <td>0.941176</td>\n",
       "      <td>0.842105</td>\n",
       "      <td>0.842105</td>\n",
       "      <td>0.964706</td>\n",
       "      <td>0.901099</td>\n",
       "      <td>0.888889</td>\n",
       "      <td>0.981011</td>\n",
       "    </tr>\n",
       "  </tbody>\n",
       "</table>\n",
       "</div>"
      ],
      "text/plain": [
       "   epoch  loss (mean)  loss (std)  accuracy  balanced_accuracy  precision  \\\n",
       "0      0     0.639395    0.019050  0.697183           0.680599   0.629630   \n",
       "1      1     0.601799    0.012565  0.823944           0.809598   0.807692   \n",
       "2      2     0.566573    0.021680  0.880282           0.865325   0.900000   \n",
       "3      3     0.530974    0.034932  0.887324           0.874097   0.901961   \n",
       "4      4     0.498827    0.022399  0.915493           0.903406   0.941176   \n",
       "\n",
       "     recall  sensitivity  specificity  negative_predictive_value  f1_score  \\\n",
       "0  0.596491     0.596491     0.764706                   0.738636  0.612613   \n",
       "1  0.736842     0.736842     0.882353                   0.833333  0.770642   \n",
       "2  0.789474     0.789474     0.941176                   0.869565  0.841121   \n",
       "3  0.807018     0.807018     0.941176                   0.879121  0.851852   \n",
       "4  0.842105     0.842105     0.964706                   0.901099  0.888889   \n",
       "\n",
       "        auc  \n",
       "0  0.775851  \n",
       "1  0.897214  \n",
       "2  0.950052  \n",
       "3  0.970072  \n",
       "4  0.981011  "
      ]
     },
     "execution_count": 6,
     "metadata": {},
     "output_type": "execute_result"
    }
   ],
   "source": [
    "model_history = model.fitting_history\n",
    "model_history['train'].head(5)"
   ]
  },
  {
   "cell_type": "code",
   "execution_count": 7,
   "id": "2f417c43-63b6-4e76-933b-ce3d3fe4ef5d",
   "metadata": {},
   "outputs": [
    {
     "data": {
      "image/png": "[encoded data removed]",
      "text/plain": [
       "<Figure size 600x350 with 1 Axes>"
      ]
     },
     "metadata": {},
     "output_type": "display_data"
    }
   ],
   "source": [
    "# display model convergence\n",
    "plotting.linePlot(\n",
    "    model_history['train'],\n",
    "    x='epoch', y='loss (mean)', err='loss (std)',\n",
    "    labels=['Train'],\n",
    "    title='Model convergence',\n",
    "    ls=['solid'],\n",
    "    legend_pos='center right')"
   ]
  },
  {
   "cell_type": "markdown",
   "id": "6b334876-abc8-41c4-8add-8bde0823826d",
   "metadata": {},
   "source": [
    "Since the model converges (the loss decreases asymptotically), let us evaluate the performance of the model on the test set"
   ]
  },
  {
   "cell_type": "code",
   "execution_count": 8,
   "id": "ff9b2ac2-21cf-446d-b215-af392044b0e2",
   "metadata": {},
   "outputs": [],
   "source": [
    "y_hat = model.performInference(X_test)"
   ]
  },
  {
   "cell_type": "code",
   "execution_count": 9,
   "id": "c9db5400-7a99-4afe-8e74-bc5d9096e0d6",
   "metadata": {},
   "outputs": [
    {
     "name": "stdout",
     "output_type": "stream",
     "text": [
      "Accuracy: 97.22%\n"
     ]
    }
   ],
   "source": [
    "print('Accuracy: {:.2f}%'.format(((y_hat > 0.5).astype(int) == y_test).mean() * 100))"
   ]
  },
  {
   "cell_type": "markdown",
   "id": "eb5d55d2-6967-4dbc-a3c4-6a644f2b23ae",
   "metadata": {},
   "source": [
    "During model training, it is also possible to easily add a validation set to evaluate possible model overfitting. For this pourpose we can specify the parameter __train_split__ providing the proportion of samples splitted for training. In out example we also specify the parameter __train_split_stratify__ to perform the train/validation split with class stratification. The parameters of the dataset and dataloader used can also be specified by means of parameters __valid_dataset_kw__ and __valid_dataloader_kw__."
   ]
  },
  {
   "cell_type": "code",
   "execution_count": 10,
   "id": "1a7d35b9-1d45-4798-8c98-007918d0a4e0",
   "metadata": {
    "scrolled": true
   },
   "outputs": [
    {
     "data": {
      "text/plain": [
       "TorchSKInterface(\n",
       "    model=Sequential(\n",
       "  (LinearLayer 0): Linear(in_features=13, out_features=20, bias=True)\n",
       "  (Activation 0): ELU(alpha=1.0)\n",
       "  (LinearLayer 1): Linear(in_features=20, out_features=1, bias=True)\n",
       "  (Activation 1): Sigmoid()\n",
       "),\n",
       "    iter_fn=<function iterSupervisedEpoch at 0x000002D199195480>,\n",
       "    loss_function=BCELoss(),\n",
       "    n_epochs=75,\n",
       "    train_split=0.8,\n",
       "    train_split_stratify=True,\n",
       "    optimizer_class=<class 'torch.optim.adam.Adam'>,\n",
       "    dataset_class=<class 'gojo.deepl.loading.TorchDataset'>,\n",
       "    dataloader_class=<class 'torch.utils.data.dataloader.DataLoader'>,\n",
       "    optimizer_kw={'lr': 0.001},\n",
       "    train_dataset_kw={},\n",
       "    valid_dataset_kw={},\n",
       "    inference_dataset_kw=None,\n",
       "    train_dataloader_kw={'batch_size': 16, 'shuffle': True},\n",
       "    valid_dataloader_kw={'batch_size': 142},\n",
       "    inference_dataloader_kw=None,\n",
       "    iter_fn_kw={},\n",
       "    callbacks=None,\n",
       "    metrics=[Metric(\n",
       "    name=accuracy,\n",
       "    function_kw={},\n",
       "    multiclass=False\n",
       "), Metric(\n",
       "    name=balanced_accuracy,\n",
       "    function_kw={},\n",
       "    multiclass=False\n",
       "), Metric(\n",
       "    name=precision,\n",
       "    function_kw={'zero_division': 0},\n",
       "    multiclass=False\n",
       "), Metric(\n",
       "    name=recall,\n",
       "    function_kw={'zero_division': 0},\n",
       "    multiclass=False\n",
       "), Metric(\n",
       "    name=sensitivity,\n",
       "    function_kw={'zero_division': 0},\n",
       "    multiclass=False\n",
       "), Metric(\n",
       "    name=specificity,\n",
       "    function_kw={},\n",
       "    multiclass=False\n",
       "), Metric(\n",
       "    name=negative_predictive_value,\n",
       "    function_kw={},\n",
       "    multiclass=False\n",
       "), Metric(\n",
       "    name=f1_score,\n",
       "    function_kw={},\n",
       "    multiclass=False\n",
       "), Metric(\n",
       "    name=auc,\n",
       "    function_kw={},\n",
       "    multiclass=False\n",
       ")],\n",
       "    batch_size=None,\n",
       "    seed=1997,\n",
       "    device=cuda,\n",
       "    verbose=1\n",
       ")"
      ]
     },
     "execution_count": 10,
     "metadata": {},
     "output_type": "execute_result"
    }
   ],
   "source": [
    "model_with_val = interfaces.TorchSKInterface(\n",
    "    model=deepl.ffn.createSimpleFFNModel(\n",
    "        in_feats=X_train.shape[1],\n",
    "        out_feats=1,\n",
    "        layer_dims=[20],\n",
    "        layer_activation=torch.nn.ELU(),\n",
    "        output_activation=torch.nn.Sigmoid()\n",
    "    ),\n",
    "    iter_fn=deepl.iterSupervisedEpoch,\n",
    "    loss_function=torch.nn.BCELoss(),\n",
    "    n_epochs=75,\n",
    "    train_split=0.8,                    # (new) specify train/validation split\n",
    "    train_split_stratify=True,          # (new) specify train/validation class stratification\n",
    "    optimizer_class=torch.optim.Adam,\n",
    "    dataset_class=deepl.loading.TorchDataset,\n",
    "    dataloader_class=torch.utils.data.DataLoader,\n",
    "    optimizer_kw=dict(\n",
    "        lr=0.001\n",
    "    ),\n",
    "    train_dataset_kw=None,\n",
    "    train_dataloader_kw=dict(\n",
    "        batch_size=16,\n",
    "        shuffle=True\n",
    "    ),\n",
    "    valid_dataloader_kw=dict(             # (new) validation dataloader parameters\n",
    "        batch_size=X_train.shape[0]\n",
    "    ),\n",
    "    iter_fn_kw= None,\n",
    "    callbacks= None,\n",
    "    seed=1997,\n",
    "    device='cuda',\n",
    "    metrics=core.getDefaultMetrics('binary_classification', bin_threshold=0.5),\n",
    "    verbose=1   # adjust desired verbosity level\n",
    ")\n",
    "\n",
    "model_with_val"
   ]
  },
  {
   "cell_type": "code",
   "execution_count": 11,
   "id": "97282c03-54b8-43a9-a346-56ae535a7091",
   "metadata": {},
   "outputs": [
    {
     "name": "stderr",
     "output_type": "stream",
     "text": [
      "Training model...: 100%|███████████████████████████████████████████████████████████████| 75/75 [00:01<00:00, 48.47it/s]\n"
     ]
    }
   ],
   "source": [
    "model_with_val.train(X_train, y_train)"
   ]
  },
  {
   "cell_type": "code",
   "execution_count": 12,
   "id": "4accd43d-52ef-451c-b2da-67d61dc948e9",
   "metadata": {},
   "outputs": [
    {
     "data": {
      "image/png": "[encoded data removed]",
      "text/plain": [
       "<Figure size 600x350 with 1 Axes>"
      ]
     },
     "metadata": {},
     "output_type": "display_data"
    },
    {
     "data": {
      "image/png": "[encoded data removed]",
      "text/plain": [
       "<Figure size 600x350 with 1 Axes>"
      ]
     },
     "metadata": {},
     "output_type": "display_data"
    }
   ],
   "source": [
    "model_with_val_history = model_with_val.fitting_history\n",
    "\n",
    "# display model convergence\n",
    "plotting.linePlot(\n",
    "    model_with_val_history['train'], model_with_val_history['valid'],\n",
    "    x='epoch', y='loss (mean)', err='loss (std)',\n",
    "    labels=['Train', 'Validation'],\n",
    "    title='Model convergence',\n",
    "    ls=['solid', 'dashed'],\n",
    "    legend_pos='center right')\n",
    "\n",
    "# display model performance\n",
    "plotting.linePlot(\n",
    "    model_with_val_history['train'], model_with_val_history['valid'],\n",
    "    x='epoch', y='f1_score', \n",
    "    labels=['Train', 'Validation'],\n",
    "    title='Model F1-score',\n",
    "    ls=['solid', 'dashed'],\n",
    "    legend_pos='center right')"
   ]
  },
  {
   "cell_type": "code",
   "execution_count": 13,
   "id": "677c8f71-19e0-47b9-988f-a7e0cf4a8793",
   "metadata": {},
   "outputs": [
    {
     "data": {
      "text/html": [
       "<div>\n",
       "<style scoped>\n",
       "    .dataframe tbody tr th:only-of-type {\n",
       "        vertical-align: middle;\n",
       "    }\n",
       "\n",
       "    .dataframe tbody tr th {\n",
       "        vertical-align: top;\n",
       "    }\n",
       "\n",
       "    .dataframe thead th {\n",
       "        text-align: right;\n",
       "    }\n",
       "</style>\n",
       "<table border=\"1\" class=\"dataframe\">\n",
       "  <thead>\n",
       "    <tr style=\"text-align: right;\">\n",
       "      <th></th>\n",
       "      <th>0</th>\n",
       "    </tr>\n",
       "  </thead>\n",
       "  <tbody>\n",
       "    <tr>\n",
       "      <th>accuracy</th>\n",
       "      <td>1.0</td>\n",
       "    </tr>\n",
       "    <tr>\n",
       "      <th>balanced_accuracy</th>\n",
       "      <td>1.0</td>\n",
       "    </tr>\n",
       "    <tr>\n",
       "      <th>precision</th>\n",
       "      <td>1.0</td>\n",
       "    </tr>\n",
       "    <tr>\n",
       "      <th>recall</th>\n",
       "      <td>1.0</td>\n",
       "    </tr>\n",
       "    <tr>\n",
       "      <th>sensitivity</th>\n",
       "      <td>1.0</td>\n",
       "    </tr>\n",
       "    <tr>\n",
       "      <th>specificity</th>\n",
       "      <td>1.0</td>\n",
       "    </tr>\n",
       "    <tr>\n",
       "      <th>negative_predictive_value</th>\n",
       "      <td>1.0</td>\n",
       "    </tr>\n",
       "    <tr>\n",
       "      <th>f1_score</th>\n",
       "      <td>1.0</td>\n",
       "    </tr>\n",
       "    <tr>\n",
       "      <th>auc</th>\n",
       "      <td>1.0</td>\n",
       "    </tr>\n",
       "  </tbody>\n",
       "</table>\n",
       "</div>"
      ],
      "text/plain": [
       "                             0\n",
       "accuracy                   1.0\n",
       "balanced_accuracy          1.0\n",
       "precision                  1.0\n",
       "recall                     1.0\n",
       "sensitivity                1.0\n",
       "specificity                1.0\n",
       "negative_predictive_value  1.0\n",
       "f1_score                   1.0\n",
       "auc                        1.0"
      ]
     },
     "execution_count": 13,
     "metadata": {},
     "output_type": "execute_result"
    }
   ],
   "source": [
    "# test the model on the validation dataset\n",
    "y_hat = model_with_val.performInference(X_test)\n",
    "pd.DataFrame([core.getScores(y_true=y_test, y_pred=y_hat, \n",
    "               metrics=core.getDefaultMetrics('binary_classification', bin_threshold=0.5))]).T.round(decimals=3)"
   ]
  },
  {
   "cell_type": "markdown",
   "id": "860e6f28-6cc9-42c2-9da9-0456856d33a0",
   "metadata": {},
   "source": [
    "## Model evaluation via cross-validation\n",
    "\n",
    "Next, let us evaluate the model by cross-validation. In this case we will dispense with the validation set and train the model for 50 epochs evaluating its performance by 5-fold cross-validation with class stratification."
   ]
  },
  {
   "cell_type": "code",
   "execution_count": 14,
   "id": "8b04e26e-b18d-4704-9585-cadf3dfeada5",
   "metadata": {},
   "outputs": [
    {
     "data": {
      "text/plain": [
       "TorchSKInterface(\n",
       "    model=Sequential(\n",
       "  (LinearLayer 0): Linear(in_features=13, out_features=20, bias=True)\n",
       "  (Activation 0): ELU(alpha=1.0)\n",
       "  (LinearLayer 1): Linear(in_features=20, out_features=1, bias=True)\n",
       "  (Activation 1): Sigmoid()\n",
       "),\n",
       "    iter_fn=<function iterSupervisedEpoch at 0x000002D199195480>,\n",
       "    loss_function=BCELoss(),\n",
       "    n_epochs=50,\n",
       "    train_split=1.0,\n",
       "    train_split_stratify=False,\n",
       "    optimizer_class=<class 'torch.optim.adam.Adam'>,\n",
       "    dataset_class=<class 'gojo.deepl.loading.TorchDataset'>,\n",
       "    dataloader_class=<class 'torch.utils.data.dataloader.DataLoader'>,\n",
       "    optimizer_kw={'lr': 0.001},\n",
       "    train_dataset_kw={},\n",
       "    valid_dataset_kw={},\n",
       "    inference_dataset_kw=None,\n",
       "    train_dataloader_kw={'batch_size': 16, 'shuffle': True},\n",
       "    valid_dataloader_kw={},\n",
       "    inference_dataloader_kw=None,\n",
       "    iter_fn_kw={},\n",
       "    callbacks=None,\n",
       "    metrics=None,\n",
       "    batch_size=None,\n",
       "    seed=1997,\n",
       "    device=cuda,\n",
       "    verbose=1\n",
       ")"
      ]
     },
     "execution_count": 14,
     "metadata": {},
     "output_type": "execute_result"
    }
   ],
   "source": [
    "# This is the same definition as the previous model but we have omitted some \n",
    "# parameters that are selected by default\n",
    "model_cv = interfaces.TorchSKInterface(\n",
    "    model=deepl.ffn.createSimpleFFNModel(\n",
    "        in_feats=X_train.shape[1],\n",
    "        out_feats=1,\n",
    "        layer_dims=[20],\n",
    "        layer_activation=torch.nn.ELU(),\n",
    "        output_activation=torch.nn.Sigmoid()\n",
    "    ),\n",
    "    iter_fn=deepl.iterSupervisedEpoch,\n",
    "    loss_function=torch.nn.BCELoss(),\n",
    "    n_epochs=50,\n",
    "    optimizer_class=torch.optim.Adam,\n",
    "    dataset_class=deepl.loading.TorchDataset,\n",
    "    dataloader_class=torch.utils.data.DataLoader,\n",
    "    optimizer_kw=dict(\n",
    "        lr=0.001\n",
    "    ),\n",
    "    train_dataloader_kw=dict(\n",
    "        batch_size=16,\n",
    "        shuffle=True\n",
    "    ),\n",
    "    seed=1997,\n",
    "    device='cuda',\n",
    ")\n",
    "\n",
    "model_cv"
   ]
  },
  {
   "cell_type": "code",
   "execution_count": 15,
   "id": "af8f7a7d-70dd-4105-94ee-130ea609469a",
   "metadata": {
    "scrolled": true
   },
   "outputs": [
    {
     "name": "stderr",
     "output_type": "stream",
     "text": [
      "Performing cross-validation...: 5it [00:00, 213.13it/s]\n"
     ]
    },
    {
     "data": {
      "text/plain": [
       "<gojo.core.report.CVReport at 0x2d206657250>"
      ]
     },
     "execution_count": 15,
     "metadata": {},
     "output_type": "execute_result"
    }
   ],
   "source": [
    "# standarize the data based on the training data\n",
    "zscores_scaler = interfaces.SKLearnTransformWrapper(transform_class=StandardScaler)\n",
    "cv_obj = util.splitter.getCrossValObj(cv=5, repeats=1, stratified=True)\n",
    "\n",
    "cv_report = core.evalCrossVal(\n",
    "    X=X,\n",
    "    y=y,\n",
    "    model=model_cv,\n",
    "    cv=cv_obj,\n",
    "    save_train_preds=True,\n",
    "    save_models=True,\n",
    "    transforms=[zscores_scaler],\n",
    "    n_jobs=5\n",
    ")\n",
    "cv_report"
   ]
  },
  {
   "cell_type": "markdown",
   "id": "be33b55b-f81c-4614-816b-4317a7eea207",
   "metadata": {},
   "source": [
    "Let's calculate the performance obtained on the test set. In this case it is important to note that the parameter __bin_threshold__ is being specified since the predictions given by the model are probabilistic and to calculate the metrics it is necessary to binarize the predictions."
   ]
  },
  {
   "cell_type": "code",
   "execution_count": 16,
   "id": "a582ba29-42c1-4fbc-87b3-0ae14d2c949a",
   "metadata": {},
   "outputs": [
    {
     "data": {
      "text/html": [
       "<div>\n",
       "<style scoped>\n",
       "    .dataframe tbody tr th:only-of-type {\n",
       "        vertical-align: middle;\n",
       "    }\n",
       "\n",
       "    .dataframe tbody tr th {\n",
       "        vertical-align: top;\n",
       "    }\n",
       "\n",
       "    .dataframe thead th {\n",
       "        text-align: right;\n",
       "    }\n",
       "</style>\n",
       "<table border=\"1\" class=\"dataframe\">\n",
       "  <thead>\n",
       "    <tr style=\"text-align: right;\">\n",
       "      <th></th>\n",
       "      <th>Performance (test)</th>\n",
       "      <th>Performance (train)</th>\n",
       "    </tr>\n",
       "  </thead>\n",
       "  <tbody>\n",
       "    <tr>\n",
       "      <th>accuracy</th>\n",
       "      <td>0.978</td>\n",
       "      <td>0.996</td>\n",
       "    </tr>\n",
       "    <tr>\n",
       "      <th>balanced_accuracy</th>\n",
       "      <td>0.974</td>\n",
       "      <td>0.995</td>\n",
       "    </tr>\n",
       "    <tr>\n",
       "      <th>precision</th>\n",
       "      <td>0.987</td>\n",
       "      <td>1.000</td>\n",
       "    </tr>\n",
       "    <tr>\n",
       "      <th>recall</th>\n",
       "      <td>0.958</td>\n",
       "      <td>0.989</td>\n",
       "    </tr>\n",
       "    <tr>\n",
       "      <th>sensitivity</th>\n",
       "      <td>0.958</td>\n",
       "      <td>0.989</td>\n",
       "    </tr>\n",
       "    <tr>\n",
       "      <th>specificity</th>\n",
       "      <td>0.990</td>\n",
       "      <td>1.000</td>\n",
       "    </tr>\n",
       "    <tr>\n",
       "      <th>negative_predictive_value</th>\n",
       "      <td>0.974</td>\n",
       "      <td>0.993</td>\n",
       "    </tr>\n",
       "    <tr>\n",
       "      <th>f1_score</th>\n",
       "      <td>0.971</td>\n",
       "      <td>0.995</td>\n",
       "    </tr>\n",
       "    <tr>\n",
       "      <th>auc</th>\n",
       "      <td>0.999</td>\n",
       "      <td>1.000</td>\n",
       "    </tr>\n",
       "  </tbody>\n",
       "</table>\n",
       "</div>"
      ],
      "text/plain": [
       "                           Performance (test)  Performance (train)\n",
       "accuracy                                0.978                0.996\n",
       "balanced_accuracy                       0.974                0.995\n",
       "precision                               0.987                1.000\n",
       "recall                                  0.958                0.989\n",
       "sensitivity                             0.958                0.989\n",
       "specificity                             0.990                1.000\n",
       "negative_predictive_value               0.974                0.993\n",
       "f1_score                                0.971                0.995\n",
       "auc                                     0.999                1.000"
      ]
     },
     "execution_count": 16,
     "metadata": {},
     "output_type": "execute_result"
    }
   ],
   "source": [
    "performance = cv_report.getScores(\n",
    "    core.getDefaultMetrics('binary_classification', bin_threshold=0.5), supress_warnings=True)\n",
    "\n",
    "pd.concat([\n",
    "    pd.DataFrame(performance['test'].mean(), columns=['Performance (test)']).drop(index=['n_fold']).round(decimals=3),\n",
    "    pd.DataFrame(performance['train'].mean(), columns=['Performance (train)']).drop(index=['n_fold']).round(decimals=3)\n",
    "\n",
    "], axis=1)\n"
   ]
  },
  {
   "cell_type": "markdown",
   "id": "aea56456-36d8-4677-98fa-8a4c762d8560",
   "metadata": {},
   "source": [
    "Lets plot some ROC curves..."
   ]
  },
  {
   "cell_type": "code",
   "execution_count": 17,
   "id": "283259d1-2186-440d-bbec-3f7bba1181f5",
   "metadata": {},
   "outputs": [
    {
     "data": {
      "text/html": [
       "<div>\n",
       "<style scoped>\n",
       "    .dataframe tbody tr th:only-of-type {\n",
       "        vertical-align: middle;\n",
       "    }\n",
       "\n",
       "    .dataframe tbody tr th {\n",
       "        vertical-align: top;\n",
       "    }\n",
       "\n",
       "    .dataframe thead th {\n",
       "        text-align: right;\n",
       "    }\n",
       "</style>\n",
       "<table border=\"1\" class=\"dataframe\">\n",
       "  <thead>\n",
       "    <tr style=\"text-align: right;\">\n",
       "      <th></th>\n",
       "      <th></th>\n",
       "      <th>pred_labels</th>\n",
       "      <th>true_labels</th>\n",
       "    </tr>\n",
       "    <tr>\n",
       "      <th>n_fold</th>\n",
       "      <th>indices</th>\n",
       "      <th></th>\n",
       "      <th></th>\n",
       "    </tr>\n",
       "  </thead>\n",
       "  <tbody>\n",
       "    <tr>\n",
       "      <th rowspan=\"5\" valign=\"top\">0</th>\n",
       "      <th>14</th>\n",
       "      <td>0.000363</td>\n",
       "      <td>0</td>\n",
       "    </tr>\n",
       "    <tr>\n",
       "      <th>19</th>\n",
       "      <td>0.007147</td>\n",
       "      <td>0</td>\n",
       "    </tr>\n",
       "    <tr>\n",
       "      <th>20</th>\n",
       "      <td>0.046430</td>\n",
       "      <td>0</td>\n",
       "    </tr>\n",
       "    <tr>\n",
       "      <th>31</th>\n",
       "      <td>0.003143</td>\n",
       "      <td>0</td>\n",
       "    </tr>\n",
       "    <tr>\n",
       "      <th>36</th>\n",
       "      <td>0.022284</td>\n",
       "      <td>0</td>\n",
       "    </tr>\n",
       "  </tbody>\n",
       "</table>\n",
       "</div>"
      ],
      "text/plain": [
       "                pred_labels  true_labels\n",
       "n_fold indices                          \n",
       "0      14          0.000363            0\n",
       "       19          0.007147            0\n",
       "       20          0.046430            0\n",
       "       31          0.003143            0\n",
       "       36          0.022284            0"
      ]
     },
     "execution_count": 17,
     "metadata": {},
     "output_type": "execute_result"
    }
   ],
   "source": [
    "predictions = cv_report.getTestPredictions()\n",
    "predictions.head(5)"
   ]
  },
  {
   "cell_type": "code",
   "execution_count": 18,
   "id": "182fc7ba-2f8d-41ad-b7c9-1e5dcde7517d",
   "metadata": {},
   "outputs": [
    {
     "data": {
      "image/png": "[encoded data removed]",
      "text/plain": [
       "<Figure size 500x400 with 1 Axes>"
      ]
     },
     "metadata": {},
     "output_type": "display_data"
    }
   ],
   "source": [
    "plotting.roc(\n",
    "    df=predictions,\n",
    "    y_pred='pred_labels',\n",
    "    y_true='true_labels',\n",
    "    average='n_fold'\n",
    "    \n",
    ")"
   ]
  }
 ],
 "metadata": {
  "kernelspec": {
   "display_name": "mlv0",
   "language": "python",
   "name": "mlv0"
  },
  "language_info": {
   "codemirror_mode": {
    "name": "ipython",
    "version": 3
   },
   "file_extension": ".py",
   "mimetype": "text/x-python",
   "name": "python",
   "nbconvert_exporter": "python",
   "pygments_lexer": "ipython3",
   "version": "3.10.14"
  }
 },
 "nbformat": 4,
 "nbformat_minor": 5
}
