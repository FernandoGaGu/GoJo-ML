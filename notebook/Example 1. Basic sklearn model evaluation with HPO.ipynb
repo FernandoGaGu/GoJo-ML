{
 "cells": [
  {
   "cell_type": "markdown",
   "id": "d09be605-f284-4e8c-9f5f-456d2062aff6",
   "metadata": {},
   "source": [
    "# Example 1. Integration with _sklearn_ and _optuna_ for hyperparameter optimization"
   ]
  },
  {
   "cell_type": "markdown",
   "id": "1e9b6edd-1e5f-4d47-a2ef-bdcdaf5f841f",
   "metadata": {},
   "source": [
    "\n",
    "In this notebook, we showcase an illustration of a classical pipeline. Within this pipeline, a model and a hyperparameter grid are specified, and the model undergoes evaluation using the optimal combination of hyperparameters identified. The hyperparameter optimization is conducted through nested cross-validation to mitigate the risk of overfitting the models."
   ]
  },
  {
   "cell_type": "code",
   "execution_count": 1,
   "id": "3ada30bb-43d5-4ee6-afbd-05b434e51d74",
   "metadata": {
    "scrolled": true
   },
   "outputs": [],
   "source": [
    "import sys\n",
    "\n",
    "sys.path.append('..')   # the gojo library is in ../gojo\n",
    "\n",
    "import optuna\n",
    "import pandas as pd\n",
    "from sklearn import datasets\n",
    "from sklearn.svm import SVC\n",
    "from sklearn.preprocessing import StandardScaler\n",
    "from sklearn.decomposition import PCA\n",
    "\n",
    "# GOJO libraries\n",
    "import gojo\n",
    "from gojo import core\n",
    "\n",
    "N_JOBS = 8"
   ]
  },
  {
   "cell_type": "markdown",
   "id": "f224263d-52d7-4392-b5b6-768234e2d13c",
   "metadata": {},
   "source": [
    "Data loading, the problem corresponds to a binary classification using the typical wine dataset."
   ]
  },
  {
   "cell_type": "code",
   "execution_count": 2,
   "id": "b70513c4-248d-4be0-854a-73a844b0ec24",
   "metadata": {},
   "outputs": [],
   "source": [
    "# load test dataset (Wine)\n",
    "wine_dt = datasets.load_wine()\n",
    "\n",
    "# create the target variable. Classification problem 0 vs rest\n",
    "# to see the target names you can use wine_dt['target_names']\n",
    "y = (wine_dt['target'] == 1).astype(int)  \n",
    "X = wine_dt['data']"
   ]
  },
  {
   "cell_type": "markdown",
   "id": "3ec1cf51-2f9a-4de2-8448-d022e04772ee",
   "metadata": {},
   "source": [
    "Model definition."
   ]
  },
  {
   "cell_type": "code",
   "execution_count": 3,
   "id": "55de64b3-b15b-4648-a10e-a009557d1ad0",
   "metadata": {},
   "outputs": [],
   "source": [
    "# previous model transforms\n",
    "transforms = [\n",
    "    core.SKLearnTransformWrapper(StandardScaler),\n",
    "    core.SKLearnTransformWrapper(PCA, n_components=5)\n",
    "]\n",
    "\n",
    "# model hyperparameters\n",
    "search_space = {\n",
    "    'degree': ('suggest_int', (1, 10)),\n",
    "    'class_weight': ('suggest_categorical', [('balanced', None)]),\n",
    "    'coef0': ('suggest_float', (0.0, 100.00 ))\n",
    "}\n",
    "\n",
    "# default model\n",
    "model = core.SklearnModelWrapper(\n",
    "    SVC, kernel='poly', degree=1, coef0=0.0,\n",
    "    cache_size=1000, class_weight=None\n",
    ")"
   ]
  },
  {
   "cell_type": "markdown",
   "id": "b33d486c-e8cb-4c81-82df-9d16141fba75",
   "metadata": {},
   "source": [
    "Model evaluation using a simple cross-validation with the default parameters."
   ]
  },
  {
   "cell_type": "code",
   "execution_count": 4,
   "id": "353982ed-2754-4759-9635-ac04eaaeabc7",
   "metadata": {},
   "outputs": [
    {
     "name": "stderr",
     "output_type": "stream",
     "text": [
      "Performing cross-validation...: 5it [00:00, 205.10it/s]\n"
     ]
    }
   ],
   "source": [
    "# evaluate the model using a simple cross-validation strategy with a \n",
    "# default parameters\n",
    "cv_report = core.evalCrossVal(\n",
    "    X=X, y=y,\n",
    "    model=model,\n",
    "    cv=gojo.util.getCrossValObj(\n",
    "        cv=5, repeats=1, stratified=True, loocv=False, random_state=1997),\n",
    "    transforms=transforms,\n",
    "    verbose=True,\n",
    "    save_train_preds=True,\n",
    "    save_models=False,\n",
    "    save_transforms=False,\n",
    "    n_jobs=N_JOBS\n",
    ")"
   ]
  },
  {
   "cell_type": "markdown",
   "id": "4a5a7291-7720-4ecb-9d36-c96c127b496e",
   "metadata": {},
   "source": [
    "Report inspection of the optained results."
   ]
  },
  {
   "cell_type": "code",
   "execution_count": 5,
   "id": "a183155d-08d6-4952-89df-d8535240a7a5",
   "metadata": {},
   "outputs": [
    {
     "data": {
      "text/html": [
       "<div>\n",
       "<style scoped>\n",
       "    .dataframe tbody tr th:only-of-type {\n",
       "        vertical-align: middle;\n",
       "    }\n",
       "\n",
       "    .dataframe tbody tr th {\n",
       "        vertical-align: top;\n",
       "    }\n",
       "\n",
       "    .dataframe thead th {\n",
       "        text-align: right;\n",
       "    }\n",
       "</style>\n",
       "<table border=\"1\" class=\"dataframe\">\n",
       "  <thead>\n",
       "    <tr style=\"text-align: right;\">\n",
       "      <th></th>\n",
       "      <th>Train</th>\n",
       "      <th>Test</th>\n",
       "    </tr>\n",
       "  </thead>\n",
       "  <tbody>\n",
       "    <tr>\n",
       "      <th>accuracy</th>\n",
       "      <td>0.980</td>\n",
       "      <td>0.972</td>\n",
       "    </tr>\n",
       "    <tr>\n",
       "      <th>balanced_accuracy</th>\n",
       "      <td>0.977</td>\n",
       "      <td>0.965</td>\n",
       "    </tr>\n",
       "    <tr>\n",
       "      <th>precision</th>\n",
       "      <td>0.993</td>\n",
       "      <td>1.000</td>\n",
       "    </tr>\n",
       "    <tr>\n",
       "      <th>recall</th>\n",
       "      <td>0.958</td>\n",
       "      <td>0.930</td>\n",
       "    </tr>\n",
       "    <tr>\n",
       "      <th>sensitivity</th>\n",
       "      <td>0.958</td>\n",
       "      <td>0.930</td>\n",
       "    </tr>\n",
       "    <tr>\n",
       "      <th>specificity</th>\n",
       "      <td>0.995</td>\n",
       "      <td>1.000</td>\n",
       "    </tr>\n",
       "    <tr>\n",
       "      <th>negative_predictive_value</th>\n",
       "      <td>0.973</td>\n",
       "      <td>0.956</td>\n",
       "    </tr>\n",
       "    <tr>\n",
       "      <th>f1_score</th>\n",
       "      <td>0.975</td>\n",
       "      <td>0.963</td>\n",
       "    </tr>\n",
       "    <tr>\n",
       "      <th>auc</th>\n",
       "      <td>0.977</td>\n",
       "      <td>0.965</td>\n",
       "    </tr>\n",
       "  </tbody>\n",
       "</table>\n",
       "</div>"
      ],
      "text/plain": [
       "                           Train   Test\n",
       "accuracy                   0.980  0.972\n",
       "balanced_accuracy          0.977  0.965\n",
       "precision                  0.993  1.000\n",
       "recall                     0.958  0.930\n",
       "sensitivity                0.958  0.930\n",
       "specificity                0.995  1.000\n",
       "negative_predictive_value  0.973  0.956\n",
       "f1_score                   0.975  0.963\n",
       "auc                        0.977  0.965"
      ]
     },
     "execution_count": 5,
     "metadata": {},
     "output_type": "execute_result"
    }
   ],
   "source": [
    "scores = cv_report.getScores(\n",
    "    core.getDefaultMetrics('binary_classification', bin_threshold=0.5))\n",
    "results = pd.concat([\n",
    "    pd.DataFrame(scores['train'].mean(axis=0)).round(decimals=3),\n",
    "    pd.DataFrame(scores['test'].mean(axis=0)).round(decimals=3)], \n",
    "    axis=1).drop(index=['n_fold'])\n",
    "results.columns = ['Train', 'Test']\n",
    "results"
   ]
  },
  {
   "cell_type": "markdown",
   "id": "9db262ba-6368-4e36-bb14-4f3240294bd4",
   "metadata": {},
   "source": [
    "Model with hyper-parameter optimization using a nested cross-validation approach."
   ]
  },
  {
   "cell_type": "code",
   "execution_count": 6,
   "id": "f11958b4-97ba-4556-b02d-be26e11c08c4",
   "metadata": {
    "tags": []
   },
   "outputs": [
    {
     "name": "stderr",
     "output_type": "stream",
     "text": [
      "Performing cross-validation...: 5it [00:24,  4.90s/it]\n"
     ]
    }
   ],
   "source": [
    "# perform the HPO to optimice model-hyperparameters\n",
    "cv_report = core.evalCrossValNestedHPO(\n",
    "    X=X,\n",
    "    y=y,\n",
    "    model=model,\n",
    "    search_space=search_space,\n",
    "    outer_cv=gojo.util.getCrossValObj(\n",
    "        cv=5, repeats=1, stratified=True, loocv=False, random_state=1997),\n",
    "    inner_cv=gojo.util.getCrossValObj(\n",
    "        cv=5, repeats=1, stratified=True, loocv=False, random_state=1997),\n",
    "    hpo_sampler=optuna.samplers.TPESampler(n_startup_trials=40),\n",
    "    hpo_n_trials=80,\n",
    "    minimization=False,\n",
    "    transforms=transforms,\n",
    "    metrics=core.getDefaultMetrics('binary_classification', bin_threshold=0.5),\n",
    "    objective_metric='f1_score',\n",
    "    verbose=1,\n",
    "    save_train_preds=True,\n",
    "    save_models=False,\n",
    "    n_jobs=8\n",
    ")"
   ]
  },
  {
   "cell_type": "code",
   "execution_count": 7,
   "id": "ef7da273-1a0f-493f-96bb-95a79fdc6244",
   "metadata": {},
   "outputs": [
    {
     "data": {
      "text/html": [
       "<div>\n",
       "<style scoped>\n",
       "    .dataframe tbody tr th:only-of-type {\n",
       "        vertical-align: middle;\n",
       "    }\n",
       "\n",
       "    .dataframe tbody tr th {\n",
       "        vertical-align: top;\n",
       "    }\n",
       "\n",
       "    .dataframe thead th {\n",
       "        text-align: right;\n",
       "    }\n",
       "</style>\n",
       "<table border=\"1\" class=\"dataframe\">\n",
       "  <thead>\n",
       "    <tr style=\"text-align: right;\">\n",
       "      <th></th>\n",
       "      <th>Train</th>\n",
       "      <th>Test</th>\n",
       "    </tr>\n",
       "  </thead>\n",
       "  <tbody>\n",
       "    <tr>\n",
       "      <th>accuracy</th>\n",
       "      <td>0.987</td>\n",
       "      <td>0.960</td>\n",
       "    </tr>\n",
       "    <tr>\n",
       "      <th>balanced_accuracy</th>\n",
       "      <td>0.986</td>\n",
       "      <td>0.960</td>\n",
       "    </tr>\n",
       "    <tr>\n",
       "      <th>precision</th>\n",
       "      <td>0.986</td>\n",
       "      <td>0.946</td>\n",
       "    </tr>\n",
       "    <tr>\n",
       "      <th>recall</th>\n",
       "      <td>0.982</td>\n",
       "      <td>0.958</td>\n",
       "    </tr>\n",
       "    <tr>\n",
       "      <th>sensitivity</th>\n",
       "      <td>0.982</td>\n",
       "      <td>0.958</td>\n",
       "    </tr>\n",
       "    <tr>\n",
       "      <th>specificity</th>\n",
       "      <td>0.991</td>\n",
       "      <td>0.962</td>\n",
       "    </tr>\n",
       "    <tr>\n",
       "      <th>negative_predictive_value</th>\n",
       "      <td>0.988</td>\n",
       "      <td>0.971</td>\n",
       "    </tr>\n",
       "    <tr>\n",
       "      <th>f1_score</th>\n",
       "      <td>0.984</td>\n",
       "      <td>0.951</td>\n",
       "    </tr>\n",
       "    <tr>\n",
       "      <th>auc</th>\n",
       "      <td>0.986</td>\n",
       "      <td>0.960</td>\n",
       "    </tr>\n",
       "  </tbody>\n",
       "</table>\n",
       "</div>"
      ],
      "text/plain": [
       "                           Train   Test\n",
       "accuracy                   0.987  0.960\n",
       "balanced_accuracy          0.986  0.960\n",
       "precision                  0.986  0.946\n",
       "recall                     0.982  0.958\n",
       "sensitivity                0.982  0.958\n",
       "specificity                0.991  0.962\n",
       "negative_predictive_value  0.988  0.971\n",
       "f1_score                   0.984  0.951\n",
       "auc                        0.986  0.960"
      ]
     },
     "execution_count": 7,
     "metadata": {},
     "output_type": "execute_result"
    }
   ],
   "source": [
    "scores = cv_report.getScores(\n",
    "    core.getDefaultMetrics('binary_classification', bin_threshold=0.5))\n",
    "results = pd.concat([\n",
    "    pd.DataFrame(scores['train'].mean(axis=0)).round(decimals=3),\n",
    "    pd.DataFrame(scores['test'].mean(axis=0)).round(decimals=3)], \n",
    "    axis=1).drop(index=['n_fold'])\n",
    "results.columns = ['Train', 'Test']\n",
    "results"
   ]
  }
 ],
 "metadata": {
  "kernelspec": {
   "display_name": "Python 3 (ipykernel)",
   "language": "python",
   "name": "python3"
  },
  "language_info": {
   "codemirror_mode": {
    "name": "ipython",
    "version": 3
   },
   "file_extension": ".py",
   "mimetype": "text/x-python",
   "name": "python",
   "nbconvert_exporter": "python",
   "pygments_lexer": "ipython3",
   "version": "3.9.16"
  }
 },
 "nbformat": 4,
 "nbformat_minor": 5
}
