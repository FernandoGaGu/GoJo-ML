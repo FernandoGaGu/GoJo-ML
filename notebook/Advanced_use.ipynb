{
 "cells": [
  {
   "cell_type": "markdown",
   "id": "087a818b-1916-4e1a-995b-81e329bc0bf4",
   "metadata": {},
   "source": [
    "# Advanced use\n",
    "\n",
    "This notebook is intended for those users who want to make advanced use of the module by defining their own advanced functionalities and benefit from the subroutines already implemented in the __gojo__ library."
   ]
  },
  {
   "cell_type": "code",
   "execution_count": 1,
   "id": "954bc79a-89a3-4a19-a3aa-c1736c9a6dfa",
   "metadata": {},
   "outputs": [],
   "source": [
    "import numpy as np\n",
    "from sklearn import datasets"
   ]
  },
  {
   "cell_type": "code",
   "execution_count": 2,
   "id": "3b69fb72-f914-473d-aeed-66cd57a963e2",
   "metadata": {},
   "outputs": [
    {
     "data": {
      "text/plain": [
       "((178, 13), (178,))"
      ]
     },
     "execution_count": 2,
     "metadata": {},
     "output_type": "execute_result"
    }
   ],
   "source": [
    "# For the tests we will use the test dataset used in Example 1....\n",
    "# load test dataset (Wine)\n",
    "wine_dt = datasets.load_wine()\n",
    "\n",
    "# create the target variable. Classification problem 0 vs rest\n",
    "# to see the target names you can use wine_dt['target_names']\n",
    "y = (wine_dt['target'] == 1).astype(int)  \n",
    "X = wine_dt['data']\n",
    "\n",
    "X.shape, y.shape"
   ]
  },
  {
   "cell_type": "markdown",
   "id": "25c42caa-5f02-496e-9b0b-fad9aaeb4469",
   "metadata": {},
   "source": [
    "## Definition of your own transformations (gojo.interfaces.Transform)\n",
    "\n",
    "To define your own transformations you can make use of the __gojo.interfaces.Transform__ class. Let's see how to define our own transformations using an example. \n",
    "\n",
    "In the example we will implement a very naive strategy of feature selection based on trying different combinations of variables (number of variables in each combination defined by __n\\_vars__, and number of interations specified by __n\\_iters__) and selecting the combination that works best. To evaluate the quality of the selected variables we will use the GaussianNB__ model of sklearn.\n",
    "\n",
    "> For more information use: __help(interfaces.Transform)__"
   ]
  },
  {
   "cell_type": "code",
   "execution_count": 3,
   "id": "ec057f29-22a7-4292-93d5-0bdc57f5aa5e",
   "metadata": {},
   "outputs": [
    {
     "name": "stderr",
     "output_type": "stream",
     "text": [
      "C:\\Users\\fgarcia\\anaconda3\\envs\\mlv0\\lib\\site-packages\\tqdm\\auto.py:21: TqdmWarning: IProgress not found. Please update jupyter and ipywidgets. See https://ipywidgets.readthedocs.io/en/stable/user_install.html\n",
      "  from .autonotebook import tqdm as notebook_tqdm\n"
     ]
    }
   ],
   "source": [
    "from sklearn.svm import SVC\n",
    "from sklearn.naive_bayes import GaussianNB\n",
    "from sklearn.preprocessing import StandardScaler\n",
    "from sklearn.model_selection import cross_val_score\n",
    "\n",
    "from gojo import interfaces\n",
    "from gojo import core\n",
    "from gojo import util"
   ]
  },
  {
   "cell_type": "code",
   "execution_count": 4,
   "id": "a96716b2-8c19-410c-9d4c-61fc031691bd",
   "metadata": {},
   "outputs": [],
   "source": [
    "class RandomPermutationSelection(interfaces.Transform):\n",
    "    def __init__(self, n_vars: int, n_iters: int, random_state: int = None):\n",
    "        super().__init__()    # IMPORTANT. Don't forget to call the superclass constructor\n",
    "        \n",
    "        self.n_vars = n_vars\n",
    "        self.n_iters = n_iters\n",
    "        self.random_state = random_state\n",
    "        self.selected_features = None\n",
    "\n",
    "    def fit(self, X: np.ndarray, y: np.ndarray, **_):\n",
    "\n",
    "        # fix the random seed\n",
    "        np.random.seed(self.random_state)\n",
    "\n",
    "        # create a selection array\n",
    "        findex = np.arange(X.shape[1])\n",
    "\n",
    "        # iterate over random feature sets\n",
    "        best_fset = None\n",
    "        best_score = -np.inf\n",
    "        for _ in range(self.n_iters):\n",
    "            binary_mask = np.zeros(shape=X.shape[1])\n",
    "\n",
    "            # random shuffle of findex\n",
    "            np.random.shuffle(findex)\n",
    "\n",
    "            # get selected features\n",
    "            binary_mask[findex[:self.n_vars]] = 1\n",
    "            sel_features = np.where(binary_mask == 1)[0]\n",
    "\n",
    "            # test model performance\n",
    "            cv_score = cross_val_score(\n",
    "                GaussianNB(), \n",
    "                X=X[:, sel_features], \n",
    "                y=y,\n",
    "                scoring='f1')\n",
    "            avg_cv_score = np.mean(cv_score)\n",
    "            \n",
    "            # save features\n",
    "            if avg_cv_score > best_score:\n",
    "                best_score = avg_cv_score\n",
    "                best_fset = sel_features\n",
    "            \n",
    "        self.selected_features = best_fset\n",
    "\n",
    "    def transform(self, X: np.ndarray, **_):\n",
    "        assert self.selected_features is not None, 'Unfitted transform'\n",
    "        return X[:, self.selected_features]\n",
    "\n",
    "    def reset(self):\n",
    "        self.selected_features = None"
   ]
  },
  {
   "cell_type": "code",
   "execution_count": 5,
   "id": "89fac5a1-aeea-4231-9c22-35634abbc745",
   "metadata": {},
   "outputs": [],
   "source": [
    "fselector = RandomPermutationSelection(\n",
    "    n_vars=5, n_iters=500)\n",
    "\n",
    "fselector.fit(X, y)"
   ]
  },
  {
   "cell_type": "code",
   "execution_count": 6,
   "id": "1f5008a0-efef-4d75-85d3-01d5eb24c094",
   "metadata": {},
   "outputs": [
    {
     "data": {
      "text/plain": [
       "array([ 0,  4,  9, 10, 12], dtype=int64)"
      ]
     },
     "execution_count": 6,
     "metadata": {},
     "output_type": "execute_result"
    }
   ],
   "source": [
    "fselector.selected_features"
   ]
  },
  {
   "cell_type": "code",
   "execution_count": 7,
   "id": "17ef11a9-dc19-4d76-a87b-0e339a1c8399",
   "metadata": {},
   "outputs": [
    {
     "data": {
      "text/plain": [
       "(None, array([ 0,  4,  9, 10, 12], dtype=int64))"
      ]
     },
     "execution_count": 7,
     "metadata": {},
     "output_type": "execute_result"
    }
   ],
   "source": [
    "fselector_copy = fselector.copy()   # test the copy method\n",
    "fselector.reset()                   # reset the transform\n",
    "fselector.selected_features, fselector_copy.selected_features"
   ]
  },
  {
   "cell_type": "markdown",
   "id": "99c47117-3c0f-41f1-b7c1-c7ad41709d18",
   "metadata": {},
   "source": [
    "Now that we have implemented our custom transformation, we are going to introduce it into a cross validation loop by saving the transformations so that we can explore the selected characteristics of each fold. Here we are going to use the same model and approach used in the notebook __Example 1. Model evaluation by cross validation.ipynb__"
   ]
  },
  {
   "cell_type": "code",
   "execution_count": 8,
   "id": "7eb47e3d-306b-43e1-a2f6-858fb8752625",
   "metadata": {},
   "outputs": [],
   "source": [
    "# model definition\n",
    "model = interfaces.SklearnModelWrapper(\n",
    "    model_class=SVC,\n",
    "    kernel='poly', degree=1, coef0=0.0,\n",
    "    cache_size=1000, class_weight=None\n",
    ")\n",
    "\n",
    "# cross-validation definition\n",
    "cv_obj = util.splitter.getCrossValObj(cv=5, repeats=1, stratified=True)\n",
    "\n",
    "\n",
    "# z-score scaling \n",
    "zscores_scaler = interfaces.SKLearnTransformWrapper(transform_class=StandardScaler)\n",
    "\n",
    "# put all transformation in a list (they will be applied sequentially)\n",
    "transformations = [zscores_scaler, fselector]"
   ]
  },
  {
   "cell_type": "code",
   "execution_count": 9,
   "id": "4c22ca4d-bd7d-4303-9900-690237cd3795",
   "metadata": {},
   "outputs": [
    {
     "name": "stderr",
     "output_type": "stream",
     "text": [
      "Performing cross-validation...: 5it [00:00, 363.73it/s]\n"
     ]
    }
   ],
   "source": [
    "cv_report = core.evalCrossVal(\n",
    "    X=X,\n",
    "    y=y,\n",
    "    model=model,\n",
    "    cv=cv_obj,\n",
    "    save_train_preds=True,\n",
    "    save_models=True,\n",
    "    save_transforms=True,    \n",
    "    transforms=transformations,\n",
    "    n_jobs=5\n",
    ")\n"
   ]
  },
  {
   "cell_type": "code",
   "execution_count": 10,
   "id": "f96940a2-1982-4fc2-9c28-3a3673f4d916",
   "metadata": {},
   "outputs": [
    {
     "data": {
      "text/html": [
       "<div>\n",
       "<style scoped>\n",
       "    .dataframe tbody tr th:only-of-type {\n",
       "        vertical-align: middle;\n",
       "    }\n",
       "\n",
       "    .dataframe tbody tr th {\n",
       "        vertical-align: top;\n",
       "    }\n",
       "\n",
       "    .dataframe thead th {\n",
       "        text-align: right;\n",
       "    }\n",
       "</style>\n",
       "<table border=\"1\" class=\"dataframe\">\n",
       "  <thead>\n",
       "    <tr style=\"text-align: right;\">\n",
       "      <th></th>\n",
       "      <th>accuracy</th>\n",
       "      <th>balanced_accuracy</th>\n",
       "      <th>precision</th>\n",
       "      <th>recall</th>\n",
       "      <th>sensitivity</th>\n",
       "      <th>specificity</th>\n",
       "      <th>negative_predictive_value</th>\n",
       "      <th>f1_score</th>\n",
       "      <th>auc</th>\n",
       "      <th>n_fold</th>\n",
       "    </tr>\n",
       "  </thead>\n",
       "  <tbody>\n",
       "    <tr>\n",
       "      <th>0</th>\n",
       "      <td>0.916667</td>\n",
       "      <td>0.905844</td>\n",
       "      <td>0.923077</td>\n",
       "      <td>0.857143</td>\n",
       "      <td>0.857143</td>\n",
       "      <td>0.954545</td>\n",
       "      <td>0.913043</td>\n",
       "      <td>0.888889</td>\n",
       "      <td>0.905844</td>\n",
       "      <td>0</td>\n",
       "    </tr>\n",
       "    <tr>\n",
       "      <th>1</th>\n",
       "      <td>0.916667</td>\n",
       "      <td>0.892857</td>\n",
       "      <td>1.000000</td>\n",
       "      <td>0.785714</td>\n",
       "      <td>0.785714</td>\n",
       "      <td>1.000000</td>\n",
       "      <td>0.880000</td>\n",
       "      <td>0.880000</td>\n",
       "      <td>0.892857</td>\n",
       "      <td>1</td>\n",
       "    </tr>\n",
       "    <tr>\n",
       "      <th>2</th>\n",
       "      <td>0.916667</td>\n",
       "      <td>0.909524</td>\n",
       "      <td>0.928571</td>\n",
       "      <td>0.866667</td>\n",
       "      <td>0.866667</td>\n",
       "      <td>0.952381</td>\n",
       "      <td>0.909091</td>\n",
       "      <td>0.896552</td>\n",
       "      <td>0.909524</td>\n",
       "      <td>2</td>\n",
       "    </tr>\n",
       "    <tr>\n",
       "      <th>3</th>\n",
       "      <td>0.914286</td>\n",
       "      <td>0.904762</td>\n",
       "      <td>0.923077</td>\n",
       "      <td>0.857143</td>\n",
       "      <td>0.857143</td>\n",
       "      <td>0.952381</td>\n",
       "      <td>0.909091</td>\n",
       "      <td>0.888889</td>\n",
       "      <td>0.904762</td>\n",
       "      <td>3</td>\n",
       "    </tr>\n",
       "    <tr>\n",
       "      <th>4</th>\n",
       "      <td>0.942857</td>\n",
       "      <td>0.952381</td>\n",
       "      <td>0.875000</td>\n",
       "      <td>1.000000</td>\n",
       "      <td>1.000000</td>\n",
       "      <td>0.904762</td>\n",
       "      <td>1.000000</td>\n",
       "      <td>0.933333</td>\n",
       "      <td>0.952381</td>\n",
       "      <td>4</td>\n",
       "    </tr>\n",
       "  </tbody>\n",
       "</table>\n",
       "</div>"
      ],
      "text/plain": [
       "   accuracy  balanced_accuracy  precision    recall  sensitivity  specificity  \\\n",
       "0  0.916667           0.905844   0.923077  0.857143     0.857143     0.954545   \n",
       "1  0.916667           0.892857   1.000000  0.785714     0.785714     1.000000   \n",
       "2  0.916667           0.909524   0.928571  0.866667     0.866667     0.952381   \n",
       "3  0.914286           0.904762   0.923077  0.857143     0.857143     0.952381   \n",
       "4  0.942857           0.952381   0.875000  1.000000     1.000000     0.904762   \n",
       "\n",
       "   negative_predictive_value  f1_score       auc  n_fold  \n",
       "0                   0.913043  0.888889  0.905844       0  \n",
       "1                   0.880000  0.880000  0.892857       1  \n",
       "2                   0.909091  0.896552  0.909524       2  \n",
       "3                   0.909091  0.888889  0.904762       3  \n",
       "4                   1.000000  0.933333  0.952381       4  "
      ]
     },
     "execution_count": 10,
     "metadata": {},
     "output_type": "execute_result"
    }
   ],
   "source": [
    "performance = cv_report.getScores(\n",
    "    core.getDefaultMetrics('binary_classification')\n",
    ")\n",
    "performance['test']"
   ]
  },
  {
   "cell_type": "code",
   "execution_count": 11,
   "id": "12fc59d8-b638-456b-a29b-d9daf305d4bb",
   "metadata": {},
   "outputs": [
    {
     "data": {
      "text/plain": [
       "0.8975325670498083"
      ]
     },
     "execution_count": 11,
     "metadata": {},
     "output_type": "execute_result"
    }
   ],
   "source": [
    "performance['test'].mean().loc['f1_score']"
   ]
  },
  {
   "cell_type": "code",
   "execution_count": 12,
   "id": "4318dc06-9cdf-414c-911e-a420c10d0416",
   "metadata": {},
   "outputs": [
    {
     "data": {
      "text/plain": [
       "{0: [SKLearnTransformWrapper(\n",
       "      base_transform='sklearn.preprocessing._data.StandardScaler',\n",
       "      transform_params={}\n",
       "  ),\n",
       "  <__main__.RandomPermutationSelection at 0x27156732f50>],\n",
       " 1: [SKLearnTransformWrapper(\n",
       "      base_transform='sklearn.preprocessing._data.StandardScaler',\n",
       "      transform_params={}\n",
       "  ),\n",
       "  <__main__.RandomPermutationSelection at 0x27156731780>],\n",
       " 2: [SKLearnTransformWrapper(\n",
       "      base_transform='sklearn.preprocessing._data.StandardScaler',\n",
       "      transform_params={}\n",
       "  ),\n",
       "  <__main__.RandomPermutationSelection at 0x27156732110>],\n",
       " 3: [SKLearnTransformWrapper(\n",
       "      base_transform='sklearn.preprocessing._data.StandardScaler',\n",
       "      transform_params={}\n",
       "  ),\n",
       "  <__main__.RandomPermutationSelection at 0x27156732260>],\n",
       " 4: [SKLearnTransformWrapper(\n",
       "      base_transform='sklearn.preprocessing._data.StandardScaler',\n",
       "      transform_params={}\n",
       "  ),\n",
       "  <__main__.RandomPermutationSelection at 0x27156732020>]}"
      ]
     },
     "execution_count": 12,
     "metadata": {},
     "output_type": "execute_result"
    }
   ],
   "source": [
    "fitted_transforms = cv_report.getFittedTransforms()\n",
    "fitted_transforms"
   ]
  },
  {
   "cell_type": "markdown",
   "id": "82d944d7-543a-4d36-ae7f-89ff65799e34",
   "metadata": {},
   "source": [
    "Lets explore the selected features in each fold"
   ]
  },
  {
   "cell_type": "code",
   "execution_count": 13,
   "id": "0c172ec3-b777-4bff-b542-dab30d974f42",
   "metadata": {},
   "outputs": [
    {
     "name": "stdout",
     "output_type": "stream",
     "text": [
      "Selected features in fold 0: [0, 2, 4, 9, 10]\n",
      "Selected features in fold 1: [0, 2, 7, 9, 10]\n",
      "Selected features in fold 2: [4, 6, 9, 10, 12]\n",
      "Selected features in fold 3: [0, 2, 4, 8, 9]\n",
      "Selected features in fold 4: [0, 2, 5, 9, 10]\n"
     ]
    }
   ],
   "source": [
    "for n_fold, transform in fitted_transforms.items():\n",
    "    print('Selected features in fold %d: %r' % (n_fold, list(transform[1].selected_features)))"
   ]
  },
  {
   "cell_type": "markdown",
   "id": "fc8730b8-aae6-4322-a801-f02242590d2d",
   "metadata": {},
   "source": [
    "We have seen that this feature selection, although naive, tends to select always the same features."
   ]
  }
 ],
 "metadata": {
  "kernelspec": {
   "display_name": "mlv0",
   "language": "python",
   "name": "mlv0"
  },
  "language_info": {
   "codemirror_mode": {
    "name": "ipython",
    "version": 3
   },
   "file_extension": ".py",
   "mimetype": "text/x-python",
   "name": "python",
   "nbconvert_exporter": "python",
   "pygments_lexer": "ipython3",
   "version": "3.10.14"
  }
 },
 "nbformat": 4,
 "nbformat_minor": 5
}
