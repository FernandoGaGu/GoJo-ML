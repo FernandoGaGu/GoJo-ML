{
 "cells": [
  {
   "cell_type": "code",
   "execution_count": 1,
   "id": "384c966c-6508-4503-be44-7b8bf5db8088",
   "metadata": {},
   "outputs": [
    {
     "ename": "SyntaxError",
     "evalue": "invalid syntax (loading.py, line 516)",
     "output_type": "error",
     "traceback": [
      "Traceback \u001b[0;36m(most recent call last)\u001b[0m:\n",
      "  File \u001b[1;32m\"/home/fgarcia/anaconda3/envs/acespeech/lib/python3.9/site-packages/IPython/core/interactiveshell.py\"\u001b[0m, line \u001b[1;32m3457\u001b[0m, in \u001b[1;35mrun_code\u001b[0m\n    exec(code_obj, self.user_global_ns, self.user_ns)\n",
      "  File \u001b[1;32m\"/tmp/ipykernel_8354/2014473867.py\"\u001b[0m, line \u001b[1;32m17\u001b[0m, in \u001b[1;35m<module>\u001b[0m\n    from gojo import core\n",
      "  File \u001b[1;32m\"/home/fgarcia/Escritorio/github/Gojo-ML/notebook/../gojo/__init__.py\"\u001b[0m, line \u001b[1;32m1\u001b[0m, in \u001b[1;35m<module>\u001b[0m\n    from . import core\n",
      "  File \u001b[1;32m\"/home/fgarcia/Escritorio/github/Gojo-ML/notebook/../gojo/core/__init__.py\"\u001b[0m, line \u001b[1;32m9\u001b[0m, in \u001b[1;35m<module>\u001b[0m\n    from .loops import (\n",
      "  File \u001b[1;32m\"/home/fgarcia/Escritorio/github/Gojo-ML/notebook/../gojo/core/loops.py\"\u001b[0m, line \u001b[1;32m24\u001b[0m, in \u001b[1;35m<module>\u001b[0m\n    from ..interfaces import (\n",
      "  File \u001b[1;32m\"/home/fgarcia/Escritorio/github/Gojo-ML/notebook/../gojo/interfaces/__init__.py\"\u001b[0m, line \u001b[1;32m1\u001b[0m, in \u001b[1;35m<module>\u001b[0m\n    from .model import (\n",
      "  File \u001b[1;32m\"/home/fgarcia/Escritorio/github/Gojo-ML/notebook/../gojo/interfaces/model.py\"\u001b[0m, line \u001b[1;32m15\u001b[0m, in \u001b[1;35m<module>\u001b[0m\n    from ..deepl.loops import fitNeuralNetwork\n",
      "\u001b[0;36m  File \u001b[0;32m\"/home/fgarcia/Escritorio/github/Gojo-ML/notebook/../gojo/deepl/__init__.py\"\u001b[0;36m, line \u001b[0;32m8\u001b[0;36m, in \u001b[0;35m<module>\u001b[0;36m\u001b[0m\n\u001b[0;31m    from . import loading\u001b[0m\n",
      "\u001b[0;36m  File \u001b[0;32m\"/home/fgarcia/Escritorio/github/Gojo-ML/notebook/../gojo/deepl/loading.py\"\u001b[0;36m, line \u001b[0;32m516\u001b[0m\n\u001b[0;31m    class\u001b[0m\n\u001b[0m          ^\u001b[0m\n\u001b[0;31mSyntaxError\u001b[0m\u001b[0;31m:\u001b[0m invalid syntax\n"
     ]
    }
   ],
   "source": [
    "import sys\n",
    "\n",
    "sys.path.append('..')   # the gojo library is in ../gojo\n",
    "\n",
    "import pandas as pd\n",
    "import matplotlib.pyplot as plt\n",
    "from sklearn import datasets\n",
    "from sklearn.svm import SVC\n",
    "from sklearn.preprocessing import StandardScaler\n",
    "from sklearn.decomposition import PCA\n",
    "from sklearn.manifold import TSNE\n",
    "\n",
    "# for a simpler use, we load the different submodules of the library\n",
    "#     - the gojo.core module contains all the subroutines used to evaluate the models\n",
    "#     - the gojo.interfaces module provides a standardized way to interact with the different elements of gojo.core\n",
    "#     - the gojo.util module implements some utilities\n",
    "from gojo import core\n",
    "from gojo import interfaces\n",
    "from gojo import util\n",
    "from gojo import deepl\n"
   ]
  },
  {
   "cell_type": "code",
   "execution_count": null,
   "id": "9970399e-1415-4f98-bc1c-c2fc3eeb832e",
   "metadata": {},
   "outputs": [],
   "source": [
    "# load test dataset (Wine)\n",
    "wine_dt = datasets.load_wine()\n",
    "\n",
    "# create the target variable. Classification problem 0 vs rest\n",
    "# to see the target names you can use wine_dt['target_names']\n",
    "y = (wine_dt['target'] == 1).astype(int)  \n",
    "X = wine_dt['data']\n",
    "\n",
    "X.shape, y.shape"
   ]
  },
  {
   "cell_type": "code",
   "execution_count": null,
   "id": "2f417c43-63b6-4e76-933b-ce3d3fe4ef5d",
   "metadata": {},
   "outputs": [],
   "source": []
  },
  {
   "cell_type": "code",
   "execution_count": null,
   "id": "6b49b83c-c036-46b9-8083-1da17a7d2b9f",
   "metadata": {},
   "outputs": [],
   "source": []
  }
 ],
 "metadata": {
  "kernelspec": {
   "display_name": "acespeech",
   "language": "python",
   "name": "acespeech"
  },
  "language_info": {
   "codemirror_mode": {
    "name": "ipython",
    "version": 3
   },
   "file_extension": ".py",
   "mimetype": "text/x-python",
   "name": "python",
   "nbconvert_exporter": "python",
   "pygments_lexer": "ipython3",
   "version": "3.9.13"
  }
 },
 "nbformat": 4,
 "nbformat_minor": 5
}
