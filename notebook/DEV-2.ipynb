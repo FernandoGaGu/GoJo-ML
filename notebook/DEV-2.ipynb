{
 "cells": [
  {
   "cell_type": "code",
   "execution_count": 1,
   "id": "4c7ec566-f06c-43f2-9823-9c7548ff14f6",
   "metadata": {},
   "outputs": [],
   "source": [
    "import sys\n",
    "import pandas as pd\n",
    "\n",
    "sys.path.append('..')\n",
    "\n",
    "import torch\n",
    "from sklearn import datasets\n",
    "from sklearn.model_selection import train_test_split\n",
    "\n",
    "# DEID libraries\n",
    "from gojo import core\n",
    "from gojo import deepl\n",
    "from gojo import util\n",
    "from gojo import plotting"
   ]
  },
  {
   "cell_type": "code",
   "execution_count": 2,
   "id": "1b50fbd6-a8a7-435f-b5d2-a52059b1b800",
   "metadata": {},
   "outputs": [
    {
     "data": {
      "text/plain": [
       "((142, 13), (36, 13), '0.401', '0.389')"
      ]
     },
     "execution_count": 2,
     "metadata": {},
     "output_type": "execute_result"
    }
   ],
   "source": [
    "# load test dataset (Wine)\n",
    "wine_dt = datasets.load_wine()\n",
    "\n",
    "# create the target variable. Classification problem 0 vs rest\n",
    "# to see the target names you can use wine_dt['target_names']\n",
    "y = (wine_dt['target'] == 1).astype(int)  \n",
    "X = wine_dt['data']\n",
    "\n",
    "# standarize input data\n",
    "std_X = util.zscoresScaling(X)\n",
    "\n",
    "# split Xs and Ys in training and validation\n",
    "X_train, X_valid, y_train, y_valid = train_test_split(\n",
    "    std_X, y, train_size=0.8, random_state=1997, shuffle=True,\n",
    "    stratify=y\n",
    ")\n",
    "X_train.shape, X_valid.shape, '%.3f' % y_train.mean(),  '%.3f' % y_valid.mean()"
   ]
  },
  {
   "cell_type": "code",
   "execution_count": 3,
   "id": "6c58daaf-31ca-4b1b-a1fe-82ce7159943c",
   "metadata": {},
   "outputs": [
    {
     "data": {
      "text/plain": [
       "ParametrizedTorchSKInterface(\n",
       "    model=Sequential(\n",
       "  (LinearLayer 0): Linear(in_features=13, out_features=20, bias=True)\n",
       "  (Activation 0): ELU(alpha=1.0)\n",
       "  (LinearLayer 1): Linear(in_features=20, out_features=1, bias=True)\n",
       "  (Activation 1): Sigmoid()\n",
       "),\n",
       "    iter_fn=<function iterSupervisedEpoch at 0x7fc98b4ce5e0>,\n",
       "    loss_function=BCELoss(),\n",
       "    n_epochs=50,\n",
       "    train_split=0.8,\n",
       "    train_split_stratify=True,\n",
       "    optimizer_class=<class 'torch.optim.adam.Adam'>,\n",
       "    dataset_class=<class 'gojo.deepl.loading.TorchDataset'>,\n",
       "    dataloader_class=<class 'torch.utils.data.dataloader.DataLoader'>,\n",
       "    optimizer_kw={'lr': 0.001},\n",
       "    train_dataset_kw={},\n",
       "    valid_dataset_kw={},\n",
       "    train_dataloader_kw={'batch_size': 16, 'shuffle': True},\n",
       "    valid_dataloader_kw={'batch_size': 142},\n",
       "    iter_fn_kw={},\n",
       "    callbacks=None,\n",
       "    metrics=[Metric(\n",
       "    name=f1_score,\n",
       "    function_kw={},\n",
       "    multiclass=False\n",
       ")],\n",
       "    seed=1997,\n",
       "    device=mps,\n",
       "    verbose=1,\n",
       "    generating_fn=<function createSimpleFFNModel at 0x7fc98b4df310>,\n",
       "    gf_params={'in_feats': 13, 'out_feats': 1, 'layer_dims': [20], 'layer_activation': 'ELU', 'output_activation': 'Sigmoid'}\n",
       ")"
      ]
     },
     "execution_count": 3,
     "metadata": {},
     "output_type": "execute_result"
    }
   ],
   "source": [
    "model = core.ParametrizedTorchSKInterface(\n",
    "    generating_fn=deepl.ffn.createSimpleFFNModel,\n",
    "    gf_params=dict(\n",
    "        in_feats=X_train.shape[1],\n",
    "        out_feats=1,\n",
    "        layer_dims=[20],\n",
    "        layer_activation='ELU',\n",
    "        output_activation='Sigmoid'),\n",
    "    iter_fn=deepl.iterSupervisedEpoch,\n",
    "    loss_function=torch.nn.BCELoss(),\n",
    "    n_epochs=50,\n",
    "    train_split=0.8,\n",
    "    train_split_stratify=True,\n",
    "    optimizer_class=torch.optim.Adam,\n",
    "    dataset_class=deepl.loading.TorchDataset,\n",
    "    dataloader_class=torch.utils.data.DataLoader,\n",
    "    optimizer_kw=dict(\n",
    "        lr=0.001\n",
    "    ),\n",
    "    train_dataset_kw=None,\n",
    "    valid_dataset_kw=None,\n",
    "    train_dataloader_kw=dict(\n",
    "        batch_size=16,\n",
    "        shuffle=True\n",
    "    ),\n",
    "    valid_dataloader_kw=dict(\n",
    "        batch_size=X_train.shape[0]\n",
    "    ),\n",
    "    iter_fn_kw= None,\n",
    "    callbacks= None,\n",
    "    seed=1997,\n",
    "    device='mps',\n",
    "    metrics=core.getDefaultMetrics('binary_classification', bin_threshold=0.5, select=['f1_score']),\n",
    "    verbose=1\n",
    "    \n",
    ")\n",
    "model"
   ]
  },
  {
   "cell_type": "code",
   "execution_count": null,
   "id": "6b3d31f9-506c-4eb1-b3bb-80d5fafe6cef",
   "metadata": {},
   "outputs": [
    {
     "name": "stderr",
     "output_type": "stream",
     "text": [
      "Training model...:   6%|██▋                                          | 3/50 [00:06<01:17,  1.66s/it]"
     ]
    }
   ],
   "source": [
    "model.train(X_train, y_train)"
   ]
  },
  {
   "cell_type": "code",
   "execution_count": null,
   "id": "68fd6d12-ff4b-4d22-bc5d-efa48963b045",
   "metadata": {},
   "outputs": [],
   "source": [
    "model_history = model.fitting_history\n",
    "\n",
    "# display model convergence\n",
    "plotting.linePlot(\n",
    "    model_history['train'], model_history['valid'],\n",
    "    x='epoch', y='loss (mean)', err='loss (std)',\n",
    "    legend_labels=['Train', 'Validation'],\n",
    "    title='Model convergence',\n",
    "    ls=['solid', 'dashed'],\n",
    "    legend_pos='center right')\n",
    "\n",
    "# display model performance\n",
    "plotting.linePlot(\n",
    "    model_history['train'], model_history['valid'],\n",
    "    x='epoch', y='f1_score', \n",
    "    legend_labels=['Train', 'Validation'],\n",
    "    title='Model F1-score',\n",
    "    ls=['solid', 'dashed'],\n",
    "    legend_pos='center right')"
   ]
  },
  {
   "cell_type": "code",
   "execution_count": null,
   "id": "be05cc3b-4440-4d28-bcfb-edd6faa2c782",
   "metadata": {},
   "outputs": [],
   "source": [
    "model.update(\n",
    "    n_epochs=100,\n",
    "    train_dataloader_kw__batch_size=32,\n",
    "    gf_params__layer_dims=[5, 5, 5],\n",
    "    metrics=core.getDefaultMetrics('binary_classification', bin_threshold=0.5, select=['f1_score', 'auc'])\n",
    ")\n",
    "\n",
    "model"
   ]
  },
  {
   "cell_type": "code",
   "execution_count": null,
   "id": "10a4635f-c856-4e10-8585-b8dcd8b1b9d6",
   "metadata": {},
   "outputs": [],
   "source": [
    "y_hat = model.performInference(X_valid)"
   ]
  },
  {
   "cell_type": "code",
   "execution_count": null,
   "id": "fc4f2e47-ea41-4263-a667-4ece44ab109d",
   "metadata": {
    "tags": []
   },
   "outputs": [],
   "source": [
    "((y_hat > 0.5) == (y_valid > 0.5)).mean()"
   ]
  },
  {
   "cell_type": "code",
   "execution_count": null,
   "id": "04717ff1-c8a8-4176-89ed-aa71335f2ca0",
   "metadata": {},
   "outputs": [],
   "source": [
    "pd.DataFrame([core.getScores(y_true=y_valid, y_pred=y_hat, \n",
    "               metrics=core.getDefaultMetrics('binary_classification', bin_threshold=0.5))]).T.round(decimals=3)"
   ]
  },
  {
   "cell_type": "code",
   "execution_count": null,
   "id": "eb7c7b3e-741d-4625-9a2f-bcb5ffeb590c",
   "metadata": {},
   "outputs": [],
   "source": [
    "model.train(X_train, y_train)"
   ]
  },
  {
   "cell_type": "code",
   "execution_count": null,
   "id": "d41b314f-c53b-4e48-816a-e7cbe45194ab",
   "metadata": {},
   "outputs": [],
   "source": [
    "model_history = model.fitting_history\n",
    "\n",
    "# display model convergence\n",
    "plotting.linePlot(\n",
    "    model_history['train'], model_history['valid'],\n",
    "    x='epoch', y='loss (mean)', err='loss (std)',\n",
    "    legend_labels=['Train', 'Validation'],\n",
    "    title='Model convergence',\n",
    "    ls=['solid', 'dashed'],\n",
    "    legend_pos='center right')\n",
    "\n",
    "# display model performance\n",
    "plotting.linePlot(\n",
    "    model_history['train'], model_history['valid'],\n",
    "    x='epoch', y='f1_score', \n",
    "    legend_labels=['Train', 'Validation'],\n",
    "    title='Model F1-score',\n",
    "    ls=['solid', 'dashed'],\n",
    "    legend_pos='center right')"
   ]
  },
  {
   "cell_type": "code",
   "execution_count": null,
   "id": "9c4f6c21-5dd2-4b75-a2d7-9eca4dfc1e03",
   "metadata": {},
   "outputs": [],
   "source": [
    "y_hat = model.performInference(X_valid)\n",
    "pd.DataFrame([core.getScores(y_true=y_valid, y_pred=y_hat, \n",
    "               metrics=core.getDefaultMetrics('binary_classification', bin_threshold=0.5))]).T.round(decimals=3)"
   ]
  },
  {
   "cell_type": "code",
   "execution_count": null,
   "id": "4a546e8b-19a1-4d44-ab0d-69a1e1506449",
   "metadata": {},
   "outputs": [],
   "source": [
    "# reset the model and perform the predictions\n",
    "model.resetFit()\n",
    "y_hat = model.performInference(X_valid)\n",
    "pd.DataFrame([core.getScores(y_true=y_valid, y_pred=y_hat, \n",
    "               metrics=core.getDefaultMetrics('binary_classification', bin_threshold=0.5))]).T.round(decimals=3)"
   ]
  },
  {
   "cell_type": "code",
   "execution_count": null,
   "id": "32b5a9a5-b15c-417d-9937-02ab771d51f9",
   "metadata": {},
   "outputs": [],
   "source": [
    "model_history = model.fitting_history\n",
    "\n",
    "# display model convergence\n",
    "plotting.linePlot(\n",
    "    model_history['train'], model_history['valid'],\n",
    "    x='epoch', y='loss (mean)', err='loss (std)',\n",
    "    legend_labels=['Train', 'Validation'],\n",
    "    title='Model convergence',\n",
    "    ls=['solid', 'dashed'],\n",
    "    legend_pos='center right')\n",
    "\n",
    "# display model performance\n",
    "plotting.linePlot(\n",
    "    model_history['train'], model_history['valid'],\n",
    "    x='epoch', y='f1_score', \n",
    "    legend_labels=['Train', 'Validation'],\n",
    "    title='Model F1-score',\n",
    "    ls=['solid', 'dashed'],\n",
    "    legend_pos='center right')"
   ]
  },
  {
   "cell_type": "code",
   "execution_count": null,
   "id": "b35bf0bc-2e0a-4063-94ef-a535a54335d9",
   "metadata": {},
   "outputs": [],
   "source": [
    "# reset the model and perform the predictions\n",
    "model.train(X_train, y_train)\n",
    "y_hat = model.performInference(X_valid)\n",
    "core.getScores(y_true=y_valid, y_pred=y_hat, \n",
    "               metrics=core.getDefaultMetrics('binary_classification', bin_threshold=0.5))"
   ]
  },
  {
   "cell_type": "code",
   "execution_count": null,
   "id": "25862ff5-f36e-49f0-8fcd-65db21eec01e",
   "metadata": {},
   "outputs": [],
   "source": []
  },
  {
   "cell_type": "code",
   "execution_count": null,
   "id": "d070d623-c3f5-4307-af6c-e6407ad09082",
   "metadata": {},
   "outputs": [],
   "source": []
  },
  {
   "cell_type": "code",
   "execution_count": null,
   "id": "f70b7047-7944-4dbf-8a01-0f3c8065cd61",
   "metadata": {},
   "outputs": [],
   "source": []
  },
  {
   "cell_type": "code",
   "execution_count": null,
   "id": "96b5ec2f-ab06-4c08-bded-4f73e86d2d68",
   "metadata": {},
   "outputs": [],
   "source": []
  },
  {
   "cell_type": "code",
   "execution_count": null,
   "id": "b82d83e0-2aa0-426f-956b-572f1f6351c6",
   "metadata": {},
   "outputs": [],
   "source": []
  },
  {
   "cell_type": "code",
   "execution_count": null,
   "id": "bf4bc014-9486-418a-8d80-07dea5cd8648",
   "metadata": {},
   "outputs": [],
   "source": []
  },
  {
   "cell_type": "code",
   "execution_count": null,
   "id": "ee01ef17-f390-4c32-b574-095ff1841c19",
   "metadata": {},
   "outputs": [],
   "source": []
  },
  {
   "cell_type": "code",
   "execution_count": null,
   "id": "2433c734-f683-491a-8874-8605a866cd1c",
   "metadata": {},
   "outputs": [],
   "source": []
  },
  {
   "cell_type": "code",
   "execution_count": null,
   "id": "31a0c938-75f4-4858-ac06-626f471c8779",
   "metadata": {},
   "outputs": [],
   "source": []
  },
  {
   "cell_type": "code",
   "execution_count": null,
   "id": "3a952d83-34f3-4d92-87e6-457e40a484e8",
   "metadata": {},
   "outputs": [],
   "source": []
  }
 ],
 "metadata": {
  "kernelspec": {
   "display_name": "Python 3 (ipykernel)",
   "language": "python",
   "name": "python3"
  },
  "language_info": {
   "codemirror_mode": {
    "name": "ipython",
    "version": 3
   },
   "file_extension": ".py",
   "mimetype": "text/x-python",
   "name": "python",
   "nbconvert_exporter": "python",
   "pygments_lexer": "ipython3",
   "version": "3.9.16"
  }
 },
 "nbformat": 4,
 "nbformat_minor": 5
}
